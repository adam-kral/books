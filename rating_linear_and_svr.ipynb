{
 "cells": [
  {
   "cell_type": "markdown",
   "source": [
    "Predict rating of a book for a user\n",
    "\n",
    "6500 books (after filtr.), 11000 users, 320K ratings, of which 111K explicit\n",
    "\n",
    "nebo < 2OO ratings per user filter\n",
    "- 224K total ratings, of which 91K explicit ratings\n",
    "    - otazka jak vypada histogram explicit ratings per book/user\n",
    "\n",
    "ratings - málo, protože implicit musim ignorovat\n",
    "- mozna by šlo self training na implicit ratings?\n",
    "    - dost prace, takze ted ne\n"
   ],
   "metadata": {
    "collapsed": false
   }
  },
  {
   "cell_type": "code",
   "execution_count": 1,
   "outputs": [
    {
     "name": "stderr",
     "output_type": "stream",
     "text": [
      "2023-09-24 22:05:35.341650: I tensorflow/core/platform/cpu_feature_guard.cc:182] This TensorFlow binary is optimized to use available CPU instructions in performance-critical operations.\n",
      "To enable the following instructions: SSE4.1 SSE4.2 AVX AVX2 FMA, in other operations, rebuild TensorFlow with the appropriate compiler flags.\n"
     ]
    }
   ],
   "source": [
    "from pathlib import Path\n",
    "from dataset import read_bx_csv\n",
    "\n",
    "data_root = Path('data/BX-CSV-Dump')\n",
    "users = read_bx_csv(data_root / 'BX-Users.csv')\n",
    "books = read_bx_csv(data_root / 'BX-Books.csv')\n",
    "ratings = read_bx_csv(data_root / 'BX-Book-Ratings.csv')"
   ],
   "metadata": {
    "collapsed": false
   }
  },
  {
   "cell_type": "code",
   "execution_count": 2,
   "outputs": [
    {
     "data": {
      "text/plain": "   User-ID        ISBN  Book-Rating  \\\n0   276725  034545104X            0   \n1     2313  034545104X            5   \n2     2313  0812533550            9   \n3     2313  0679745580            8   \n4     2313  0060173289            9   \n\n                                         Book-Title       Book-Author  \\\n0                              Flesh Tones: A Novel        M. J. Rose   \n1                              Flesh Tones: A Novel        M. J. Rose   \n2     Ender's Game (Ender Wiggins Saga (Paperback))  Orson Scott Card   \n3             In Cold Blood (Vintage International)     TRUMAN CAPOTE   \n4  Divine Secrets of the Ya-Ya Sisterhood : A Novel     Rebecca Wells   \n\n   Year-Of-Publication         Publisher               Location   Age  \n0                 2002  Ballantine Books      tyler, texas, usa   NaN  \n1                 2002  Ballantine Books  cincinnati, ohio, usa  23.0  \n2                 1986         Tor Books  cincinnati, ohio, usa  23.0  \n3                 1994           Vintage  cincinnati, ohio, usa  23.0  \n4                 1996     HarperCollins  cincinnati, ohio, usa  23.0  ",
      "text/html": "<div>\n<style scoped>\n    .dataframe tbody tr th:only-of-type {\n        vertical-align: middle;\n    }\n\n    .dataframe tbody tr th {\n        vertical-align: top;\n    }\n\n    .dataframe thead th {\n        text-align: right;\n    }\n</style>\n<table border=\"1\" class=\"dataframe\">\n  <thead>\n    <tr style=\"text-align: right;\">\n      <th></th>\n      <th>User-ID</th>\n      <th>ISBN</th>\n      <th>Book-Rating</th>\n      <th>Book-Title</th>\n      <th>Book-Author</th>\n      <th>Year-Of-Publication</th>\n      <th>Publisher</th>\n      <th>Location</th>\n      <th>Age</th>\n    </tr>\n  </thead>\n  <tbody>\n    <tr>\n      <th>0</th>\n      <td>276725</td>\n      <td>034545104X</td>\n      <td>0</td>\n      <td>Flesh Tones: A Novel</td>\n      <td>M. J. Rose</td>\n      <td>2002</td>\n      <td>Ballantine Books</td>\n      <td>tyler, texas, usa</td>\n      <td>NaN</td>\n    </tr>\n    <tr>\n      <th>1</th>\n      <td>2313</td>\n      <td>034545104X</td>\n      <td>5</td>\n      <td>Flesh Tones: A Novel</td>\n      <td>M. J. Rose</td>\n      <td>2002</td>\n      <td>Ballantine Books</td>\n      <td>cincinnati, ohio, usa</td>\n      <td>23.0</td>\n    </tr>\n    <tr>\n      <th>2</th>\n      <td>2313</td>\n      <td>0812533550</td>\n      <td>9</td>\n      <td>Ender's Game (Ender Wiggins Saga (Paperback))</td>\n      <td>Orson Scott Card</td>\n      <td>1986</td>\n      <td>Tor Books</td>\n      <td>cincinnati, ohio, usa</td>\n      <td>23.0</td>\n    </tr>\n    <tr>\n      <th>3</th>\n      <td>2313</td>\n      <td>0679745580</td>\n      <td>8</td>\n      <td>In Cold Blood (Vintage International)</td>\n      <td>TRUMAN CAPOTE</td>\n      <td>1994</td>\n      <td>Vintage</td>\n      <td>cincinnati, ohio, usa</td>\n      <td>23.0</td>\n    </tr>\n    <tr>\n      <th>4</th>\n      <td>2313</td>\n      <td>0060173289</td>\n      <td>9</td>\n      <td>Divine Secrets of the Ya-Ya Sisterhood : A Novel</td>\n      <td>Rebecca Wells</td>\n      <td>1996</td>\n      <td>HarperCollins</td>\n      <td>cincinnati, ohio, usa</td>\n      <td>23.0</td>\n    </tr>\n  </tbody>\n</table>\n</div>"
     },
     "execution_count": 2,
     "metadata": {},
     "output_type": "execute_result"
    }
   ],
   "source": [
    "# create wide form of ratings\n",
    "ratings_wide = ratings.merge(books, on='ISBN').merge(users, on='User-ID').drop(columns=[f'Image-URL-{size}' for size in 'SML'])\n",
    "ratings_wide.head()"
   ],
   "metadata": {
    "collapsed": false
   }
  },
  {
   "cell_type": "code",
   "execution_count": 3,
   "outputs": [],
   "source": [
    "from dataset import filter_ratings\n",
    "f_ratings_wide = filter_ratings(ratings_wide, user_ratings_max_count=200)"
   ],
   "metadata": {
    "collapsed": false
   }
  },
  {
   "cell_type": "code",
   "execution_count": 4,
   "outputs": [],
   "source": [
    "# clip user age to 100\n",
    "f_ratings_wide['Age'] = f_ratings_wide['Age'].clip(upper=100)"
   ],
   "metadata": {
    "collapsed": false
   }
  },
  {
   "cell_type": "code",
   "execution_count": 5,
   "outputs": [
    {
     "data": {
      "text/plain": "<Axes: >"
     },
     "execution_count": 5,
     "metadata": {},
     "output_type": "execute_result"
    },
    {
     "data": {
      "text/plain": "<Figure size 640x480 with 1 Axes>",
      "image/png": "[encoded data removed]"
     },
     "metadata": {},
     "output_type": "display_data"
    }
   ],
   "source": [
    "# aggregate users from filtered ratings\n",
    "f_users = f_ratings_wide.groupby('User-ID').first().reset_index()\n",
    "f_users.Age.hist(bins=20)"
   ],
   "metadata": {
    "collapsed": false
   }
  },
  {
   "cell_type": "code",
   "execution_count": 6,
   "outputs": [],
   "source": [
    "# replace n/a in user age with -100 (for bucketing to onehot - unknown age will get its own category)\n",
    "f_ratings_wide['Age'] = f_ratings_wide['Age'].fillna(-100)"
   ],
   "metadata": {
    "collapsed": false
   }
  },
  {
   "cell_type": "code",
   "execution_count": 7,
   "outputs": [
    {
     "data": {
      "text/plain": "<Axes: >"
     },
     "execution_count": 7,
     "metadata": {},
     "output_type": "execute_result"
    },
    {
     "data": {
      "text/plain": "<Figure size 640x480 with 1 Axes>",
      "image/png": "[encoded data removed]"
     },
     "metadata": {},
     "output_type": "display_data"
    }
   ],
   "source": [
    "# aggregate books from filtered ratings\n",
    "f_books = f_ratings_wide.groupby('ISBN').first().reset_index()\n",
    "f_books[f_books['Year-Of-Publication'] > 0]['Year-Of-Publication'].hist(bins=20)"
   ],
   "metadata": {
    "collapsed": false
   }
  },
  {
   "cell_type": "code",
   "execution_count": 8,
   "outputs": [
    {
     "data": {
      "text/plain": "User-ID                0\nISBN                   0\nBook-Rating            0\nBook-Title             0\nBook-Author            0\nYear-Of-Publication    0\nPublisher              0\nLocation               0\nAge                    0\nbook_ratings_count     0\nuser_ratings_count     0\ndtype: int64"
     },
     "execution_count": 8,
     "metadata": {},
     "output_type": "execute_result"
    }
   ],
   "source": [
    "f_ratings_wide.isna().sum()"
   ],
   "metadata": {
    "collapsed": false
   }
  },
  {
   "cell_type": "code",
   "execution_count": 9,
   "outputs": [],
   "source": [
    "import numpy as np"
   ],
   "metadata": {
    "collapsed": false
   }
  },
  {
   "cell_type": "code",
   "execution_count": 10,
   "outputs": [],
   "source": [
    "%load_ext autoreload\n",
    "%autoreload complete --print\n",
    "\n",
    "from sklearn.model_selection import GridSearchCV\n",
    "from sklearn.linear_model import Ridge\n",
    "from sklearn.pipeline import Pipeline\n",
    "from statistics import LinearRegression\n",
    "from sklearn.preprocessing import OneHotEncoder, KBinsDiscretizer\n",
    "from sklearn.compose import ColumnTransformer\n",
    "from sklearn.model_selection import train_test_split\n",
    "from sklearn.metrics import mean_squared_error\n",
    "\n",
    "import pandas as pd\n",
    "\n",
    "from hash_transform import HashingTransformer"
   ],
   "metadata": {
    "collapsed": false
   }
  },
  {
   "cell_type": "code",
   "execution_count": 11,
   "outputs": [
    {
     "name": "stderr",
     "output_type": "stream",
     "text": [
      "/Users/adam/venvs/datasentics-uloha/lib/python3.11/site-packages/sklearn/preprocessing/_discretization.py:239: FutureWarning: In version 1.5 onwards, subsample=200_000 will be used by default. Set subsample explicitly to silence this warning in the mean time. Set subsample=None to disable subsampling explicitly.\n",
      "  warnings.warn(\n",
      "/Users/adam/venvs/datasentics-uloha/lib/python3.11/site-packages/sklearn/preprocessing/_discretization.py:313: UserWarning: Bins whose width are too small (i.e., <= 1e-8) in feature 0 are removed. Consider decreasing the number of bins.\n",
      "  warnings.warn(\n"
     ]
    }
   ],
   "source": [
    "\n",
    "# todo fix Location\n",
    "#   that really could be important, esp. if people cannot read in all languages in the dataset\n",
    "categoricals = ['Book-Author', 'Publisher'] #'Location']\n",
    "\n",
    "preprocessor = ColumnTransformer(transformers=[\n",
    "    ('onehot', OneHotEncoder(), categoricals),\n",
    "    ('bucketize_yop', KBinsDiscretizer(n_bins=12, strategy='kmeans'), ['Year-Of-Publication']),\n",
    "    ('bucketize_age', KBinsDiscretizer(n_bins=10), ['Age']),\n",
    "    ('hash', HashingTransformer(bit_size=128), ['User-ID', 'ISBN']),\n",
    "], remainder='drop')\n",
    "\n",
    "X = preprocessor.fit_transform(f_ratings_wide)\n",
    "y = f_ratings_wide['Book-Rating']\n",
    "\n",
    "# # Define and fit pipeline\n",
    "# pipeline = Pipeline([\n",
    "#     ('hashing', HashingTransformer(bit_size=128), ['User-ID', 'ISBN']),\n",
    "#     ('linear_reg', Ridge())\n",
    "# ])"
   ],
   "metadata": {
    "collapsed": false
   }
  },
  {
   "cell_type": "code",
   "execution_count": 12,
   "outputs": [
    {
     "name": "stdout",
     "output_type": "stream",
     "text": [
      "Performing grid search...\n"
     ]
    },
    {
     "data": {
      "text/plain": "GridSearchCV(cv=5, estimator=Ridge(), n_jobs=-1,\n             param_grid={'alpha': [0.1, 1.0, 10.0, 100.0]})",
      "text/html": "<style>#sk-container-id-1 {color: black;}#sk-container-id-1 pre{padding: 0;}#sk-container-id-1 div.sk-toggleable {background-color: white;}#sk-container-id-1 label.sk-toggleable__label {cursor: pointer;display: block;width: 100%;margin-bottom: 0;padding: 0.3em;box-sizing: border-box;text-align: center;}#sk-container-id-1 label.sk-toggleable__label-arrow:before {content: \"▸\";float: left;margin-right: 0.25em;color: #696969;}#sk-container-id-1 label.sk-toggleable__label-arrow:hover:before {color: black;}#sk-container-id-1 div.sk-estimator:hover label.sk-toggleable__label-arrow:before {color: black;}#sk-container-id-1 div.sk-toggleable__content {max-height: 0;max-width: 0;overflow: hidden;text-align: left;background-color: #f0f8ff;}#sk-container-id-1 div.sk-toggleable__content pre {margin: 0.2em;color: black;border-radius: 0.25em;background-color: #f0f8ff;}#sk-container-id-1 input.sk-toggleable__control:checked~div.sk-toggleable__content {max-height: 200px;max-width: 100%;overflow: auto;}#sk-container-id-1 input.sk-toggleable__control:checked~label.sk-toggleable__label-arrow:before {content: \"▾\";}#sk-container-id-1 div.sk-estimator input.sk-toggleable__control:checked~label.sk-toggleable__label {background-color: #d4ebff;}#sk-container-id-1 div.sk-label input.sk-toggleable__control:checked~label.sk-toggleable__label {background-color: #d4ebff;}#sk-container-id-1 input.sk-hidden--visually {border: 0;clip: rect(1px 1px 1px 1px);clip: rect(1px, 1px, 1px, 1px);height: 1px;margin: -1px;overflow: hidden;padding: 0;position: absolute;width: 1px;}#sk-container-id-1 div.sk-estimator {font-family: monospace;background-color: #f0f8ff;border: 1px dotted black;border-radius: 0.25em;box-sizing: border-box;margin-bottom: 0.5em;}#sk-container-id-1 div.sk-estimator:hover {background-color: #d4ebff;}#sk-container-id-1 div.sk-parallel-item::after {content: \"\";width: 100%;border-bottom: 1px solid gray;flex-grow: 1;}#sk-container-id-1 div.sk-label:hover label.sk-toggleable__label {background-color: #d4ebff;}#sk-container-id-1 div.sk-serial::before {content: \"\";position: absolute;border-left: 1px solid gray;box-sizing: border-box;top: 0;bottom: 0;left: 50%;z-index: 0;}#sk-container-id-1 div.sk-serial {display: flex;flex-direction: column;align-items: center;background-color: white;padding-right: 0.2em;padding-left: 0.2em;position: relative;}#sk-container-id-1 div.sk-item {position: relative;z-index: 1;}#sk-container-id-1 div.sk-parallel {display: flex;align-items: stretch;justify-content: center;background-color: white;position: relative;}#sk-container-id-1 div.sk-item::before, #sk-container-id-1 div.sk-parallel-item::before {content: \"\";position: absolute;border-left: 1px solid gray;box-sizing: border-box;top: 0;bottom: 0;left: 50%;z-index: -1;}#sk-container-id-1 div.sk-parallel-item {display: flex;flex-direction: column;z-index: 1;position: relative;background-color: white;}#sk-container-id-1 div.sk-parallel-item:first-child::after {align-self: flex-end;width: 50%;}#sk-container-id-1 div.sk-parallel-item:last-child::after {align-self: flex-start;width: 50%;}#sk-container-id-1 div.sk-parallel-item:only-child::after {width: 0;}#sk-container-id-1 div.sk-dashed-wrapped {border: 1px dashed gray;margin: 0 0.4em 0.5em 0.4em;box-sizing: border-box;padding-bottom: 0.4em;background-color: white;}#sk-container-id-1 div.sk-label label {font-family: monospace;font-weight: bold;display: inline-block;line-height: 1.2em;}#sk-container-id-1 div.sk-label-container {text-align: center;}#sk-container-id-1 div.sk-container {/* jupyter's `normalize.less` sets `[hidden] { display: none; }` but bootstrap.min.css set `[hidden] { display: none !important; }` so we also need the `!important` here to be able to override the default hidden behavior on the sphinx rendered scikit-learn.org. See: https://github.com/scikit-learn/scikit-learn/issues/21755 */display: inline-block !important;position: relative;}#sk-container-id-1 div.sk-text-repr-fallback {display: none;}</style><div id=\"sk-container-id-1\" class=\"sk-top-container\"><div class=\"sk-text-repr-fallback\"><pre>GridSearchCV(cv=5, estimator=Ridge(), n_jobs=-1,\n             param_grid={&#x27;alpha&#x27;: [0.1, 1.0, 10.0, 100.0]})</pre><b>In a Jupyter environment, please rerun this cell to show the HTML representation or trust the notebook. <br />On GitHub, the HTML representation is unable to render, please try loading this page with nbviewer.org.</b></div><div class=\"sk-container\" hidden><div class=\"sk-item sk-dashed-wrapped\"><div class=\"sk-label-container\"><div class=\"sk-label sk-toggleable\"><input class=\"sk-toggleable__control sk-hidden--visually\" id=\"sk-estimator-id-1\" type=\"checkbox\" ><label for=\"sk-estimator-id-1\" class=\"sk-toggleable__label sk-toggleable__label-arrow\">GridSearchCV</label><div class=\"sk-toggleable__content\"><pre>GridSearchCV(cv=5, estimator=Ridge(), n_jobs=-1,\n             param_grid={&#x27;alpha&#x27;: [0.1, 1.0, 10.0, 100.0]})</pre></div></div></div><div class=\"sk-parallel\"><div class=\"sk-parallel-item\"><div class=\"sk-item\"><div class=\"sk-label-container\"><div class=\"sk-label sk-toggleable\"><input class=\"sk-toggleable__control sk-hidden--visually\" id=\"sk-estimator-id-2\" type=\"checkbox\" ><label for=\"sk-estimator-id-2\" class=\"sk-toggleable__label sk-toggleable__label-arrow\">estimator: Ridge</label><div class=\"sk-toggleable__content\"><pre>Ridge()</pre></div></div></div><div class=\"sk-serial\"><div class=\"sk-item\"><div class=\"sk-estimator sk-toggleable\"><input class=\"sk-toggleable__control sk-hidden--visually\" id=\"sk-estimator-id-3\" type=\"checkbox\" ><label for=\"sk-estimator-id-3\" class=\"sk-toggleable__label sk-toggleable__label-arrow\">Ridge</label><div class=\"sk-toggleable__content\"><pre>Ridge()</pre></div></div></div></div></div></div></div></div></div></div>"
     },
     "execution_count": 12,
     "metadata": {},
     "output_type": "execute_result"
    }
   ],
   "source": [
    "ridge = Ridge()\n",
    "\n",
    "print(\"Performing grid search...\")\n",
    "param_grid = {\n",
    "    'alpha': [0.1, 1.0, 10.0, 100.0],\n",
    "}\n",
    "\n",
    "grid_search = GridSearchCV(ridge, param_grid, cv=5, n_jobs=-1)\n",
    "grid_search.fit(X, y)\n"
   ],
   "metadata": {
    "collapsed": false
   }
  },
  {
   "cell_type": "code",
   "execution_count": 13,
   "outputs": [
    {
     "data": {
      "text/plain": "{'mean_fit_time': array([198.92492089,  93.75545673,  42.96543546,  17.61922297]),\n 'std_fit_time': array([25.98663461,  8.80900556,  2.39937238,  4.1629966 ]),\n 'mean_score_time': array([0.29619703, 0.10488162, 0.07059917, 0.05615077]),\n 'std_score_time': array([0.14570728, 0.03709257, 0.02615292, 0.02646119]),\n 'param_alpha': masked_array(data=[0.1, 1.0, 10.0, 100.0],\n              mask=[False, False, False, False],\n        fill_value='?',\n             dtype=object),\n 'params': [{'alpha': 0.1}, {'alpha': 1.0}, {'alpha': 10.0}, {'alpha': 100.0}],\n 'split0_test_score': array([-0.02472927, -0.02241322, -0.01471337, -0.01051135]),\n 'split1_test_score': array([0.00496199, 0.00670269, 0.01234487, 0.01424666]),\n 'split2_test_score': array([0.00159485, 0.0028877 , 0.00724034, 0.00857082]),\n 'split3_test_score': array([0.00120137, 0.00252854, 0.00699012, 0.0073255 ]),\n 'split4_test_score': array([-0.04452817, -0.04198559, -0.03534115, -0.03047344]),\n 'mean_test_score': array([-0.01229985, -0.01045598, -0.00469584, -0.00216836]),\n 'std_test_score': array([0.01932083, 0.01885823, 0.01793826, 0.01640548]),\n 'rank_test_score': array([4, 3, 2, 1], dtype=int32)}"
     },
     "execution_count": 13,
     "metadata": {},
     "output_type": "execute_result"
    }
   ],
   "source": [
    "grid_search.cv_results_\n"
   ],
   "metadata": {
    "collapsed": false
   }
  },
  {
   "cell_type": "code",
   "execution_count": 14,
   "outputs": [
    {
     "name": "stdout",
     "output_type": "stream",
     "text": [
      "<sklearn.metrics._scorer._PassthroughScorer object at 0x161570110>\n"
     ]
    }
   ],
   "source": [
    "print(grid_search.scorer_)"
   ],
   "metadata": {
    "collapsed": false
   }
  },
  {
   "cell_type": "code",
   "execution_count": 15,
   "outputs": [
    {
     "name": "stdout",
     "output_type": "stream",
     "text": [
      "RMSE: 3.917100765325795\n",
      "MSE: 15.34367840571593\n"
     ]
    }
   ],
   "source": [
    "from sklearn.model_selection import train_test_split\n",
    "# compute mean squared error on test set\n",
    "from sklearn.metrics import mean_squared_error\n",
    "X_train, X_test, y_train, y_test = train_test_split(X, y, test_size=0.2)\n",
    "\n",
    "best_estimator = grid_search.best_estimator_\n",
    "best_estimator.fit(X_train, y_train)\n",
    "\n",
    "y_pred = best_estimator.predict(X_test)\n",
    "mse = mean_squared_error(y_test, y_pred)\n",
    "rmse = np.sqrt(mse)\n",
    "\n",
    "print(f'RMSE: {rmse}', f'MSE: {mse}', sep='\\n')"
   ],
   "metadata": {
    "collapsed": false
   }
  },
  {
   "cell_type": "code",
   "execution_count": 16,
   "outputs": [
    {
     "name": "stderr",
     "output_type": "stream",
     "text": [
      "/Users/adam/venvs/datasentics-uloha/lib/python3.11/site-packages/sklearn/preprocessing/_discretization.py:239: FutureWarning: In version 1.5 onwards, subsample=200_000 will be used by default. Set subsample explicitly to silence this warning in the mean time. Set subsample=None to disable subsampling explicitly.\n",
      "  warnings.warn(\n",
      "/Users/adam/venvs/datasentics-uloha/lib/python3.11/site-packages/sklearn/preprocessing/_discretization.py:313: UserWarning: Bins whose width are too small (i.e., <= 1e-8) in feature 0 are removed. Consider decreasing the number of bins.\n",
      "  warnings.warn(\n"
     ]
    },
    {
     "name": "stdout",
     "output_type": "stream",
     "text": [
      "Performing grid search...\n"
     ]
    },
    {
     "data": {
      "text/plain": "GridSearchCV(cv=5, estimator=Ridge(), n_jobs=-1,\n             param_grid={'alpha': [0.1, 1.0, 10.0, 100.0]})",
      "text/html": "<style>#sk-container-id-2 {color: black;}#sk-container-id-2 pre{padding: 0;}#sk-container-id-2 div.sk-toggleable {background-color: white;}#sk-container-id-2 label.sk-toggleable__label {cursor: pointer;display: block;width: 100%;margin-bottom: 0;padding: 0.3em;box-sizing: border-box;text-align: center;}#sk-container-id-2 label.sk-toggleable__label-arrow:before {content: \"▸\";float: left;margin-right: 0.25em;color: #696969;}#sk-container-id-2 label.sk-toggleable__label-arrow:hover:before {color: black;}#sk-container-id-2 div.sk-estimator:hover label.sk-toggleable__label-arrow:before {color: black;}#sk-container-id-2 div.sk-toggleable__content {max-height: 0;max-width: 0;overflow: hidden;text-align: left;background-color: #f0f8ff;}#sk-container-id-2 div.sk-toggleable__content pre {margin: 0.2em;color: black;border-radius: 0.25em;background-color: #f0f8ff;}#sk-container-id-2 input.sk-toggleable__control:checked~div.sk-toggleable__content {max-height: 200px;max-width: 100%;overflow: auto;}#sk-container-id-2 input.sk-toggleable__control:checked~label.sk-toggleable__label-arrow:before {content: \"▾\";}#sk-container-id-2 div.sk-estimator input.sk-toggleable__control:checked~label.sk-toggleable__label {background-color: #d4ebff;}#sk-container-id-2 div.sk-label input.sk-toggleable__control:checked~label.sk-toggleable__label {background-color: #d4ebff;}#sk-container-id-2 input.sk-hidden--visually {border: 0;clip: rect(1px 1px 1px 1px);clip: rect(1px, 1px, 1px, 1px);height: 1px;margin: -1px;overflow: hidden;padding: 0;position: absolute;width: 1px;}#sk-container-id-2 div.sk-estimator {font-family: monospace;background-color: #f0f8ff;border: 1px dotted black;border-radius: 0.25em;box-sizing: border-box;margin-bottom: 0.5em;}#sk-container-id-2 div.sk-estimator:hover {background-color: #d4ebff;}#sk-container-id-2 div.sk-parallel-item::after {content: \"\";width: 100%;border-bottom: 1px solid gray;flex-grow: 1;}#sk-container-id-2 div.sk-label:hover label.sk-toggleable__label {background-color: #d4ebff;}#sk-container-id-2 div.sk-serial::before {content: \"\";position: absolute;border-left: 1px solid gray;box-sizing: border-box;top: 0;bottom: 0;left: 50%;z-index: 0;}#sk-container-id-2 div.sk-serial {display: flex;flex-direction: column;align-items: center;background-color: white;padding-right: 0.2em;padding-left: 0.2em;position: relative;}#sk-container-id-2 div.sk-item {position: relative;z-index: 1;}#sk-container-id-2 div.sk-parallel {display: flex;align-items: stretch;justify-content: center;background-color: white;position: relative;}#sk-container-id-2 div.sk-item::before, #sk-container-id-2 div.sk-parallel-item::before {content: \"\";position: absolute;border-left: 1px solid gray;box-sizing: border-box;top: 0;bottom: 0;left: 50%;z-index: -1;}#sk-container-id-2 div.sk-parallel-item {display: flex;flex-direction: column;z-index: 1;position: relative;background-color: white;}#sk-container-id-2 div.sk-parallel-item:first-child::after {align-self: flex-end;width: 50%;}#sk-container-id-2 div.sk-parallel-item:last-child::after {align-self: flex-start;width: 50%;}#sk-container-id-2 div.sk-parallel-item:only-child::after {width: 0;}#sk-container-id-2 div.sk-dashed-wrapped {border: 1px dashed gray;margin: 0 0.4em 0.5em 0.4em;box-sizing: border-box;padding-bottom: 0.4em;background-color: white;}#sk-container-id-2 div.sk-label label {font-family: monospace;font-weight: bold;display: inline-block;line-height: 1.2em;}#sk-container-id-2 div.sk-label-container {text-align: center;}#sk-container-id-2 div.sk-container {/* jupyter's `normalize.less` sets `[hidden] { display: none; }` but bootstrap.min.css set `[hidden] { display: none !important; }` so we also need the `!important` here to be able to override the default hidden behavior on the sphinx rendered scikit-learn.org. See: https://github.com/scikit-learn/scikit-learn/issues/21755 */display: inline-block !important;position: relative;}#sk-container-id-2 div.sk-text-repr-fallback {display: none;}</style><div id=\"sk-container-id-2\" class=\"sk-top-container\"><div class=\"sk-text-repr-fallback\"><pre>GridSearchCV(cv=5, estimator=Ridge(), n_jobs=-1,\n             param_grid={&#x27;alpha&#x27;: [0.1, 1.0, 10.0, 100.0]})</pre><b>In a Jupyter environment, please rerun this cell to show the HTML representation or trust the notebook. <br />On GitHub, the HTML representation is unable to render, please try loading this page with nbviewer.org.</b></div><div class=\"sk-container\" hidden><div class=\"sk-item sk-dashed-wrapped\"><div class=\"sk-label-container\"><div class=\"sk-label sk-toggleable\"><input class=\"sk-toggleable__control sk-hidden--visually\" id=\"sk-estimator-id-4\" type=\"checkbox\" ><label for=\"sk-estimator-id-4\" class=\"sk-toggleable__label sk-toggleable__label-arrow\">GridSearchCV</label><div class=\"sk-toggleable__content\"><pre>GridSearchCV(cv=5, estimator=Ridge(), n_jobs=-1,\n             param_grid={&#x27;alpha&#x27;: [0.1, 1.0, 10.0, 100.0]})</pre></div></div></div><div class=\"sk-parallel\"><div class=\"sk-parallel-item\"><div class=\"sk-item\"><div class=\"sk-label-container\"><div class=\"sk-label sk-toggleable\"><input class=\"sk-toggleable__control sk-hidden--visually\" id=\"sk-estimator-id-5\" type=\"checkbox\" ><label for=\"sk-estimator-id-5\" class=\"sk-toggleable__label sk-toggleable__label-arrow\">estimator: Ridge</label><div class=\"sk-toggleable__content\"><pre>Ridge()</pre></div></div></div><div class=\"sk-serial\"><div class=\"sk-item\"><div class=\"sk-estimator sk-toggleable\"><input class=\"sk-toggleable__control sk-hidden--visually\" id=\"sk-estimator-id-6\" type=\"checkbox\" ><label for=\"sk-estimator-id-6\" class=\"sk-toggleable__label sk-toggleable__label-arrow\">Ridge</label><div class=\"sk-toggleable__content\"><pre>Ridge()</pre></div></div></div></div></div></div></div></div></div></div>"
     },
     "execution_count": 16,
     "metadata": {},
     "output_type": "execute_result"
    }
   ],
   "source": [
    "# without hashing features (just onehot)\n",
    "preprocessor = ColumnTransformer(transformers=[\n",
    "    ('onehot', OneHotEncoder(), categoricals + ['User-ID', 'ISBN']),\n",
    "    ('bucketize_yop', KBinsDiscretizer(n_bins=12, strategy='kmeans'), ['Year-Of-Publication']),\n",
    "    ('bucketize_age', KBinsDiscretizer(n_bins=10), ['Age']),\n",
    "], remainder='drop')\n",
    "\n",
    "X = preprocessor.fit_transform(f_ratings_wide)\n",
    "\n",
    "grid_search = GridSearchCV(Ridge(), param_grid, cv=5, n_jobs=-1)\n",
    "print(\"Performing grid search...\")\n",
    "grid_search.fit(X, y)\n"
   ],
   "metadata": {
    "collapsed": false
   }
  },
  {
   "cell_type": "code",
   "execution_count": 17,
   "outputs": [
    {
     "data": {
      "text/plain": "{'mean_fit_time': array([5.82417822, 3.9753952 , 2.9117506 , 1.16111445]),\n 'std_fit_time': array([0.94362926, 0.5762366 , 0.13482262, 0.29931528]),\n 'mean_score_time': array([0.00446558, 0.00706768, 0.03915839, 0.00541525]),\n 'std_score_time': array([0.00073516, 0.00206455, 0.03887303, 0.001341  ]),\n 'param_alpha': masked_array(data=[0.1, 1.0, 10.0, 100.0],\n              mask=[False, False, False, False],\n        fill_value='?',\n             dtype=object),\n 'params': [{'alpha': 0.1}, {'alpha': 1.0}, {'alpha': 10.0}, {'alpha': 100.0}],\n 'split0_test_score': array([-0.07975125, -0.07393874, -0.0454457 , -0.01053659]),\n 'split1_test_score': array([-0.04732484, -0.04166556, -0.01563679,  0.01274739]),\n 'split2_test_score': array([-0.039297  , -0.03368413, -0.00859646,  0.01540771]),\n 'split3_test_score': array([-0.00107821,  0.00289856,  0.01836032,  0.02377706]),\n 'split4_test_score': array([-0.01844309, -0.01405136, -0.00270735, -0.00791319]),\n 'mean_test_score': array([-0.03717888, -0.03208824, -0.0108052 ,  0.00669648]),\n 'std_test_score': array([0.0267362 , 0.02605817, 0.02070937, 0.01352528]),\n 'rank_test_score': array([4, 3, 2, 1], dtype=int32)}"
     },
     "execution_count": 17,
     "metadata": {},
     "output_type": "execute_result"
    }
   ],
   "source": [
    "grid_search.cv_results_"
   ],
   "metadata": {
    "collapsed": false
   }
  },
  {
   "cell_type": "code",
   "execution_count": 18,
   "outputs": [
    {
     "name": "stdout",
     "output_type": "stream",
     "text": [
      "X shape before: (224170, 20863)\n"
     ]
    },
    {
     "name": "stderr",
     "output_type": "stream",
     "text": [
      "/Users/adam/venvs/datasentics-uloha/lib/python3.11/site-packages/sklearn/preprocessing/_discretization.py:239: FutureWarning: In version 1.5 onwards, subsample=200_000 will be used by default. Set subsample explicitly to silence this warning in the mean time. Set subsample=None to disable subsampling explicitly.\n",
      "  warnings.warn(\n",
      "/Users/adam/venvs/datasentics-uloha/lib/python3.11/site-packages/sklearn/preprocessing/_discretization.py:313: UserWarning: Bins whose width are too small (i.e., <= 1e-8) in feature 0 are removed. Consider decreasing the number of bins.\n",
      "  warnings.warn(\n"
     ]
    },
    {
     "name": "stdout",
     "output_type": "stream",
     "text": [
      "X shape after: (224170, 4326)\n"
     ]
    }
   ],
   "source": [
    "from sklearn.pipeline import FeatureUnion\n",
    "# add product of user and book features to the model (polynomial features)\n",
    "# (that is all columns excl the `categoricals`)\n",
    "from sklearn.preprocessing import PolynomialFeatures\n",
    "# use column transformer to select only the non-categorical columns\n",
    "\n",
    "# pol\n",
    "\n",
    "to_poly = ColumnTransformer(transformers=[\n",
    "    # ('onehot', OneHotEncoder(), categoricals),\n",
    "    ('bucketize_yop', KBinsDiscretizer(n_bins=7, strategy='kmeans'), ['Year-Of-Publication']),\n",
    "    ('bucketize_age', KBinsDiscretizer(n_bins=7), ['Age']),\n",
    "    ('hash', HashingTransformer(bit_size=20), ['User-ID', 'ISBN']),\n",
    "], remainder='drop')\n",
    "\n",
    "poly_preprocessor = FeatureUnion([\n",
    "    ('poly', Pipeline([\n",
    "        ('to_poly', to_poly),\n",
    "        ('poly', PolynomialFeatures(degree=2)),\n",
    "    ])),\n",
    "    ('other_categorical', ColumnTransformer(transformers=[\n",
    "        ('onehot', OneHotEncoder(), categoricals),\n",
    "    ], remainder='drop')),\n",
    "])\n",
    "\n",
    "print('X shape before:', X.shape)\n",
    "X_poly = poly_preprocessor.fit_transform(f_ratings_wide)\n",
    "print('X shape after:', X_poly.shape)\n"
   ],
   "metadata": {
    "collapsed": false
   }
  },
  {
   "cell_type": "code",
   "execution_count": 19,
   "outputs": [],
   "source": [
    "from sklearn.model_selection import train_test_split\n",
    "\n",
    "# do ridge regression on the polynomial features\n",
    "X_train, X_test, y_train, y_test = train_test_split(X_poly, y, test_size=0.2)\n",
    "ridge = Ridge()\n",
    "ridge.fit(X_train, y_train)\n",
    "\n",
    "# evaluate (R^2 and RMSE)\n",
    "y_pred = ridge.predict(X_test)"
   ],
   "metadata": {
    "collapsed": false
   }
  },
  {
   "cell_type": "code",
   "execution_count": 36,
   "outputs": [
    {
     "name": "stdout",
     "output_type": "stream",
     "text": [
      "RMSE: 3.9116508407083175\n",
      "MSE: 15.301012299614086\n",
      "R^2: 0.03237018494829058\n"
     ]
    }
   ],
   "source": [
    "\n",
    "mse = mean_squared_error(y_test, y_pred)\n",
    "# square root of mse\n",
    "rmse = np.sqrt(mse)\n",
    "print(f'RMSE: {rmse}', f'MSE: {mse}', sep='\\n')\n",
    "# R^2\n",
    "print(f'R^2: {ridge.score(X_test, y_test)}')\n"
   ],
   "metadata": {
    "collapsed": false
   }
  },
  {
   "cell_type": "markdown",
   "source": [
    "# SVR\n",
    "\n",
    "as the linear regression is not working well, and getting polynomial features is not feasible (even for the hashing method)"
   ],
   "metadata": {
    "collapsed": false
   }
  },
  {
   "cell_type": "code",
   "execution_count": null,
   "outputs": [],
   "source": [
    "from sklearn.svm import SVR\n",
    "\n",
    "preprocessor = ColumnTransformer(transformers=[\n",
    "    ('onehot', OneHotEncoder(), categoricals + ['User-ID', 'ISBN']),\n",
    "    ('bucketize_yop', KBinsDiscretizer(n_bins=12, strategy='kmeans'), ['Year-Of-Publication']),\n",
    "    ('bucketize_age', KBinsDiscretizer(n_bins=10), ['Age']),\n",
    "    # ('hash', HashingTransformer(bit_size=128), ['User-ID', 'ISBN']),\n",
    "], remainder='drop')\n",
    "\n",
    "X = preprocessor.fit_transform(f_ratings_wide)\n",
    "X_train, X_test, y_train, y_test = train_test_split(X, y, test_size=0.2)\n",
    "\n",
    "svr = SVR(epsilon=1, verbose=2)\n",
    "svr.fit(X_train, y_train)\n",
    "\n",
    "# evaluate (R^2 and RMSE)\n",
    "y_pred = svr.predict(X_test)\n",
    "mse = mean_squared_error(y_test, y_pred)\n",
    "# square root of mse\n",
    "rmse = np.sqrt(mse)\n",
    "print(f'RMSE: {rmse}', f'MSE: {mse}', sep='\\n')\n",
    "# R^2\n",
    "print(f'R^2: {svr.score(X_test, y_test)}')\n",
    "\n"
   ],
   "metadata": {
    "collapsed": false,
    "pycharm": {
     "is_executing": true
    }
   }
  },
  {
   "cell_type": "markdown",
   "source": [],
   "metadata": {
    "collapsed": false
   }
  },
  {
   "cell_type": "markdown",
   "source": [],
   "metadata": {
    "collapsed": false
   }
  }
 ],
 "metadata": {
  "kernelspec": {
   "display_name": "Python 3",
   "language": "python",
   "name": "python3"
  },
  "language_info": {
   "codemirror_mode": {
    "name": "ipython",
    "version": 2
   },
   "file_extension": ".py",
   "mimetype": "text/x-python",
   "name": "python",
   "nbconvert_exporter": "python",
   "pygments_lexer": "ipython2",
   "version": "2.7.6"
  }
 },
 "nbformat": 4,
 "nbformat_minor": 0
}
