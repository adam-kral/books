{
 "cells": [
  {
   "cell_type": "code",
   "execution_count": 1,
   "metadata": {
    "collapsed": true,
    "jupyter": {
     "outputs_hidden": true
    }
   },
   "outputs": [],
   "source": [
    "# disable tf warnings\n",
    "import os\n",
    "\n",
    "import numpy as np\n",
    "os.environ['TF_CPP_MIN_LOG_LEVEL'] = '2'\n",
    "import tensorflow as tf\n",
    "tf.get_logger().setLevel('INFO')\n",
    "import tensorflow_recommenders as tfrs\n"
   ]
  },
  {
   "cell_type": "code",
   "execution_count": 2,
   "metadata": {
    "collapsed": false,
    "jupyter": {
     "outputs_hidden": false
    }
   },
   "outputs": [],
   "source": [
    "from pathlib import Path\n",
    "import pandas as pd\n",
    "\n",
    "from dataset import read_bx_csv\n",
    "\n",
    "data_root = Path('data/BX-CSV-Dump')\n",
    "users = read_bx_csv(data_root / 'BX-Users.csv')\n",
    "books = read_bx_csv(data_root / 'BX-Books.csv')\n",
    "ratings = read_bx_csv(data_root / 'BX-Book-Ratings.csv')"
   ]
  },
  {
   "cell_type": "code",
   "execution_count": 3,
   "metadata": {
    "collapsed": false,
    "jupyter": {
     "outputs_hidden": false
    }
   },
   "outputs": [
    {
     "data": {
      "text/plain": "ISBN\n0000913154    1\n0812515560    1\n0812514440    1\n0812514459    1\n0812514475    1\n0812514483    1\n0812515110    1\n0812515129    1\n0812515161    1\n0812515218    1\nName: ISBN, dtype: int64"
     },
     "execution_count": 3,
     "metadata": {},
     "output_type": "execute_result"
    }
   ],
   "source": [
    "books.ISBN.groupby(books.ISBN).count().sort_values(ascending=False).head(10)"
   ]
  },
  {
   "cell_type": "code",
   "execution_count": 4,
   "metadata": {
    "collapsed": false,
    "jupyter": {
     "outputs_hidden": false
    }
   },
   "outputs": [
    {
     "data": {
      "text/plain": "ISBN                   0\nBook-Title             0\nBook-Author            2\nYear-Of-Publication    0\nPublisher              2\nImage-URL-S            0\nImage-URL-M            0\nImage-URL-L            0\ndtype: int64"
     },
     "execution_count": 4,
     "metadata": {},
     "output_type": "execute_result"
    }
   ],
   "source": [
    "# get statistic of NA values values in books\n",
    "books.isna().sum()"
   ]
  },
  {
   "cell_type": "code",
   "execution_count": 35,
   "outputs": [
    {
     "data": {
      "text/plain": "User-ID          0\nLocation         0\nAge         110762\ndtype: int64"
     },
     "execution_count": 35,
     "metadata": {},
     "output_type": "execute_result"
    }
   ],
   "source": [
    "# get statistic of NA values values in users\n",
    "users.isna().sum()"
   ],
   "metadata": {
    "collapsed": false
   }
  },
  {
   "cell_type": "code",
   "execution_count": 37,
   "outputs": [
    {
     "data": {
      "text/plain": "    User-ID                            Location   Age\n0         1                  nyc, new york, usa   NaN\n1         2           stockton, california, usa  18.0\n2         3     moscow, yukon territory, russia   NaN\n3         4           porto, v.n.gaia, portugal  17.0\n4         5  farnborough, hants, united kingdom   NaN\n..      ...                                 ...   ...\n95       96           helsinki, alaska, finland   NaN\n96       97    mechanicsburg, pennsylvania, usa   NaN\n97       98     pukekohe, auckland, new zealand  19.0\n98       99            franktown, colorado, usa  42.0\n99      100                  madrid, n/a, spain  44.0\n\n[100 rows x 3 columns]",
      "text/html": "<div>\n<style scoped>\n    .dataframe tbody tr th:only-of-type {\n        vertical-align: middle;\n    }\n\n    .dataframe tbody tr th {\n        vertical-align: top;\n    }\n\n    .dataframe thead th {\n        text-align: right;\n    }\n</style>\n<table border=\"1\" class=\"dataframe\">\n  <thead>\n    <tr style=\"text-align: right;\">\n      <th></th>\n      <th>User-ID</th>\n      <th>Location</th>\n      <th>Age</th>\n    </tr>\n  </thead>\n  <tbody>\n    <tr>\n      <th>0</th>\n      <td>1</td>\n      <td>nyc, new york, usa</td>\n      <td>NaN</td>\n    </tr>\n    <tr>\n      <th>1</th>\n      <td>2</td>\n      <td>stockton, california, usa</td>\n      <td>18.0</td>\n    </tr>\n    <tr>\n      <th>2</th>\n      <td>3</td>\n      <td>moscow, yukon territory, russia</td>\n      <td>NaN</td>\n    </tr>\n    <tr>\n      <th>3</th>\n      <td>4</td>\n      <td>porto, v.n.gaia, portugal</td>\n      <td>17.0</td>\n    </tr>\n    <tr>\n      <th>4</th>\n      <td>5</td>\n      <td>farnborough, hants, united kingdom</td>\n      <td>NaN</td>\n    </tr>\n    <tr>\n      <th>...</th>\n      <td>...</td>\n      <td>...</td>\n      <td>...</td>\n    </tr>\n    <tr>\n      <th>95</th>\n      <td>96</td>\n      <td>helsinki, alaska, finland</td>\n      <td>NaN</td>\n    </tr>\n    <tr>\n      <th>96</th>\n      <td>97</td>\n      <td>mechanicsburg, pennsylvania, usa</td>\n      <td>NaN</td>\n    </tr>\n    <tr>\n      <th>97</th>\n      <td>98</td>\n      <td>pukekohe, auckland, new zealand</td>\n      <td>19.0</td>\n    </tr>\n    <tr>\n      <th>98</th>\n      <td>99</td>\n      <td>franktown, colorado, usa</td>\n      <td>42.0</td>\n    </tr>\n    <tr>\n      <th>99</th>\n      <td>100</td>\n      <td>madrid, n/a, spain</td>\n      <td>44.0</td>\n    </tr>\n  </tbody>\n</table>\n<p>100 rows × 3 columns</p>\n</div>"
     },
     "execution_count": 37,
     "metadata": {},
     "output_type": "execute_result"
    }
   ],
   "source": [
    "users.head(100)\n"
   ],
   "metadata": {
    "collapsed": false
   }
  },
  {
   "cell_type": "code",
   "execution_count": 5,
   "metadata": {
    "collapsed": false,
    "jupyter": {
     "outputs_hidden": false
    }
   },
   "outputs": [
    {
     "data": {
      "text/plain": "              ISBN                                         Book-Title  \\\n118038  0751352497                           A+ Quiz Masters:01 Earth   \n187700  9627982032  The Credit Suisse Guide to Managing Your Perso...   \n\n       Book-Author  Year-Of-Publication                       Publisher  \\\n118038         NaN                 1999              Dorling Kindersley   \n187700         NaN                 1995  Edinburgh Financial Publishing   \n\n                                              Image-URL-S  \\\n118038  http://images.amazon.com/images/P/0751352497.0...   \n187700  http://images.amazon.com/images/P/9627982032.0...   \n\n                                              Image-URL-M  \\\n118038  http://images.amazon.com/images/P/0751352497.0...   \n187700  http://images.amazon.com/images/P/9627982032.0...   \n\n                                              Image-URL-L  \n118038  http://images.amazon.com/images/P/0751352497.0...  \n187700  http://images.amazon.com/images/P/9627982032.0...  ",
      "text/html": "<div>\n<style scoped>\n    .dataframe tbody tr th:only-of-type {\n        vertical-align: middle;\n    }\n\n    .dataframe tbody tr th {\n        vertical-align: top;\n    }\n\n    .dataframe thead th {\n        text-align: right;\n    }\n</style>\n<table border=\"1\" class=\"dataframe\">\n  <thead>\n    <tr style=\"text-align: right;\">\n      <th></th>\n      <th>ISBN</th>\n      <th>Book-Title</th>\n      <th>Book-Author</th>\n      <th>Year-Of-Publication</th>\n      <th>Publisher</th>\n      <th>Image-URL-S</th>\n      <th>Image-URL-M</th>\n      <th>Image-URL-L</th>\n    </tr>\n  </thead>\n  <tbody>\n    <tr>\n      <th>118038</th>\n      <td>0751352497</td>\n      <td>A+ Quiz Masters:01 Earth</td>\n      <td>NaN</td>\n      <td>1999</td>\n      <td>Dorling Kindersley</td>\n      <td>http://images.amazon.com/images/P/0751352497.0...</td>\n      <td>http://images.amazon.com/images/P/0751352497.0...</td>\n      <td>http://images.amazon.com/images/P/0751352497.0...</td>\n    </tr>\n    <tr>\n      <th>187700</th>\n      <td>9627982032</td>\n      <td>The Credit Suisse Guide to Managing Your Perso...</td>\n      <td>NaN</td>\n      <td>1995</td>\n      <td>Edinburgh Financial Publishing</td>\n      <td>http://images.amazon.com/images/P/9627982032.0...</td>\n      <td>http://images.amazon.com/images/P/9627982032.0...</td>\n      <td>http://images.amazon.com/images/P/9627982032.0...</td>\n    </tr>\n  </tbody>\n</table>\n</div>"
     },
     "execution_count": 5,
     "metadata": {},
     "output_type": "execute_result"
    }
   ],
   "source": [
    "books[books['Book-Author'].isna()]"
   ]
  },
  {
   "cell_type": "code",
   "execution_count": 6,
   "metadata": {
    "collapsed": false,
    "jupyter": {
     "outputs_hidden": false
    }
   },
   "outputs": [
    {
     "data": {
      "text/plain": "0"
     },
     "execution_count": 6,
     "metadata": {},
     "output_type": "execute_result"
    }
   ],
   "source": [
    "# ''\n",
    "books[books['ISBN'] == '']['ISBN'].count()\n"
   ]
  },
  {
   "cell_type": "code",
   "execution_count": 7,
   "outputs": [],
   "source": [
    "ratings_with_title = ratings.merge(books[['Book-Title', 'ISBN']], on='ISBN')"
   ],
   "metadata": {
    "collapsed": false
   }
  },
  {
   "cell_type": "code",
   "execution_count": 8,
   "metadata": {
    "collapsed": false,
    "jupyter": {
     "outputs_hidden": false
    }
   },
   "outputs": [],
   "source": [
    "from dataset import filter_ratings"
   ]
  },
  {
   "cell_type": "code",
   "execution_count": 22,
   "metadata": {
    "collapsed": false,
    "jupyter": {
     "outputs_hidden": false
    }
   },
   "outputs": [],
   "source": [
    "fltrd_ratings_with_title = filter_ratings(ratings_with_title)"
   ]
  },
  {
   "cell_type": "code",
   "execution_count": 24,
   "metadata": {
    "collapsed": false,
    "jupyter": {
     "outputs_hidden": false
    }
   },
   "outputs": [
    {
     "data": {
      "text/plain": "   User-ID            Book-Title  Book-Rating\n0     2313  Flesh Tones: A Novel            5\n1     6543  Flesh Tones: A Novel            0\n2     8680  Flesh Tones: A Novel            5\n3    10314  Flesh Tones: A Novel            9\n4    23768  Flesh Tones: A Novel            0\n5    28523  Flesh Tones: A Novel            0\n6    56157  Flesh Tones: A Novel            0\n7    77480  Flesh Tones: A Novel            8\n8    77940  Flesh Tones: A Novel            0\n9    81977  Flesh Tones: A Novel            0",
      "text/html": "<div>\n<style scoped>\n    .dataframe tbody tr th:only-of-type {\n        vertical-align: middle;\n    }\n\n    .dataframe tbody tr th {\n        vertical-align: top;\n    }\n\n    .dataframe thead th {\n        text-align: right;\n    }\n</style>\n<table border=\"1\" class=\"dataframe\">\n  <thead>\n    <tr style=\"text-align: right;\">\n      <th></th>\n      <th>User-ID</th>\n      <th>Book-Title</th>\n      <th>Book-Rating</th>\n    </tr>\n  </thead>\n  <tbody>\n    <tr>\n      <th>0</th>\n      <td>2313</td>\n      <td>Flesh Tones: A Novel</td>\n      <td>5</td>\n    </tr>\n    <tr>\n      <th>1</th>\n      <td>6543</td>\n      <td>Flesh Tones: A Novel</td>\n      <td>0</td>\n    </tr>\n    <tr>\n      <th>2</th>\n      <td>8680</td>\n      <td>Flesh Tones: A Novel</td>\n      <td>5</td>\n    </tr>\n    <tr>\n      <th>3</th>\n      <td>10314</td>\n      <td>Flesh Tones: A Novel</td>\n      <td>9</td>\n    </tr>\n    <tr>\n      <th>4</th>\n      <td>23768</td>\n      <td>Flesh Tones: A Novel</td>\n      <td>0</td>\n    </tr>\n    <tr>\n      <th>5</th>\n      <td>28523</td>\n      <td>Flesh Tones: A Novel</td>\n      <td>0</td>\n    </tr>\n    <tr>\n      <th>6</th>\n      <td>56157</td>\n      <td>Flesh Tones: A Novel</td>\n      <td>0</td>\n    </tr>\n    <tr>\n      <th>7</th>\n      <td>77480</td>\n      <td>Flesh Tones: A Novel</td>\n      <td>8</td>\n    </tr>\n    <tr>\n      <th>8</th>\n      <td>77940</td>\n      <td>Flesh Tones: A Novel</td>\n      <td>0</td>\n    </tr>\n    <tr>\n      <th>9</th>\n      <td>81977</td>\n      <td>Flesh Tones: A Novel</td>\n      <td>0</td>\n    </tr>\n  </tbody>\n</table>\n</div>"
     },
     "execution_count": 24,
     "metadata": {},
     "output_type": "execute_result"
    }
   ],
   "source": [
    "fltrd_ratings_with_title.head(10)\n",
    "\n"
   ]
  },
  {
   "cell_type": "code",
   "execution_count": 25,
   "outputs": [],
   "source": [
    "fltrd_ratings_with_title_200 = filter_ratings(ratings_with_title, user_ratings_max_count=200)\n"
   ],
   "metadata": {
    "collapsed": false
   }
  },
  {
   "cell_type": "markdown",
   "source": [],
   "metadata": {
    "collapsed": false
   }
  },
  {
   "cell_type": "code",
   "execution_count": 33,
   "outputs": [
    {
     "name": "stdout",
     "output_type": "stream",
     "text": [
      "implicit: 208347 explicit: 111149\n",
      "implicit: 132241 explicit: 91929\n"
     ]
    },
    {
     "data": {
      "text/plain": "<Figure size 640x480 with 1 Axes>",
      "image/png": "[encoded data removed]"
     },
     "metadata": {},
     "output_type": "display_data"
    },
    {
     "data": {
      "text/plain": "<Figure size 640x480 with 1 Axes>",
      "image/png": "[encoded data removed]"
     },
     "metadata": {},
     "output_type": "display_data"
    }
   ],
   "source": [
    "# plot histogram of rating values\n",
    "\n",
    "fltrd_ratings_with_title.hist(column='Book-Rating', bins=11)\n",
    "implicit_count = sum(fltrd_ratings_with_title['Book-Rating'] == 0)\n",
    "print('implicit:', implicit_count, 'explicit:', len(fltrd_ratings_with_title) - implicit_count)\n",
    "\n",
    "fltrd_ratings_with_title_200.hist(column='Book-Rating', bins=11)\n",
    "implicit_count = sum(fltrd_ratings_with_title_200['Book-Rating'] == 0)\n",
    "print('implicit:', implicit_count, 'explicit:', len(fltrd_ratings_with_title_200) - implicit_count)"
   ],
   "metadata": {
    "collapsed": false
   }
  },
  {
   "cell_type": "code",
   "execution_count": 17,
   "outputs": [],
   "source": [
    "from dataset import squash_user_ids\n",
    "new_to_orig_user_id, orig_to_new_user_id = squash_user_ids(fltrd_ratings_with_title)"
   ],
   "metadata": {
    "collapsed": false
   }
  },
  {
   "cell_type": "code",
   "execution_count": 21,
   "outputs": [
    {
     "name": "stdout",
     "output_type": "stream",
     "text": [
      "11206\n"
     ]
    }
   ],
   "source": [
    "print(len(new_to_orig_user_id))"
   ],
   "metadata": {
    "collapsed": false
   }
  },
  {
   "cell_type": "code",
   "execution_count": 18,
   "metadata": {
    "collapsed": false,
    "jupyter": {
     "outputs_hidden": false
    }
   },
   "outputs": [],
   "source": [
    "# convert to tf dataset\n",
    "ds_ratings_with_title = tf.data.Dataset.from_tensor_slices(dict(fltrd_ratings_with_title[['Book-Title', 'User-ID']]))\n",
    "ds_book_titles = tf.data.Dataset.from_tensor_slices(fltrd_ratings_with_title['Book-Title'].unique())"
   ]
  },
  {
   "cell_type": "code",
   "execution_count": 19,
   "metadata": {
    "collapsed": false,
    "jupyter": {
     "outputs_hidden": false
    }
   },
   "outputs": [],
   "source": [
    "# create stringlookup vocabs\n",
    "# not needed, already int\n",
    "# user_ids_vocabulary = tf.keras.layers.StringLookup(mask_token=None)\n",
    "# user_ids_vocabulary.adapt(ratings['User-ID'])\n",
    "\n",
    "book_titles_vocabulary = tf.keras.layers.StringLookup(mask_token=None)\n",
    "book_titles_vocabulary.adapt(ds_book_titles)"
   ]
  },
  {
   "cell_type": "code",
   "execution_count": 20,
   "metadata": {
    "collapsed": false,
    "jupyter": {
     "outputs_hidden": false
    }
   },
   "outputs": [
    {
     "name": "stdout",
     "output_type": "stream",
     "text": [
      "6485 271379\n",
      "319496 1149780\n"
     ]
    }
   ],
   "source": [
    "print(len(ds_book_titles), len(books))\n",
    "print(len(ds_ratings_with_title), len(ratings))\n"
   ]
  },
  {
   "cell_type": "code",
   "execution_count": 15,
   "metadata": {
    "collapsed": false,
    "jupyter": {
     "outputs_hidden": false
    }
   },
   "outputs": [],
   "source": [
    "from typing import Dict, Text\n",
    "\n",
    "class BookBXModel(tfrs.Model):\n",
    "  # We derive from a custom base class to help reduce boilerplate. Under the hood,\n",
    "  # these are still plain Keras Models.\n",
    "\n",
    "  def __init__(\n",
    "      self,\n",
    "      user_model: tf.keras.Model,\n",
    "      book_model: tf.keras.Model,\n",
    "      task: tfrs.tasks.Retrieval):\n",
    "    super().__init__()\n",
    "\n",
    "    # Set up user and movie representations.\n",
    "    self.user_model = user_model\n",
    "    self.book_model = book_model\n",
    "\n",
    "    # Set up a retrieval task.\n",
    "    self.task = task\n",
    "\n",
    "  def compute_loss(self, features: Dict[Text, tf.Tensor], training=False) -> tf.Tensor:\n",
    "    # Define how the loss is computed.\n",
    "\n",
    "    user_embeddings = self.user_model(features['User-ID'])\n",
    "    book_embeddings = self.book_model(features['Book-Title'])\n",
    "\n",
    "    return self.task(user_embeddings, book_embeddings)\n"
   ]
  },
  {
   "cell_type": "code",
   "execution_count": 16,
   "metadata": {
    "collapsed": false,
    "jupyter": {
     "outputs_hidden": false
    }
   },
   "outputs": [
    {
     "ename": "NameError",
     "evalue": "name 'unique_users' is not defined",
     "output_type": "error",
     "traceback": [
      "\u001B[0;31m---------------------------------------------------------------------------\u001B[0m",
      "\u001B[0;31mNameError\u001B[0m                                 Traceback (most recent call last)",
      "Cell \u001B[0;32mIn[16], line 3\u001B[0m\n\u001B[1;32m      1\u001B[0m \u001B[38;5;66;03m# Define user and movie models.\u001B[39;00m\n\u001B[1;32m      2\u001B[0m user_model \u001B[38;5;241m=\u001B[39m tf\u001B[38;5;241m.\u001B[39mkeras\u001B[38;5;241m.\u001B[39mSequential([\n\u001B[0;32m----> 3\u001B[0m     tf\u001B[38;5;241m.\u001B[39mkeras\u001B[38;5;241m.\u001B[39mlayers\u001B[38;5;241m.\u001B[39mEmbedding(\u001B[38;5;28mlen\u001B[39m(\u001B[43munique_users\u001B[49m), \u001B[38;5;241m64\u001B[39m)\n\u001B[1;32m      4\u001B[0m ])\n\u001B[1;32m      6\u001B[0m book_model \u001B[38;5;241m=\u001B[39m tf\u001B[38;5;241m.\u001B[39mkeras\u001B[38;5;241m.\u001B[39mSequential([\n\u001B[1;32m      7\u001B[0m     book_titles_vocabulary,\n\u001B[1;32m      8\u001B[0m     tf\u001B[38;5;241m.\u001B[39mkeras\u001B[38;5;241m.\u001B[39mlayers\u001B[38;5;241m.\u001B[39mEmbedding(book_titles_vocabulary\u001B[38;5;241m.\u001B[39mvocabulary_size(), \u001B[38;5;241m64\u001B[39m),\n\u001B[1;32m      9\u001B[0m ])\n\u001B[1;32m     11\u001B[0m \u001B[38;5;66;03m# Define your objectives.\u001B[39;00m\n\u001B[1;32m     12\u001B[0m \u001B[38;5;66;03m# loss use the default, but with reduction to mean (so we can compare loss between\u001B[39;00m\n",
      "\u001B[0;31mNameError\u001B[0m: name 'unique_users' is not defined"
     ]
    }
   ],
   "source": [
    "# Define user and movie models.\n",
    "user_model = tf.keras.Sequential([\n",
    "    tf.keras.layers.Embedding(len(unique_users), 64)\n",
    "])\n",
    "\n",
    "book_model = tf.keras.Sequential([\n",
    "    book_titles_vocabulary,\n",
    "    tf.keras.layers.Embedding(book_titles_vocabulary.vocabulary_size(), 64),\n",
    "])\n",
    "\n",
    "# Define your objectives.\n",
    "# loss use the default, but with reduction to mean (so we can compare loss between\n",
    "task = tfrs.tasks.Retrieval(\n",
    "    metrics=tfrs.metrics.FactorizedTopK(candidates=ds_book_titles.batch(128).map(book_model)\n",
    "))\n"
   ]
  },
  {
   "cell_type": "code",
   "execution_count": 17,
   "metadata": {
    "collapsed": false,
    "jupyter": {
     "outputs_hidden": false
    }
   },
   "outputs": [
    {
     "name": "stdout",
     "output_type": "stream",
     "text": [
      "Epoch 1/3\n",
      "79/79 [==============================] - 231s 3s/step - factorized_top_k/top_1_categorical_accuracy: 4.3819e-05 - factorized_top_k/top_5_categorical_accuracy: 5.8530e-04 - factorized_top_k/top_10_categorical_accuracy: 0.0013 - factorized_top_k/top_50_categorical_accuracy: 0.0076 - factorized_top_k/top_100_categorical_accuracy: 0.0152 - loss: 33218.2935 - regularization_loss: 0.0000e+00 - total_loss: 33218.2935\n",
      "Epoch 2/3\n",
      "79/79 [==============================] - 254s 3s/step - factorized_top_k/top_1_categorical_accuracy: 1.2833e-04 - factorized_top_k/top_5_categorical_accuracy: 0.0018 - factorized_top_k/top_10_categorical_accuracy: 0.0036 - factorized_top_k/top_50_categorical_accuracy: 0.0175 - factorized_top_k/top_100_categorical_accuracy: 0.0323 - loss: 33208.2987 - regularization_loss: 0.0000e+00 - total_loss: 33208.2987\n",
      "Epoch 3/3\n",
      "79/79 [==============================] - 216s 3s/step - factorized_top_k/top_1_categorical_accuracy: 4.7575e-04 - factorized_top_k/top_5_categorical_accuracy: 0.0047 - factorized_top_k/top_10_categorical_accuracy: 0.0089 - factorized_top_k/top_50_categorical_accuracy: 0.0346 - factorized_top_k/top_100_categorical_accuracy: 0.0607 - loss: 33196.9451 - regularization_loss: 0.0000e+00 - total_loss: 33196.9451\n"
     ]
    },
    {
     "ename": "AttributeError",
     "evalue": "module 'tensorflow_recommenders.layers' has no attribute 'ann'",
     "output_type": "error",
     "traceback": [
      "\u001B[0;31m---------------------------------------------------------------------------\u001B[0m",
      "\u001B[0;31mAttributeError\u001B[0m                            Traceback (most recent call last)",
      "Cell \u001B[0;32mIn[17], line 9\u001B[0m\n\u001B[1;32m      6\u001B[0m model\u001B[38;5;241m.\u001B[39mfit(da_ratings_with_title\u001B[38;5;241m.\u001B[39mbatch(\u001B[38;5;241m4096\u001B[39m), epochs\u001B[38;5;241m=\u001B[39m\u001B[38;5;241m3\u001B[39m)\n\u001B[1;32m      8\u001B[0m \u001B[38;5;66;03m# Use brute-force search to set up retrieval using the trained representations.\u001B[39;00m\n\u001B[0;32m----> 9\u001B[0m index \u001B[38;5;241m=\u001B[39m \u001B[43mtfrs\u001B[49m\u001B[38;5;241;43m.\u001B[39;49m\u001B[43mlayers\u001B[49m\u001B[38;5;241;43m.\u001B[39;49m\u001B[43mann\u001B[49m\u001B[38;5;241m.\u001B[39mBruteForce(model\u001B[38;5;241m.\u001B[39muser_model)\n\u001B[1;32m     10\u001B[0m \u001B[38;5;66;03m# index.index(books.batch(100).map(model.book_model), books)\u001B[39;00m\n\u001B[1;32m     11\u001B[0m index\u001B[38;5;241m.\u001B[39mindex_from_dataset(\n\u001B[1;32m     12\u001B[0m     tf\u001B[38;5;241m.\u001B[39mdata\u001B[38;5;241m.\u001B[39mDataset\u001B[38;5;241m.\u001B[39mzip(da_book_titles\u001B[38;5;241m.\u001B[39mbatch(\u001B[38;5;241m100\u001B[39m), da_book_titles\u001B[38;5;241m.\u001B[39mbatch(\u001B[38;5;241m100\u001B[39m)\u001B[38;5;241m.\u001B[39mmap(model\u001B[38;5;241m.\u001B[39mbook_model))\n\u001B[1;32m     13\u001B[0m )\n",
      "\u001B[0;31mAttributeError\u001B[0m: module 'tensorflow_recommenders.layers' has no attribute 'ann'"
     ]
    }
   ],
   "source": [
    "\n",
    "# Create a retrieval model.\n",
    "model = BookBXModel(user_model, book_model, task)\n",
    "model.compile(optimizer=tf.keras.optimizers.Adagrad(0.01))  # why not adam?\n",
    "\n",
    "# Train for 3 epochs.\n",
    "model.fit(ds_ratings_with_title.batch(4096), epochs=3)\n"
   ]
  },
  {
   "cell_type": "code",
   "execution_count": 22,
   "outputs": [
    {
     "name": "stdout",
     "output_type": "stream",
     "text": [
      "Top 3 recommendations for user 0: [b'Rising Sun' b'Bel Canto: A Novel' b'Driving Force']\n"
     ]
    }
   ],
   "source": [
    "\n",
    "# Use brute-force search to set up retrieval using the trained representations.\n",
    "index = tfrs.layers.factorized_top_k.BruteForce(model.user_model)\n",
    "# index.index(books.batch(100).map(model.book_model), books)\n",
    "index.index_from_dataset(\n",
    "    tf.data.Dataset.zip((ds_book_titles.batch(100), ds_book_titles.batch(100).map(model.book_model)))\n",
    "    # tf.data.Dataset.zip(ds_book_titles.batch(100), ds_book_titles.batch(100).map(model.book_model))\n",
    ")\n",
    "\n",
    "# Get some recommendations.\n",
    "_, titles = index(np.array([0]))\n",
    "print(f\"Top 3 recommendations for user 0: {titles[0, :3]}\")"
   ],
   "metadata": {
    "collapsed": false
   }
  },
  {
   "cell_type": "code",
   "execution_count": 29,
   "outputs": [
    {
     "name": "stdout",
     "output_type": "stream",
     "text": [
      "Epoch 1/3\n",
      "79/79 [==============================] - 174s 2s/step - factorized_top_k/top_1_categorical_accuracy: 2.8795e-04 - factorized_top_k/top_5_categorical_accuracy: 0.0026 - factorized_top_k/top_10_categorical_accuracy: 0.0053 - factorized_top_k/top_50_categorical_accuracy: 0.0222 - factorized_top_k/top_100_categorical_accuracy: 0.0387 - loss: 33142.7286 - regularization_loss: 0.0000e+00 - total_loss: 33142.7286\n",
      "Epoch 2/3\n",
      "79/79 [==============================] - 239s 3s/step - factorized_top_k/top_1_categorical_accuracy: 0.0037 - factorized_top_k/top_5_categorical_accuracy: 0.0194 - factorized_top_k/top_10_categorical_accuracy: 0.0311 - factorized_top_k/top_50_categorical_accuracy: 0.0746 - factorized_top_k/top_100_categorical_accuracy: 0.1078 - loss: 32066.3732 - regularization_loss: 0.0000e+00 - total_loss: 32066.3732\n",
      "Epoch 3/3\n",
      "79/79 [==============================] - 170s 2s/step - factorized_top_k/top_1_categorical_accuracy: 0.0058 - factorized_top_k/top_5_categorical_accuracy: 0.0320 - factorized_top_k/top_10_categorical_accuracy: 0.0538 - factorized_top_k/top_50_categorical_accuracy: 0.1485 - factorized_top_k/top_100_categorical_accuracy: 0.2203 - loss: 30034.3620 - regularization_loss: 0.0000e+00 - total_loss: 30034.3620\n"
     ]
    },
    {
     "data": {
      "text/plain": "<keras.callbacks.History at 0x1378cf050>"
     },
     "execution_count": 29,
     "metadata": {},
     "output_type": "execute_result"
    }
   ],
   "source": [
    "\n",
    "# Create a retrieval model.\n",
    "model = BookBXModel(user_model, book_model, task)\n",
    "model.compile(optimizer=tf.keras.optimizers.Adam(0.01))  # why not adam?\n",
    "\n",
    "# Train for 3 epochs.\n",
    "model.fit(ds_ratings_with_title.batch(4096), epochs=3)\n"
   ],
   "metadata": {
    "collapsed": false
   }
  },
  {
   "cell_type": "code",
   "execution_count": 33,
   "outputs": [
    {
     "name": "stdout",
     "output_type": "stream",
     "text": [
      "Epoch 1/15\n",
      "79/79 [==============================] - 160s 2s/step - factorized_top_k/top_1_categorical_accuracy: 0.0058 - factorized_top_k/top_5_categorical_accuracy: 0.0267 - factorized_top_k/top_10_categorical_accuracy: 0.0418 - factorized_top_k/top_50_categorical_accuracy: 0.1079 - factorized_top_k/top_100_categorical_accuracy: 0.1626 - loss: 29552.6832 - regularization_loss: 0.0000e+00 - total_loss: 29552.6832\n",
      "Epoch 2/15\n",
      "79/79 [==============================] - 159s 2s/step - factorized_top_k/top_1_categorical_accuracy: 0.0089 - factorized_top_k/top_5_categorical_accuracy: 0.0377 - factorized_top_k/top_10_categorical_accuracy: 0.0601 - factorized_top_k/top_50_categorical_accuracy: 0.1509 - factorized_top_k/top_100_categorical_accuracy: 0.2154 - loss: 29871.5131 - regularization_loss: 0.0000e+00 - total_loss: 29871.5131\n",
      "Epoch 3/15\n",
      "79/79 [==============================] - 161s 2s/step - factorized_top_k/top_1_categorical_accuracy: 0.0123 - factorized_top_k/top_5_categorical_accuracy: 0.0435 - factorized_top_k/top_10_categorical_accuracy: 0.0667 - factorized_top_k/top_50_categorical_accuracy: 0.1558 - factorized_top_k/top_100_categorical_accuracy: 0.2173 - loss: 30357.5364 - regularization_loss: 0.0000e+00 - total_loss: 30357.5364\n",
      "Epoch 4/15\n",
      "79/79 [==============================] - 161s 2s/step - factorized_top_k/top_1_categorical_accuracy: 0.0213 - factorized_top_k/top_5_categorical_accuracy: 0.0670 - factorized_top_k/top_10_categorical_accuracy: 0.0968 - factorized_top_k/top_50_categorical_accuracy: 0.2013 - factorized_top_k/top_100_categorical_accuracy: 0.2700 - loss: 29085.3245 - regularization_loss: 0.0000e+00 - total_loss: 29085.3245\n",
      "Epoch 5/15\n",
      "79/79 [==============================] - 157s 2s/step - factorized_top_k/top_1_categorical_accuracy: 0.0211 - factorized_top_k/top_5_categorical_accuracy: 0.0652 - factorized_top_k/top_10_categorical_accuracy: 0.0957 - factorized_top_k/top_50_categorical_accuracy: 0.2095 - factorized_top_k/top_100_categorical_accuracy: 0.2847 - loss: 28139.9444 - regularization_loss: 0.0000e+00 - total_loss: 28139.9444\n",
      "Epoch 6/15\n",
      "79/79 [==============================] - 157s 2s/step - factorized_top_k/top_1_categorical_accuracy: 0.0238 - factorized_top_k/top_5_categorical_accuracy: 0.0768 - factorized_top_k/top_10_categorical_accuracy: 0.1134 - factorized_top_k/top_50_categorical_accuracy: 0.2450 - factorized_top_k/top_100_categorical_accuracy: 0.3280 - loss: 27003.5114 - regularization_loss: 0.0000e+00 - total_loss: 27003.5114\n",
      "Epoch 7/15\n",
      "79/79 [==============================] - 155s 2s/step - factorized_top_k/top_1_categorical_accuracy: 0.0214 - factorized_top_k/top_5_categorical_accuracy: 0.0791 - factorized_top_k/top_10_categorical_accuracy: 0.1210 - factorized_top_k/top_50_categorical_accuracy: 0.2702 - factorized_top_k/top_100_categorical_accuracy: 0.3613 - loss: 26061.7089 - regularization_loss: 0.0000e+00 - total_loss: 26061.7089\n",
      "Epoch 8/15\n",
      "79/79 [==============================] - 155s 2s/step - factorized_top_k/top_1_categorical_accuracy: 0.0187 - factorized_top_k/top_5_categorical_accuracy: 0.0825 - factorized_top_k/top_10_categorical_accuracy: 0.1298 - factorized_top_k/top_50_categorical_accuracy: 0.2970 - factorized_top_k/top_100_categorical_accuracy: 0.3939 - loss: 25276.3946 - regularization_loss: 0.0000e+00 - total_loss: 25276.3946\n",
      "Epoch 9/15\n",
      "79/79 [==============================] - 156s 2s/step - factorized_top_k/top_1_categorical_accuracy: 0.0160 - factorized_top_k/top_5_categorical_accuracy: 0.0795 - factorized_top_k/top_10_categorical_accuracy: 0.1289 - factorized_top_k/top_50_categorical_accuracy: 0.3095 - factorized_top_k/top_100_categorical_accuracy: 0.4141 - loss: 24656.3346 - regularization_loss: 0.0000e+00 - total_loss: 24656.3346\n",
      "Epoch 10/15\n",
      "79/79 [==============================] - 156s 2s/step - factorized_top_k/top_1_categorical_accuracy: 0.0129 - factorized_top_k/top_5_categorical_accuracy: 0.0760 - factorized_top_k/top_10_categorical_accuracy: 0.1270 - factorized_top_k/top_50_categorical_accuracy: 0.3191 - factorized_top_k/top_100_categorical_accuracy: 0.4302 - loss: 24168.7096 - regularization_loss: 0.0000e+00 - total_loss: 24168.7096\n",
      "Epoch 11/15\n",
      "79/79 [==============================] - 155s 2s/step - factorized_top_k/top_1_categorical_accuracy: 0.0107 - factorized_top_k/top_5_categorical_accuracy: 0.0720 - factorized_top_k/top_10_categorical_accuracy: 0.1231 - factorized_top_k/top_50_categorical_accuracy: 0.3233 - factorized_top_k/top_100_categorical_accuracy: 0.4405 - loss: 23812.5198 - regularization_loss: 0.0000e+00 - total_loss: 23812.5198\n",
      "Epoch 12/15\n",
      "79/79 [==============================] - 160s 2s/step - factorized_top_k/top_1_categorical_accuracy: 0.0082 - factorized_top_k/top_5_categorical_accuracy: 0.0693 - factorized_top_k/top_10_categorical_accuracy: 0.1207 - factorized_top_k/top_50_categorical_accuracy: 0.3274 - factorized_top_k/top_100_categorical_accuracy: 0.4481 - loss: 23577.4236 - regularization_loss: 0.0000e+00 - total_loss: 23577.4236\n",
      "Epoch 13/15\n",
      "79/79 [==============================] - 154s 2s/step - factorized_top_k/top_1_categorical_accuracy: 0.0058 - factorized_top_k/top_5_categorical_accuracy: 0.0675 - factorized_top_k/top_10_categorical_accuracy: 0.1192 - factorized_top_k/top_50_categorical_accuracy: 0.3299 - factorized_top_k/top_100_categorical_accuracy: 0.4531 - loss: 23453.0144 - regularization_loss: 0.0000e+00 - total_loss: 23453.0144\n",
      "Epoch 14/15\n",
      "79/79 [==============================] - 154s 2s/step - factorized_top_k/top_1_categorical_accuracy: 0.0053 - factorized_top_k/top_5_categorical_accuracy: 0.0672 - factorized_top_k/top_10_categorical_accuracy: 0.1195 - factorized_top_k/top_50_categorical_accuracy: 0.3320 - factorized_top_k/top_100_categorical_accuracy: 0.4561 - loss: 23394.9562 - regularization_loss: 0.0000e+00 - total_loss: 23394.9562\n",
      "Epoch 15/15\n",
      "79/79 [==============================] - 154s 2s/step - factorized_top_k/top_1_categorical_accuracy: 0.0098 - factorized_top_k/top_5_categorical_accuracy: 0.0695 - factorized_top_k/top_10_categorical_accuracy: 0.1213 - factorized_top_k/top_50_categorical_accuracy: 0.3335 - factorized_top_k/top_100_categorical_accuracy: 0.4576 - loss: 23371.7043 - regularization_loss: 0.0000e+00 - total_loss: 23371.7043\n"
     ]
    },
    {
     "data": {
      "text/plain": "<keras.callbacks.History at 0x1389a1490>"
     },
     "execution_count": 33,
     "metadata": {},
     "output_type": "execute_result"
    }
   ],
   "source": [
    "# Create a retrieval model.\n",
    "model = BookBXModel(user_model, book_model, task)\n",
    "\n",
    "epochs = 15\n",
    "#cosine schedule\n",
    "model.compile(\n",
    "    optimizer=tf.keras.optimizers.Adam(\n",
    "        tf.keras.optimizers.schedules.CosineDecay(\n",
    "            initial_learning_rate=0.05,\n",
    "            decay_steps=epochs * len(ds_ratings_with_title) // 4096,\n",
    "        ),\n",
    "    )\n",
    ")\n",
    "\n",
    "# Train for 3 epochs.\n",
    "model.fit(ds_ratings_with_title.batch(4096), epochs=epochs)\n"
   ],
   "metadata": {
    "collapsed": false
   }
  },
  {
   "cell_type": "markdown",
   "source": [
    "# divide dataset into train and test"
   ],
   "metadata": {
    "collapsed": false
   }
  },
  {
   "cell_type": "code",
   "execution_count": 82,
   "outputs": [],
   "source": [
    "def train_model(train, test, model, epochs, batch_size, lr=0.01, cosine_decay=False):\n",
    "    tensorboard_callback = tf.keras.callbacks.TensorBoard(log_dir=\"./logs\")\n",
    "\n",
    "    model.compile(\n",
    "        optimizer=tf.keras.optimizers.Adam(\n",
    "            tf.keras.optimizers.schedules.CosineDecay(\n",
    "                initial_learning_rate=lr,\n",
    "                decay_steps=epochs * len(train) // batch_size,\n",
    "            ) if cosine_decay\n",
    "\n",
    "            else lr\n",
    "        )\n",
    "    )\n",
    "    model.fit(train.batch(batch_size),  # todo forgot to shuffle\n",
    "              validation_data=test.batch(batch_size),\n",
    "              epochs=epochs,\n",
    "                callbacks=[tensorboard_callback]\n",
    "              )\n",
    "    return model"
   ],
   "metadata": {
    "collapsed": false
   }
  },
  {
   "cell_type": "code",
   "execution_count": 50,
   "outputs": [],
   "source": [
    "from dataset import train_test_split"
   ],
   "metadata": {
    "collapsed": false
   }
  },
  {
   "cell_type": "code",
   "execution_count": 40,
   "outputs": [
    {
     "name": "stdout",
     "output_type": "stream",
     "text": [
      "Epoch 1/15\n",
      "63/63 [==============================] - 146s 2s/step - factorized_top_k/top_1_categorical_accuracy: 0.0151 - factorized_top_k/top_5_categorical_accuracy: 0.0957 - factorized_top_k/top_10_categorical_accuracy: 0.1513 - factorized_top_k/top_50_categorical_accuracy: 0.3074 - factorized_top_k/top_100_categorical_accuracy: 0.3924 - loss: 26511.7045 - regularization_loss: 0.0000e+00 - total_loss: 26511.7045 - val_factorized_top_k/top_1_categorical_accuracy: 9.3897e-05 - val_factorized_top_k/top_5_categorical_accuracy: 0.0030 - val_factorized_top_k/top_10_categorical_accuracy: 0.0088 - val_factorized_top_k/top_50_categorical_accuracy: 0.0572 - val_factorized_top_k/top_100_categorical_accuracy: 0.1033 - val_loss: 20606.7852 - val_regularization_loss: 0.0000e+00 - val_total_loss: 20606.7852\n",
      "Epoch 2/15\n",
      "63/63 [==============================] - 144s 2s/step - factorized_top_k/top_1_categorical_accuracy: 0.0116 - factorized_top_k/top_5_categorical_accuracy: 0.1113 - factorized_top_k/top_10_categorical_accuracy: 0.1909 - factorized_top_k/top_50_categorical_accuracy: 0.3763 - factorized_top_k/top_100_categorical_accuracy: 0.4639 - loss: 24593.4319 - regularization_loss: 0.0000e+00 - total_loss: 24593.4319 - val_factorized_top_k/top_1_categorical_accuracy: 6.2598e-05 - val_factorized_top_k/top_5_categorical_accuracy: 0.0023 - val_factorized_top_k/top_10_categorical_accuracy: 0.0081 - val_factorized_top_k/top_50_categorical_accuracy: 0.0573 - val_factorized_top_k/top_100_categorical_accuracy: 0.1060 - val_loss: 20653.0391 - val_regularization_loss: 0.0000e+00 - val_total_loss: 20653.0391\n",
      "Epoch 3/15\n",
      "63/63 [==============================] - 146s 2s/step - factorized_top_k/top_1_categorical_accuracy: 0.0096 - factorized_top_k/top_5_categorical_accuracy: 0.1162 - factorized_top_k/top_10_categorical_accuracy: 0.2105 - factorized_top_k/top_50_categorical_accuracy: 0.4079 - factorized_top_k/top_100_categorical_accuracy: 0.4949 - loss: 23784.3173 - regularization_loss: 0.0000e+00 - total_loss: 23784.3173 - val_factorized_top_k/top_1_categorical_accuracy: 4.6948e-05 - val_factorized_top_k/top_5_categorical_accuracy: 0.0018 - val_factorized_top_k/top_10_categorical_accuracy: 0.0075 - val_factorized_top_k/top_50_categorical_accuracy: 0.0572 - val_factorized_top_k/top_100_categorical_accuracy: 0.1067 - val_loss: 20856.4180 - val_regularization_loss: 0.0000e+00 - val_total_loss: 20856.4180\n",
      "Epoch 4/15\n",
      "63/63 [==============================] - 156s 2s/step - factorized_top_k/top_1_categorical_accuracy: 0.0089 - factorized_top_k/top_5_categorical_accuracy: 0.1202 - factorized_top_k/top_10_categorical_accuracy: 0.2247 - factorized_top_k/top_50_categorical_accuracy: 0.4291 - factorized_top_k/top_100_categorical_accuracy: 0.5160 - loss: 23255.7270 - regularization_loss: 0.0000e+00 - total_loss: 23255.7270 - val_factorized_top_k/top_1_categorical_accuracy: 4.6948e-05 - val_factorized_top_k/top_5_categorical_accuracy: 0.0016 - val_factorized_top_k/top_10_categorical_accuracy: 0.0070 - val_factorized_top_k/top_50_categorical_accuracy: 0.0563 - val_factorized_top_k/top_100_categorical_accuracy: 0.1063 - val_loss: 21095.4062 - val_regularization_loss: 0.0000e+00 - val_total_loss: 21095.4062\n",
      "Epoch 5/15\n",
      "63/63 [==============================] - 133s 2s/step - factorized_top_k/top_1_categorical_accuracy: 0.0084 - factorized_top_k/top_5_categorical_accuracy: 0.1240 - factorized_top_k/top_10_categorical_accuracy: 0.2349 - factorized_top_k/top_50_categorical_accuracy: 0.4445 - factorized_top_k/top_100_categorical_accuracy: 0.5312 - loss: 22861.8545 - regularization_loss: 0.0000e+00 - total_loss: 22861.8545 - val_factorized_top_k/top_1_categorical_accuracy: 4.6948e-05 - val_factorized_top_k/top_5_categorical_accuracy: 0.0014 - val_factorized_top_k/top_10_categorical_accuracy: 0.0070 - val_factorized_top_k/top_50_categorical_accuracy: 0.0553 - val_factorized_top_k/top_100_categorical_accuracy: 0.1056 - val_loss: 21322.6211 - val_regularization_loss: 0.0000e+00 - val_total_loss: 21322.6211\n",
      "Epoch 6/15\n",
      "63/63 [==============================] - 135s 2s/step - factorized_top_k/top_1_categorical_accuracy: 0.0080 - factorized_top_k/top_5_categorical_accuracy: 0.1286 - factorized_top_k/top_10_categorical_accuracy: 0.2437 - factorized_top_k/top_50_categorical_accuracy: 0.4570 - factorized_top_k/top_100_categorical_accuracy: 0.5436 - loss: 22540.8139 - regularization_loss: 0.0000e+00 - total_loss: 22540.8139 - val_factorized_top_k/top_1_categorical_accuracy: 3.1299e-05 - val_factorized_top_k/top_5_categorical_accuracy: 0.0014 - val_factorized_top_k/top_10_categorical_accuracy: 0.0064 - val_factorized_top_k/top_50_categorical_accuracy: 0.0549 - val_factorized_top_k/top_100_categorical_accuracy: 0.1050 - val_loss: 21527.3945 - val_regularization_loss: 0.0000e+00 - val_total_loss: 21527.3945\n",
      "Epoch 7/15\n",
      "63/63 [==============================] - 141s 2s/step - factorized_top_k/top_1_categorical_accuracy: 0.0082 - factorized_top_k/top_5_categorical_accuracy: 0.1342 - factorized_top_k/top_10_categorical_accuracy: 0.2515 - factorized_top_k/top_50_categorical_accuracy: 0.4669 - factorized_top_k/top_100_categorical_accuracy: 0.5538 - loss: 22265.2476 - regularization_loss: 0.0000e+00 - total_loss: 22265.2476 - val_factorized_top_k/top_1_categorical_accuracy: 3.1299e-05 - val_factorized_top_k/top_5_categorical_accuracy: 0.0013 - val_factorized_top_k/top_10_categorical_accuracy: 0.0062 - val_factorized_top_k/top_50_categorical_accuracy: 0.0541 - val_factorized_top_k/top_100_categorical_accuracy: 0.1043 - val_loss: 21703.0977 - val_regularization_loss: 0.0000e+00 - val_total_loss: 21703.0977\n",
      "Epoch 8/15\n",
      "63/63 [==============================] - 138s 2s/step - factorized_top_k/top_1_categorical_accuracy: 0.0085 - factorized_top_k/top_5_categorical_accuracy: 0.1399 - factorized_top_k/top_10_categorical_accuracy: 0.2589 - factorized_top_k/top_50_categorical_accuracy: 0.4755 - factorized_top_k/top_100_categorical_accuracy: 0.5624 - loss: 22025.0343 - regularization_loss: 0.0000e+00 - total_loss: 22025.0343 - val_factorized_top_k/top_1_categorical_accuracy: 7.8247e-05 - val_factorized_top_k/top_5_categorical_accuracy: 0.0012 - val_factorized_top_k/top_10_categorical_accuracy: 0.0061 - val_factorized_top_k/top_50_categorical_accuracy: 0.0534 - val_factorized_top_k/top_100_categorical_accuracy: 0.1037 - val_loss: 21851.8320 - val_regularization_loss: 0.0000e+00 - val_total_loss: 21851.8320\n",
      "Epoch 9/15\n",
      "63/63 [==============================] - 133s 2s/step - factorized_top_k/top_1_categorical_accuracy: 0.0085 - factorized_top_k/top_5_categorical_accuracy: 0.1456 - factorized_top_k/top_10_categorical_accuracy: 0.2653 - factorized_top_k/top_50_categorical_accuracy: 0.4830 - factorized_top_k/top_100_categorical_accuracy: 0.5697 - loss: 21816.2442 - regularization_loss: 0.0000e+00 - total_loss: 21816.2442 - val_factorized_top_k/top_1_categorical_accuracy: 7.8247e-05 - val_factorized_top_k/top_5_categorical_accuracy: 0.0011 - val_factorized_top_k/top_10_categorical_accuracy: 0.0059 - val_factorized_top_k/top_50_categorical_accuracy: 0.0533 - val_factorized_top_k/top_100_categorical_accuracy: 0.1031 - val_loss: 21969.8555 - val_regularization_loss: 0.0000e+00 - val_total_loss: 21969.8555\n",
      "Epoch 10/15\n",
      "63/63 [==============================] - 142s 2s/step - factorized_top_k/top_1_categorical_accuracy: 0.0088 - factorized_top_k/top_5_categorical_accuracy: 0.1522 - factorized_top_k/top_10_categorical_accuracy: 0.2718 - factorized_top_k/top_50_categorical_accuracy: 0.4890 - factorized_top_k/top_100_categorical_accuracy: 0.5759 - loss: 21639.0235 - regularization_loss: 0.0000e+00 - total_loss: 21639.0235 - val_factorized_top_k/top_1_categorical_accuracy: 6.2598e-05 - val_factorized_top_k/top_5_categorical_accuracy: 0.0012 - val_factorized_top_k/top_10_categorical_accuracy: 0.0056 - val_factorized_top_k/top_50_categorical_accuracy: 0.0531 - val_factorized_top_k/top_100_categorical_accuracy: 0.1032 - val_loss: 22060.4414 - val_regularization_loss: 0.0000e+00 - val_total_loss: 22060.4414\n",
      "Epoch 11/15\n",
      "63/63 [==============================] - 147s 2s/step - factorized_top_k/top_1_categorical_accuracy: 0.0090 - factorized_top_k/top_5_categorical_accuracy: 0.1578 - factorized_top_k/top_10_categorical_accuracy: 0.2769 - factorized_top_k/top_50_categorical_accuracy: 0.4940 - factorized_top_k/top_100_categorical_accuracy: 0.5804 - loss: 21493.8399 - regularization_loss: 0.0000e+00 - total_loss: 21493.8399 - val_factorized_top_k/top_1_categorical_accuracy: 3.1299e-05 - val_factorized_top_k/top_5_categorical_accuracy: 0.0011 - val_factorized_top_k/top_10_categorical_accuracy: 0.0057 - val_factorized_top_k/top_50_categorical_accuracy: 0.0526 - val_factorized_top_k/top_100_categorical_accuracy: 0.1030 - val_loss: 22124.0195 - val_regularization_loss: 0.0000e+00 - val_total_loss: 22124.0195\n",
      "Epoch 12/15\n",
      "63/63 [==============================] - 122s 2s/step - factorized_top_k/top_1_categorical_accuracy: 0.0092 - factorized_top_k/top_5_categorical_accuracy: 0.1622 - factorized_top_k/top_10_categorical_accuracy: 0.2812 - factorized_top_k/top_50_categorical_accuracy: 0.4975 - factorized_top_k/top_100_categorical_accuracy: 0.5838 - loss: 21381.0468 - regularization_loss: 0.0000e+00 - total_loss: 21381.0468 - val_factorized_top_k/top_1_categorical_accuracy: 4.6948e-05 - val_factorized_top_k/top_5_categorical_accuracy: 0.0011 - val_factorized_top_k/top_10_categorical_accuracy: 0.0056 - val_factorized_top_k/top_50_categorical_accuracy: 0.0528 - val_factorized_top_k/top_100_categorical_accuracy: 0.1027 - val_loss: 22164.0898 - val_regularization_loss: 0.0000e+00 - val_total_loss: 22164.0898\n",
      "Epoch 13/15\n",
      "63/63 [==============================] - 123s 2s/step - factorized_top_k/top_1_categorical_accuracy: 0.0092 - factorized_top_k/top_5_categorical_accuracy: 0.1665 - factorized_top_k/top_10_categorical_accuracy: 0.2844 - factorized_top_k/top_50_categorical_accuracy: 0.5002 - factorized_top_k/top_100_categorical_accuracy: 0.5864 - loss: 21300.0754 - regularization_loss: 0.0000e+00 - total_loss: 21300.0754 - val_factorized_top_k/top_1_categorical_accuracy: 9.3897e-05 - val_factorized_top_k/top_5_categorical_accuracy: 0.0010 - val_factorized_top_k/top_10_categorical_accuracy: 0.0057 - val_factorized_top_k/top_50_categorical_accuracy: 0.0526 - val_factorized_top_k/top_100_categorical_accuracy: 0.1025 - val_loss: 22184.9609 - val_regularization_loss: 0.0000e+00 - val_total_loss: 22184.9609\n",
      "Epoch 14/15\n",
      "63/63 [==============================] - 120s 2s/step - factorized_top_k/top_1_categorical_accuracy: 0.0095 - factorized_top_k/top_5_categorical_accuracy: 0.1691 - factorized_top_k/top_10_categorical_accuracy: 0.2867 - factorized_top_k/top_50_categorical_accuracy: 0.5018 - factorized_top_k/top_100_categorical_accuracy: 0.5878 - loss: 21249.3238 - regularization_loss: 0.0000e+00 - total_loss: 21249.3238 - val_factorized_top_k/top_1_categorical_accuracy: 3.1299e-05 - val_factorized_top_k/top_5_categorical_accuracy: 0.0011 - val_factorized_top_k/top_10_categorical_accuracy: 0.0056 - val_factorized_top_k/top_50_categorical_accuracy: 0.0528 - val_factorized_top_k/top_100_categorical_accuracy: 0.1026 - val_loss: 22192.3750 - val_regularization_loss: 0.0000e+00 - val_total_loss: 22192.3750\n",
      "Epoch 15/15\n",
      "63/63 [==============================] - 125s 2s/step - factorized_top_k/top_1_categorical_accuracy: 0.0122 - factorized_top_k/top_5_categorical_accuracy: 0.1725 - factorized_top_k/top_10_categorical_accuracy: 0.2888 - factorized_top_k/top_50_categorical_accuracy: 0.5028 - factorized_top_k/top_100_categorical_accuracy: 0.5884 - loss: 21226.0631 - regularization_loss: 0.0000e+00 - total_loss: 21226.0631 - val_factorized_top_k/top_1_categorical_accuracy: 3.1299e-05 - val_factorized_top_k/top_5_categorical_accuracy: 0.0011 - val_factorized_top_k/top_10_categorical_accuracy: 0.0057 - val_factorized_top_k/top_50_categorical_accuracy: 0.0526 - val_factorized_top_k/top_100_categorical_accuracy: 0.1025 - val_loss: 22193.1562 - val_regularization_loss: 0.0000e+00 - val_total_loss: 22193.1562\n"
     ]
    },
    {
     "data": {
      "text/plain": "<keras.callbacks.History at 0x13aad1c90>"
     },
     "execution_count": 40,
     "metadata": {},
     "output_type": "execute_result"
    }
   ],
   "source": [
    "# Create a retrieval model.\n",
    "model = BookBXModel(user_model, book_model, task)\n",
    "\n",
    "epochs = 15\n",
    "batch_size = 4096\n",
    "#cosine schedule\n",
    "model.compile(\n",
    "    optimizer=tf.keras.optimizers.Adam(\n",
    "        tf.keras.optimizers.schedules.CosineDecay(\n",
    "            initial_learning_rate=0.01,\n",
    "            decay_steps=epochs * len(train) // batch_size,\n",
    "        ),\n",
    "    )\n",
    ")\n",
    "\n",
    "model.fit(train.batch(batch_size),\n",
    "          validation_data=test.batch(batch_size),\n",
    "          epochs=epochs)\n"
   ],
   "metadata": {
    "collapsed": false
   }
  },
  {
   "cell_type": "code",
   "execution_count": 76,
   "outputs": [
    {
     "data": {
      "text/plain": "<module 'dataset' from '/Users/adam/datasentics-uloha/dataset.py'>"
     },
     "execution_count": 76,
     "metadata": {},
     "output_type": "execute_result"
    }
   ],
   "source": [
    "import dataset\n",
    "import importlib\n",
    "importlib.reload(dataset)\n"
   ],
   "metadata": {
    "collapsed": false
   }
  },
  {
   "cell_type": "code",
   "execution_count": 79,
   "outputs": [],
   "source": [
    "ratings_with_title_user_less_200 = filter_ratings(ratings_with_title, user_ratings_max_count=200)\n",
    "from dataset import squash_user_ids\n",
    "new_to_orig_user_id, orig_to_new_user_id = squash_user_ids(ratings_with_title_user_less_200)\n"
   ],
   "metadata": {
    "collapsed": false
   }
  },
  {
   "cell_type": "code",
   "execution_count": 80,
   "outputs": [
    {
     "data": {
      "text/plain": "224170"
     },
     "execution_count": 80,
     "metadata": {},
     "output_type": "execute_result"
    }
   ],
   "source": [
    "len(ratings_with_title_user_less_200)"
   ],
   "metadata": {
    "collapsed": false
   }
  },
  {
   "cell_type": "code",
   "execution_count": 81,
   "outputs": [
    {
     "name": "stdout",
     "output_type": "stream",
     "text": [
      "Epoch 1/15\n",
      "44/44 [==============================] - 102s 2s/step - factorized_top_k/top_1_categorical_accuracy: 1.2267e-04 - factorized_top_k/top_5_categorical_accuracy: 9.8697e-04 - factorized_top_k/top_10_categorical_accuracy: 0.0024 - factorized_top_k/top_50_categorical_accuracy: 0.0129 - factorized_top_k/top_100_categorical_accuracy: 0.0268 - loss: 53310.5327 - regularization_loss: 0.0000e+00 - total_loss: 53310.5327 - val_factorized_top_k/top_1_categorical_accuracy: 1.7844e-04 - val_factorized_top_k/top_5_categorical_accuracy: 0.0013 - val_factorized_top_k/top_10_categorical_accuracy: 0.0030 - val_factorized_top_k/top_50_categorical_accuracy: 0.0157 - val_factorized_top_k/top_100_categorical_accuracy: 0.0321 - val_loss: 44607.2617 - val_regularization_loss: 0.0000e+00 - val_total_loss: 44607.2617\n",
      "Epoch 2/15\n",
      "44/44 [==============================] - 84s 2s/step - factorized_top_k/top_1_categorical_accuracy: 4.9070e-04 - factorized_top_k/top_5_categorical_accuracy: 0.0043 - factorized_top_k/top_10_categorical_accuracy: 0.0088 - factorized_top_k/top_50_categorical_accuracy: 0.0377 - factorized_top_k/top_100_categorical_accuracy: 0.0694 - loss: 40477.0661 - regularization_loss: 0.0000e+00 - total_loss: 40477.0661 - val_factorized_top_k/top_1_categorical_accuracy: 3.1226e-04 - val_factorized_top_k/top_5_categorical_accuracy: 0.0023 - val_factorized_top_k/top_10_categorical_accuracy: 0.0053 - val_factorized_top_k/top_50_categorical_accuracy: 0.0264 - val_factorized_top_k/top_100_categorical_accuracy: 0.0516 - val_loss: 38786.1602 - val_regularization_loss: 0.0000e+00 - val_total_loss: 38786.1602\n",
      "Epoch 3/15\n",
      "44/44 [==============================] - 82s 2s/step - factorized_top_k/top_1_categorical_accuracy: 9.8697e-04 - factorized_top_k/top_5_categorical_accuracy: 0.0126 - factorized_top_k/top_10_categorical_accuracy: 0.0237 - factorized_top_k/top_50_categorical_accuracy: 0.0817 - factorized_top_k/top_100_categorical_accuracy: 0.1354 - loss: 34551.3752 - regularization_loss: 0.0000e+00 - total_loss: 34551.3752 - val_factorized_top_k/top_1_categorical_accuracy: 4.2379e-04 - val_factorized_top_k/top_5_categorical_accuracy: 0.0036 - val_factorized_top_k/top_10_categorical_accuracy: 0.0075 - val_factorized_top_k/top_50_categorical_accuracy: 0.0364 - val_factorized_top_k/top_100_categorical_accuracy: 0.0679 - val_loss: 36091.4805 - val_regularization_loss: 0.0000e+00 - val_total_loss: 36091.4805\n",
      "Epoch 4/15\n",
      "44/44 [==============================] - 83s 2s/step - factorized_top_k/top_1_categorical_accuracy: 0.0013 - factorized_top_k/top_5_categorical_accuracy: 0.0250 - factorized_top_k/top_10_categorical_accuracy: 0.0457 - factorized_top_k/top_50_categorical_accuracy: 0.1367 - factorized_top_k/top_100_categorical_accuracy: 0.2091 - loss: 31153.3531 - regularization_loss: 0.0000e+00 - total_loss: 31153.3531 - val_factorized_top_k/top_1_categorical_accuracy: 4.9070e-04 - val_factorized_top_k/top_5_categorical_accuracy: 0.0037 - val_factorized_top_k/top_10_categorical_accuracy: 0.0082 - val_factorized_top_k/top_50_categorical_accuracy: 0.0433 - val_factorized_top_k/top_100_categorical_accuracy: 0.0800 - val_loss: 34748.1289 - val_regularization_loss: 0.0000e+00 - val_total_loss: 34748.1289\n",
      "Epoch 5/15\n",
      "44/44 [==============================] - 83s 2s/step - factorized_top_k/top_1_categorical_accuracy: 0.0018 - factorized_top_k/top_5_categorical_accuracy: 0.0406 - factorized_top_k/top_10_categorical_accuracy: 0.0714 - factorized_top_k/top_50_categorical_accuracy: 0.1929 - factorized_top_k/top_100_categorical_accuracy: 0.2796 - loss: 28966.4709 - regularization_loss: 0.0000e+00 - total_loss: 28966.4709 - val_factorized_top_k/top_1_categorical_accuracy: 3.7918e-04 - val_factorized_top_k/top_5_categorical_accuracy: 0.0035 - val_factorized_top_k/top_10_categorical_accuracy: 0.0085 - val_factorized_top_k/top_50_categorical_accuracy: 0.0498 - val_factorized_top_k/top_100_categorical_accuracy: 0.0900 - val_loss: 34077.8047 - val_regularization_loss: 0.0000e+00 - val_total_loss: 34077.8047\n",
      "Epoch 6/15\n",
      "44/44 [==============================] - 82s 2s/step - factorized_top_k/top_1_categorical_accuracy: 0.0023 - factorized_top_k/top_5_categorical_accuracy: 0.0569 - factorized_top_k/top_10_categorical_accuracy: 0.0974 - factorized_top_k/top_50_categorical_accuracy: 0.2448 - factorized_top_k/top_100_categorical_accuracy: 0.3406 - loss: 27445.4735 - regularization_loss: 0.0000e+00 - total_loss: 27445.4735 - val_factorized_top_k/top_1_categorical_accuracy: 2.6765e-04 - val_factorized_top_k/top_5_categorical_accuracy: 0.0033 - val_factorized_top_k/top_10_categorical_accuracy: 0.0087 - val_factorized_top_k/top_50_categorical_accuracy: 0.0535 - val_factorized_top_k/top_100_categorical_accuracy: 0.0971 - val_loss: 33763.0977 - val_regularization_loss: 0.0000e+00 - val_total_loss: 33763.0977\n",
      "Epoch 7/15\n",
      "44/44 [==============================] - 86s 2s/step - factorized_top_k/top_1_categorical_accuracy: 0.0033 - factorized_top_k/top_5_categorical_accuracy: 0.0723 - factorized_top_k/top_10_categorical_accuracy: 0.1220 - factorized_top_k/top_50_categorical_accuracy: 0.2888 - factorized_top_k/top_100_categorical_accuracy: 0.3904 - loss: 26335.0242 - regularization_loss: 0.0000e+00 - total_loss: 26335.0242 - val_factorized_top_k/top_1_categorical_accuracy: 2.4535e-04 - val_factorized_top_k/top_5_categorical_accuracy: 0.0030 - val_factorized_top_k/top_10_categorical_accuracy: 0.0088 - val_factorized_top_k/top_50_categorical_accuracy: 0.0556 - val_factorized_top_k/top_100_categorical_accuracy: 0.1027 - val_loss: 33634.7422 - val_regularization_loss: 0.0000e+00 - val_total_loss: 33634.7422\n",
      "Epoch 8/15\n",
      "44/44 [==============================] - 99s 2s/step - factorized_top_k/top_1_categorical_accuracy: 0.0038 - factorized_top_k/top_5_categorical_accuracy: 0.0866 - factorized_top_k/top_10_categorical_accuracy: 0.1438 - factorized_top_k/top_50_categorical_accuracy: 0.3252 - factorized_top_k/top_100_categorical_accuracy: 0.4301 - loss: 25503.6050 - regularization_loss: 0.0000e+00 - total_loss: 25503.6050 - val_factorized_top_k/top_1_categorical_accuracy: 1.1152e-04 - val_factorized_top_k/top_5_categorical_accuracy: 0.0028 - val_factorized_top_k/top_10_categorical_accuracy: 0.0085 - val_factorized_top_k/top_50_categorical_accuracy: 0.0570 - val_factorized_top_k/top_100_categorical_accuracy: 0.1061 - val_loss: 33605.4883 - val_regularization_loss: 0.0000e+00 - val_total_loss: 33605.4883\n",
      "Epoch 9/15\n",
      "44/44 [==============================] - 94s 2s/step - factorized_top_k/top_1_categorical_accuracy: 0.0044 - factorized_top_k/top_5_categorical_accuracy: 0.0985 - factorized_top_k/top_10_categorical_accuracy: 0.1620 - factorized_top_k/top_50_categorical_accuracy: 0.3540 - factorized_top_k/top_100_categorical_accuracy: 0.4607 - loss: 24876.5214 - regularization_loss: 0.0000e+00 - total_loss: 24876.5214 - val_factorized_top_k/top_1_categorical_accuracy: 8.9218e-05 - val_factorized_top_k/top_5_categorical_accuracy: 0.0025 - val_factorized_top_k/top_10_categorical_accuracy: 0.0084 - val_factorized_top_k/top_50_categorical_accuracy: 0.0588 - val_factorized_top_k/top_100_categorical_accuracy: 0.1089 - val_loss: 33623.4766 - val_regularization_loss: 0.0000e+00 - val_total_loss: 33623.4766\n",
      "Epoch 10/15\n",
      " 6/44 [===>..........................] - ETA: 1:06 - factorized_top_k/top_1_categorical_accuracy: 0.0049 - factorized_top_k/top_5_categorical_accuracy: 0.1163 - factorized_top_k/top_10_categorical_accuracy: 0.1860 - factorized_top_k/top_50_categorical_accuracy: 0.3861 - factorized_top_k/top_100_categorical_accuracy: 0.4936 - loss: 24409.3802 - regularization_loss: 0.0000e+00 - total_loss: 24409.3802"
     ]
    },
    {
     "ename": "KeyboardInterrupt",
     "evalue": "",
     "output_type": "error",
     "traceback": [
      "\u001B[0;31m---------------------------------------------------------------------------\u001B[0m",
      "\u001B[0;31mKeyboardInterrupt\u001B[0m                         Traceback (most recent call last)",
      "Cell \u001B[0;32mIn[81], line 1\u001B[0m\n\u001B[0;32m----> 1\u001B[0m \u001B[43mtrain_model\u001B[49m\u001B[43m(\u001B[49m\u001B[38;5;241;43m*\u001B[39;49m\u001B[43mtrain_test_split\u001B[49m\u001B[43m(\u001B[49m\u001B[43mratings_with_title_user_less_200\u001B[49m\u001B[43m[\u001B[49m\u001B[43m[\u001B[49m\u001B[38;5;124;43m'\u001B[39;49m\u001B[38;5;124;43mBook-Title\u001B[39;49m\u001B[38;5;124;43m'\u001B[39;49m\u001B[43m,\u001B[49m\u001B[43m \u001B[49m\u001B[38;5;124;43m'\u001B[39;49m\u001B[38;5;124;43mUser-ID\u001B[39;49m\u001B[38;5;124;43m'\u001B[39;49m\u001B[43m]\u001B[49m\u001B[43m]\u001B[49m\u001B[43m)\u001B[49m\u001B[43m,\u001B[49m\u001B[43m \u001B[49m\u001B[43mmodel\u001B[49m\u001B[43m,\u001B[49m\u001B[43m \u001B[49m\u001B[43mepochs\u001B[49m\u001B[38;5;241;43m=\u001B[39;49m\u001B[38;5;241;43m15\u001B[39;49m\u001B[43m,\u001B[49m\u001B[43m \u001B[49m\u001B[43mbatch_size\u001B[49m\u001B[38;5;241;43m=\u001B[39;49m\u001B[38;5;241;43m4096\u001B[39;49m\u001B[43m,\u001B[49m\u001B[43m \u001B[49m\u001B[43mlr\u001B[49m\u001B[38;5;241;43m=\u001B[39;49m\u001B[38;5;241;43m0.01\u001B[39;49m\u001B[43m)\u001B[49m\n",
      "Cell \u001B[0;32mIn[47], line 12\u001B[0m, in \u001B[0;36mtrain_model\u001B[0;34m(train, test, model, epochs, batch_size, lr)\u001B[0m\n\u001B[1;32m      2\u001B[0m tensorboard_callback \u001B[38;5;241m=\u001B[39m tf\u001B[38;5;241m.\u001B[39mkeras\u001B[38;5;241m.\u001B[39mcallbacks\u001B[38;5;241m.\u001B[39mTensorBoard(log_dir\u001B[38;5;241m=\u001B[39m\u001B[38;5;124m\"\u001B[39m\u001B[38;5;124m./logs\u001B[39m\u001B[38;5;124m\"\u001B[39m)\n\u001B[1;32m      4\u001B[0m model\u001B[38;5;241m.\u001B[39mcompile(\n\u001B[1;32m      5\u001B[0m     optimizer\u001B[38;5;241m=\u001B[39mtf\u001B[38;5;241m.\u001B[39mkeras\u001B[38;5;241m.\u001B[39moptimizers\u001B[38;5;241m.\u001B[39mAdam(\n\u001B[1;32m      6\u001B[0m         tf\u001B[38;5;241m.\u001B[39mkeras\u001B[38;5;241m.\u001B[39moptimizers\u001B[38;5;241m.\u001B[39mschedules\u001B[38;5;241m.\u001B[39mCosineDecay(\n\u001B[0;32m   (...)\u001B[0m\n\u001B[1;32m     10\u001B[0m     )\n\u001B[1;32m     11\u001B[0m )\n\u001B[0;32m---> 12\u001B[0m \u001B[43mmodel\u001B[49m\u001B[38;5;241;43m.\u001B[39;49m\u001B[43mfit\u001B[49m\u001B[43m(\u001B[49m\u001B[43mtrain\u001B[49m\u001B[38;5;241;43m.\u001B[39;49m\u001B[43mbatch\u001B[49m\u001B[43m(\u001B[49m\u001B[43mbatch_size\u001B[49m\u001B[43m)\u001B[49m\u001B[43m,\u001B[49m\n\u001B[1;32m     13\u001B[0m \u001B[43m          \u001B[49m\u001B[43mvalidation_data\u001B[49m\u001B[38;5;241;43m=\u001B[39;49m\u001B[43mtest\u001B[49m\u001B[38;5;241;43m.\u001B[39;49m\u001B[43mbatch\u001B[49m\u001B[43m(\u001B[49m\u001B[43mbatch_size\u001B[49m\u001B[43m)\u001B[49m\u001B[43m,\u001B[49m\n\u001B[1;32m     14\u001B[0m \u001B[43m          \u001B[49m\u001B[43mepochs\u001B[49m\u001B[38;5;241;43m=\u001B[39;49m\u001B[43mepochs\u001B[49m\u001B[43m,\u001B[49m\n\u001B[1;32m     15\u001B[0m \u001B[43m            \u001B[49m\u001B[43mcallbacks\u001B[49m\u001B[38;5;241;43m=\u001B[39;49m\u001B[43m[\u001B[49m\u001B[43mtensorboard_callback\u001B[49m\u001B[43m]\u001B[49m\n\u001B[1;32m     16\u001B[0m \u001B[43m          \u001B[49m\u001B[43m)\u001B[49m\n\u001B[1;32m     17\u001B[0m \u001B[38;5;28;01mreturn\u001B[39;00m model\n",
      "File \u001B[0;32m~/venvs/datasentics-uloha/lib/python3.11/site-packages/keras/utils/traceback_utils.py:65\u001B[0m, in \u001B[0;36mfilter_traceback.<locals>.error_handler\u001B[0;34m(*args, **kwargs)\u001B[0m\n\u001B[1;32m     63\u001B[0m filtered_tb \u001B[38;5;241m=\u001B[39m \u001B[38;5;28;01mNone\u001B[39;00m\n\u001B[1;32m     64\u001B[0m \u001B[38;5;28;01mtry\u001B[39;00m:\n\u001B[0;32m---> 65\u001B[0m     \u001B[38;5;28;01mreturn\u001B[39;00m \u001B[43mfn\u001B[49m\u001B[43m(\u001B[49m\u001B[38;5;241;43m*\u001B[39;49m\u001B[43margs\u001B[49m\u001B[43m,\u001B[49m\u001B[43m \u001B[49m\u001B[38;5;241;43m*\u001B[39;49m\u001B[38;5;241;43m*\u001B[39;49m\u001B[43mkwargs\u001B[49m\u001B[43m)\u001B[49m\n\u001B[1;32m     66\u001B[0m \u001B[38;5;28;01mexcept\u001B[39;00m \u001B[38;5;167;01mException\u001B[39;00m \u001B[38;5;28;01mas\u001B[39;00m e:\n\u001B[1;32m     67\u001B[0m     filtered_tb \u001B[38;5;241m=\u001B[39m _process_traceback_frames(e\u001B[38;5;241m.\u001B[39m__traceback__)\n",
      "File \u001B[0;32m~/venvs/datasentics-uloha/lib/python3.11/site-packages/keras/engine/training.py:1685\u001B[0m, in \u001B[0;36mModel.fit\u001B[0;34m(self, x, y, batch_size, epochs, verbose, callbacks, validation_split, validation_data, shuffle, class_weight, sample_weight, initial_epoch, steps_per_epoch, validation_steps, validation_batch_size, validation_freq, max_queue_size, workers, use_multiprocessing)\u001B[0m\n\u001B[1;32m   1677\u001B[0m \u001B[38;5;28;01mwith\u001B[39;00m tf\u001B[38;5;241m.\u001B[39mprofiler\u001B[38;5;241m.\u001B[39mexperimental\u001B[38;5;241m.\u001B[39mTrace(\n\u001B[1;32m   1678\u001B[0m     \u001B[38;5;124m\"\u001B[39m\u001B[38;5;124mtrain\u001B[39m\u001B[38;5;124m\"\u001B[39m,\n\u001B[1;32m   1679\u001B[0m     epoch_num\u001B[38;5;241m=\u001B[39mepoch,\n\u001B[0;32m   (...)\u001B[0m\n\u001B[1;32m   1682\u001B[0m     _r\u001B[38;5;241m=\u001B[39m\u001B[38;5;241m1\u001B[39m,\n\u001B[1;32m   1683\u001B[0m ):\n\u001B[1;32m   1684\u001B[0m     callbacks\u001B[38;5;241m.\u001B[39mon_train_batch_begin(step)\n\u001B[0;32m-> 1685\u001B[0m     tmp_logs \u001B[38;5;241m=\u001B[39m \u001B[38;5;28;43mself\u001B[39;49m\u001B[38;5;241;43m.\u001B[39;49m\u001B[43mtrain_function\u001B[49m\u001B[43m(\u001B[49m\u001B[43miterator\u001B[49m\u001B[43m)\u001B[49m\n\u001B[1;32m   1686\u001B[0m     \u001B[38;5;28;01mif\u001B[39;00m data_handler\u001B[38;5;241m.\u001B[39mshould_sync:\n\u001B[1;32m   1687\u001B[0m         context\u001B[38;5;241m.\u001B[39masync_wait()\n",
      "File \u001B[0;32m~/venvs/datasentics-uloha/lib/python3.11/site-packages/tensorflow/python/util/traceback_utils.py:150\u001B[0m, in \u001B[0;36mfilter_traceback.<locals>.error_handler\u001B[0;34m(*args, **kwargs)\u001B[0m\n\u001B[1;32m    148\u001B[0m filtered_tb \u001B[38;5;241m=\u001B[39m \u001B[38;5;28;01mNone\u001B[39;00m\n\u001B[1;32m    149\u001B[0m \u001B[38;5;28;01mtry\u001B[39;00m:\n\u001B[0;32m--> 150\u001B[0m   \u001B[38;5;28;01mreturn\u001B[39;00m \u001B[43mfn\u001B[49m\u001B[43m(\u001B[49m\u001B[38;5;241;43m*\u001B[39;49m\u001B[43margs\u001B[49m\u001B[43m,\u001B[49m\u001B[43m \u001B[49m\u001B[38;5;241;43m*\u001B[39;49m\u001B[38;5;241;43m*\u001B[39;49m\u001B[43mkwargs\u001B[49m\u001B[43m)\u001B[49m\n\u001B[1;32m    151\u001B[0m \u001B[38;5;28;01mexcept\u001B[39;00m \u001B[38;5;167;01mException\u001B[39;00m \u001B[38;5;28;01mas\u001B[39;00m e:\n\u001B[1;32m    152\u001B[0m   filtered_tb \u001B[38;5;241m=\u001B[39m _process_traceback_frames(e\u001B[38;5;241m.\u001B[39m__traceback__)\n",
      "File \u001B[0;32m~/venvs/datasentics-uloha/lib/python3.11/site-packages/tensorflow/python/eager/polymorphic_function/polymorphic_function.py:894\u001B[0m, in \u001B[0;36mFunction.__call__\u001B[0;34m(self, *args, **kwds)\u001B[0m\n\u001B[1;32m    891\u001B[0m compiler \u001B[38;5;241m=\u001B[39m \u001B[38;5;124m\"\u001B[39m\u001B[38;5;124mxla\u001B[39m\u001B[38;5;124m\"\u001B[39m \u001B[38;5;28;01mif\u001B[39;00m \u001B[38;5;28mself\u001B[39m\u001B[38;5;241m.\u001B[39m_jit_compile \u001B[38;5;28;01melse\u001B[39;00m \u001B[38;5;124m\"\u001B[39m\u001B[38;5;124mnonXla\u001B[39m\u001B[38;5;124m\"\u001B[39m\n\u001B[1;32m    893\u001B[0m \u001B[38;5;28;01mwith\u001B[39;00m OptionalXlaContext(\u001B[38;5;28mself\u001B[39m\u001B[38;5;241m.\u001B[39m_jit_compile):\n\u001B[0;32m--> 894\u001B[0m   result \u001B[38;5;241m=\u001B[39m \u001B[38;5;28;43mself\u001B[39;49m\u001B[38;5;241;43m.\u001B[39;49m\u001B[43m_call\u001B[49m\u001B[43m(\u001B[49m\u001B[38;5;241;43m*\u001B[39;49m\u001B[43margs\u001B[49m\u001B[43m,\u001B[49m\u001B[43m \u001B[49m\u001B[38;5;241;43m*\u001B[39;49m\u001B[38;5;241;43m*\u001B[39;49m\u001B[43mkwds\u001B[49m\u001B[43m)\u001B[49m\n\u001B[1;32m    896\u001B[0m new_tracing_count \u001B[38;5;241m=\u001B[39m \u001B[38;5;28mself\u001B[39m\u001B[38;5;241m.\u001B[39mexperimental_get_tracing_count()\n\u001B[1;32m    897\u001B[0m without_tracing \u001B[38;5;241m=\u001B[39m (tracing_count \u001B[38;5;241m==\u001B[39m new_tracing_count)\n",
      "File \u001B[0;32m~/venvs/datasentics-uloha/lib/python3.11/site-packages/tensorflow/python/eager/polymorphic_function/polymorphic_function.py:926\u001B[0m, in \u001B[0;36mFunction._call\u001B[0;34m(self, *args, **kwds)\u001B[0m\n\u001B[1;32m    923\u001B[0m   \u001B[38;5;28mself\u001B[39m\u001B[38;5;241m.\u001B[39m_lock\u001B[38;5;241m.\u001B[39mrelease()\n\u001B[1;32m    924\u001B[0m   \u001B[38;5;66;03m# In this case we have created variables on the first call, so we run the\u001B[39;00m\n\u001B[1;32m    925\u001B[0m   \u001B[38;5;66;03m# defunned version which is guaranteed to never create variables.\u001B[39;00m\n\u001B[0;32m--> 926\u001B[0m   \u001B[38;5;28;01mreturn\u001B[39;00m \u001B[38;5;28;43mself\u001B[39;49m\u001B[38;5;241;43m.\u001B[39;49m\u001B[43m_no_variable_creation_fn\u001B[49m\u001B[43m(\u001B[49m\u001B[38;5;241;43m*\u001B[39;49m\u001B[43margs\u001B[49m\u001B[43m,\u001B[49m\u001B[43m \u001B[49m\u001B[38;5;241;43m*\u001B[39;49m\u001B[38;5;241;43m*\u001B[39;49m\u001B[43mkwds\u001B[49m\u001B[43m)\u001B[49m  \u001B[38;5;66;03m# pylint: disable=not-callable\u001B[39;00m\n\u001B[1;32m    927\u001B[0m \u001B[38;5;28;01melif\u001B[39;00m \u001B[38;5;28mself\u001B[39m\u001B[38;5;241m.\u001B[39m_variable_creation_fn \u001B[38;5;129;01mis\u001B[39;00m \u001B[38;5;129;01mnot\u001B[39;00m \u001B[38;5;28;01mNone\u001B[39;00m:\n\u001B[1;32m    928\u001B[0m   \u001B[38;5;66;03m# Release the lock early so that multiple threads can perform the call\u001B[39;00m\n\u001B[1;32m    929\u001B[0m   \u001B[38;5;66;03m# in parallel.\u001B[39;00m\n\u001B[1;32m    930\u001B[0m   \u001B[38;5;28mself\u001B[39m\u001B[38;5;241m.\u001B[39m_lock\u001B[38;5;241m.\u001B[39mrelease()\n",
      "File \u001B[0;32m~/venvs/datasentics-uloha/lib/python3.11/site-packages/tensorflow/python/eager/polymorphic_function/tracing_compiler.py:143\u001B[0m, in \u001B[0;36mTracingCompiler.__call__\u001B[0;34m(self, *args, **kwargs)\u001B[0m\n\u001B[1;32m    140\u001B[0m \u001B[38;5;28;01mwith\u001B[39;00m \u001B[38;5;28mself\u001B[39m\u001B[38;5;241m.\u001B[39m_lock:\n\u001B[1;32m    141\u001B[0m   (concrete_function,\n\u001B[1;32m    142\u001B[0m    filtered_flat_args) \u001B[38;5;241m=\u001B[39m \u001B[38;5;28mself\u001B[39m\u001B[38;5;241m.\u001B[39m_maybe_define_function(args, kwargs)\n\u001B[0;32m--> 143\u001B[0m \u001B[38;5;28;01mreturn\u001B[39;00m \u001B[43mconcrete_function\u001B[49m\u001B[38;5;241;43m.\u001B[39;49m\u001B[43m_call_flat\u001B[49m\u001B[43m(\u001B[49m\n\u001B[1;32m    144\u001B[0m \u001B[43m    \u001B[49m\u001B[43mfiltered_flat_args\u001B[49m\u001B[43m,\u001B[49m\u001B[43m \u001B[49m\u001B[43mcaptured_inputs\u001B[49m\u001B[38;5;241;43m=\u001B[39;49m\u001B[43mconcrete_function\u001B[49m\u001B[38;5;241;43m.\u001B[39;49m\u001B[43mcaptured_inputs\u001B[49m\u001B[43m)\u001B[49m\n",
      "File \u001B[0;32m~/venvs/datasentics-uloha/lib/python3.11/site-packages/tensorflow/python/eager/polymorphic_function/monomorphic_function.py:1757\u001B[0m, in \u001B[0;36mConcreteFunction._call_flat\u001B[0;34m(self, args, captured_inputs, cancellation_manager)\u001B[0m\n\u001B[1;32m   1753\u001B[0m possible_gradient_type \u001B[38;5;241m=\u001B[39m gradients_util\u001B[38;5;241m.\u001B[39mPossibleTapeGradientTypes(args)\n\u001B[1;32m   1754\u001B[0m \u001B[38;5;28;01mif\u001B[39;00m (possible_gradient_type \u001B[38;5;241m==\u001B[39m gradients_util\u001B[38;5;241m.\u001B[39mPOSSIBLE_GRADIENT_TYPES_NONE\n\u001B[1;32m   1755\u001B[0m     \u001B[38;5;129;01mand\u001B[39;00m executing_eagerly):\n\u001B[1;32m   1756\u001B[0m   \u001B[38;5;66;03m# No tape is watching; skip to running the function.\u001B[39;00m\n\u001B[0;32m-> 1757\u001B[0m   \u001B[38;5;28;01mreturn\u001B[39;00m \u001B[38;5;28mself\u001B[39m\u001B[38;5;241m.\u001B[39m_build_call_outputs(\u001B[38;5;28;43mself\u001B[39;49m\u001B[38;5;241;43m.\u001B[39;49m\u001B[43m_inference_function\u001B[49m\u001B[38;5;241;43m.\u001B[39;49m\u001B[43mcall\u001B[49m\u001B[43m(\u001B[49m\n\u001B[1;32m   1758\u001B[0m \u001B[43m      \u001B[49m\u001B[43mctx\u001B[49m\u001B[43m,\u001B[49m\u001B[43m \u001B[49m\u001B[43margs\u001B[49m\u001B[43m,\u001B[49m\u001B[43m \u001B[49m\u001B[43mcancellation_manager\u001B[49m\u001B[38;5;241;43m=\u001B[39;49m\u001B[43mcancellation_manager\u001B[49m\u001B[43m)\u001B[49m)\n\u001B[1;32m   1759\u001B[0m forward_backward \u001B[38;5;241m=\u001B[39m \u001B[38;5;28mself\u001B[39m\u001B[38;5;241m.\u001B[39m_select_forward_and_backward_functions(\n\u001B[1;32m   1760\u001B[0m     args,\n\u001B[1;32m   1761\u001B[0m     possible_gradient_type,\n\u001B[1;32m   1762\u001B[0m     executing_eagerly)\n\u001B[1;32m   1763\u001B[0m forward_function, args_with_tangents \u001B[38;5;241m=\u001B[39m forward_backward\u001B[38;5;241m.\u001B[39mforward()\n",
      "File \u001B[0;32m~/venvs/datasentics-uloha/lib/python3.11/site-packages/tensorflow/python/eager/polymorphic_function/monomorphic_function.py:381\u001B[0m, in \u001B[0;36m_EagerDefinedFunction.call\u001B[0;34m(self, ctx, args, cancellation_manager)\u001B[0m\n\u001B[1;32m    379\u001B[0m \u001B[38;5;28;01mwith\u001B[39;00m _InterpolateFunctionError(\u001B[38;5;28mself\u001B[39m):\n\u001B[1;32m    380\u001B[0m   \u001B[38;5;28;01mif\u001B[39;00m cancellation_manager \u001B[38;5;129;01mis\u001B[39;00m \u001B[38;5;28;01mNone\u001B[39;00m:\n\u001B[0;32m--> 381\u001B[0m     outputs \u001B[38;5;241m=\u001B[39m \u001B[43mexecute\u001B[49m\u001B[38;5;241;43m.\u001B[39;49m\u001B[43mexecute\u001B[49m\u001B[43m(\u001B[49m\n\u001B[1;32m    382\u001B[0m \u001B[43m        \u001B[49m\u001B[38;5;28;43mstr\u001B[39;49m\u001B[43m(\u001B[49m\u001B[38;5;28;43mself\u001B[39;49m\u001B[38;5;241;43m.\u001B[39;49m\u001B[43msignature\u001B[49m\u001B[38;5;241;43m.\u001B[39;49m\u001B[43mname\u001B[49m\u001B[43m)\u001B[49m\u001B[43m,\u001B[49m\n\u001B[1;32m    383\u001B[0m \u001B[43m        \u001B[49m\u001B[43mnum_outputs\u001B[49m\u001B[38;5;241;43m=\u001B[39;49m\u001B[38;5;28;43mself\u001B[39;49m\u001B[38;5;241;43m.\u001B[39;49m\u001B[43m_num_outputs\u001B[49m\u001B[43m,\u001B[49m\n\u001B[1;32m    384\u001B[0m \u001B[43m        \u001B[49m\u001B[43minputs\u001B[49m\u001B[38;5;241;43m=\u001B[39;49m\u001B[43margs\u001B[49m\u001B[43m,\u001B[49m\n\u001B[1;32m    385\u001B[0m \u001B[43m        \u001B[49m\u001B[43mattrs\u001B[49m\u001B[38;5;241;43m=\u001B[39;49m\u001B[43mattrs\u001B[49m\u001B[43m,\u001B[49m\n\u001B[1;32m    386\u001B[0m \u001B[43m        \u001B[49m\u001B[43mctx\u001B[49m\u001B[38;5;241;43m=\u001B[39;49m\u001B[43mctx\u001B[49m\u001B[43m)\u001B[49m\n\u001B[1;32m    387\u001B[0m   \u001B[38;5;28;01melse\u001B[39;00m:\n\u001B[1;32m    388\u001B[0m     outputs \u001B[38;5;241m=\u001B[39m execute\u001B[38;5;241m.\u001B[39mexecute_with_cancellation(\n\u001B[1;32m    389\u001B[0m         \u001B[38;5;28mstr\u001B[39m(\u001B[38;5;28mself\u001B[39m\u001B[38;5;241m.\u001B[39msignature\u001B[38;5;241m.\u001B[39mname),\n\u001B[1;32m    390\u001B[0m         num_outputs\u001B[38;5;241m=\u001B[39m\u001B[38;5;28mself\u001B[39m\u001B[38;5;241m.\u001B[39m_num_outputs,\n\u001B[0;32m   (...)\u001B[0m\n\u001B[1;32m    393\u001B[0m         ctx\u001B[38;5;241m=\u001B[39mctx,\n\u001B[1;32m    394\u001B[0m         cancellation_manager\u001B[38;5;241m=\u001B[39mcancellation_manager)\n",
      "File \u001B[0;32m~/venvs/datasentics-uloha/lib/python3.11/site-packages/tensorflow/python/eager/execute.py:52\u001B[0m, in \u001B[0;36mquick_execute\u001B[0;34m(op_name, num_outputs, inputs, attrs, ctx, name)\u001B[0m\n\u001B[1;32m     50\u001B[0m \u001B[38;5;28;01mtry\u001B[39;00m:\n\u001B[1;32m     51\u001B[0m   ctx\u001B[38;5;241m.\u001B[39mensure_initialized()\n\u001B[0;32m---> 52\u001B[0m   tensors \u001B[38;5;241m=\u001B[39m \u001B[43mpywrap_tfe\u001B[49m\u001B[38;5;241;43m.\u001B[39;49m\u001B[43mTFE_Py_Execute\u001B[49m\u001B[43m(\u001B[49m\u001B[43mctx\u001B[49m\u001B[38;5;241;43m.\u001B[39;49m\u001B[43m_handle\u001B[49m\u001B[43m,\u001B[49m\u001B[43m \u001B[49m\u001B[43mdevice_name\u001B[49m\u001B[43m,\u001B[49m\u001B[43m \u001B[49m\u001B[43mop_name\u001B[49m\u001B[43m,\u001B[49m\n\u001B[1;32m     53\u001B[0m \u001B[43m                                      \u001B[49m\u001B[43minputs\u001B[49m\u001B[43m,\u001B[49m\u001B[43m \u001B[49m\u001B[43mattrs\u001B[49m\u001B[43m,\u001B[49m\u001B[43m \u001B[49m\u001B[43mnum_outputs\u001B[49m\u001B[43m)\u001B[49m\n\u001B[1;32m     54\u001B[0m \u001B[38;5;28;01mexcept\u001B[39;00m core\u001B[38;5;241m.\u001B[39m_NotOkStatusException \u001B[38;5;28;01mas\u001B[39;00m e:\n\u001B[1;32m     55\u001B[0m   \u001B[38;5;28;01mif\u001B[39;00m name \u001B[38;5;129;01mis\u001B[39;00m \u001B[38;5;129;01mnot\u001B[39;00m \u001B[38;5;28;01mNone\u001B[39;00m:\n",
      "\u001B[0;31mKeyboardInterrupt\u001B[0m: "
     ]
    }
   ],
   "source": [
    "train_model(*train_test_split(ratings_with_title_user_less_200[['Book-Title', 'User-ID']]), model, epochs=15, batch_size=4096, lr=0.01, cosine_decay=True)"
   ],
   "metadata": {
    "collapsed": false
   }
  },
  {
   "cell_type": "code",
   "execution_count": 83,
   "outputs": [
    {
     "name": "stdout",
     "output_type": "stream",
     "text": [
      "Epoch 1/15\n",
      "90/90 [==============================] - 114s 1s/step - factorized_top_k/top_1_categorical_accuracy: 0.0032 - factorized_top_k/top_5_categorical_accuracy: 0.1013 - factorized_top_k/top_10_categorical_accuracy: 0.1688 - factorized_top_k/top_50_categorical_accuracy: 0.3702 - factorized_top_k/top_100_categorical_accuracy: 0.4780 - loss: 10646.3035 - regularization_loss: 0.0000e+00 - total_loss: 10646.3035 - val_factorized_top_k/top_1_categorical_accuracy: 2.0074e-04 - val_factorized_top_k/top_5_categorical_accuracy: 0.0023 - val_factorized_top_k/top_10_categorical_accuracy: 0.0086 - val_factorized_top_k/top_50_categorical_accuracy: 0.0603 - val_factorized_top_k/top_100_categorical_accuracy: 0.1119 - val_loss: 33649.0703 - val_regularization_loss: 0.0000e+00 - val_total_loss: 33649.0703\n",
      "Epoch 2/15\n",
      "90/90 [==============================] - 98s 1s/step - factorized_top_k/top_1_categorical_accuracy: 0.0030 - factorized_top_k/top_5_categorical_accuracy: 0.1114 - factorized_top_k/top_10_categorical_accuracy: 0.1840 - factorized_top_k/top_50_categorical_accuracy: 0.3939 - factorized_top_k/top_100_categorical_accuracy: 0.5024 - loss: 10395.7519 - regularization_loss: 0.0000e+00 - total_loss: 10395.7519 - val_factorized_top_k/top_1_categorical_accuracy: 1.3383e-04 - val_factorized_top_k/top_5_categorical_accuracy: 0.0020 - val_factorized_top_k/top_10_categorical_accuracy: 0.0084 - val_factorized_top_k/top_50_categorical_accuracy: 0.0618 - val_factorized_top_k/top_100_categorical_accuracy: 0.1144 - val_loss: 33705.7891 - val_regularization_loss: 0.0000e+00 - val_total_loss: 33705.7891\n",
      "Epoch 3/15\n",
      "90/90 [==============================] - 102s 1s/step - factorized_top_k/top_1_categorical_accuracy: 0.0034 - factorized_top_k/top_5_categorical_accuracy: 0.1185 - factorized_top_k/top_10_categorical_accuracy: 0.1955 - factorized_top_k/top_50_categorical_accuracy: 0.4124 - factorized_top_k/top_100_categorical_accuracy: 0.5213 - loss: 10203.4621 - regularization_loss: 0.0000e+00 - total_loss: 10203.4621 - val_factorized_top_k/top_1_categorical_accuracy: 4.4609e-05 - val_factorized_top_k/top_5_categorical_accuracy: 0.0022 - val_factorized_top_k/top_10_categorical_accuracy: 0.0080 - val_factorized_top_k/top_50_categorical_accuracy: 0.0626 - val_factorized_top_k/top_100_categorical_accuracy: 0.1167 - val_loss: 33794.2930 - val_regularization_loss: 0.0000e+00 - val_total_loss: 33794.2930\n",
      "Epoch 4/15\n",
      "90/90 [==============================] - 101s 1s/step - factorized_top_k/top_1_categorical_accuracy: 0.0035 - factorized_top_k/top_5_categorical_accuracy: 0.1247 - factorized_top_k/top_10_categorical_accuracy: 0.2066 - factorized_top_k/top_50_categorical_accuracy: 0.4298 - factorized_top_k/top_100_categorical_accuracy: 0.5388 - loss: 10026.4687 - regularization_loss: 0.0000e+00 - total_loss: 10026.4687 - val_factorized_top_k/top_1_categorical_accuracy: 8.9218e-05 - val_factorized_top_k/top_5_categorical_accuracy: 0.0020 - val_factorized_top_k/top_10_categorical_accuracy: 0.0079 - val_factorized_top_k/top_50_categorical_accuracy: 0.0628 - val_factorized_top_k/top_100_categorical_accuracy: 0.1179 - val_loss: 33904.0938 - val_regularization_loss: 0.0000e+00 - val_total_loss: 33904.0938\n",
      "Epoch 5/15\n",
      "90/90 [==============================] - 94s 1s/step - factorized_top_k/top_1_categorical_accuracy: 0.0035 - factorized_top_k/top_5_categorical_accuracy: 0.1305 - factorized_top_k/top_10_categorical_accuracy: 0.2166 - factorized_top_k/top_50_categorical_accuracy: 0.4460 - factorized_top_k/top_100_categorical_accuracy: 0.5552 - loss: 9863.3799 - regularization_loss: 0.0000e+00 - total_loss: 9863.3799 - val_factorized_top_k/top_1_categorical_accuracy: 8.9218e-05 - val_factorized_top_k/top_5_categorical_accuracy: 0.0021 - val_factorized_top_k/top_10_categorical_accuracy: 0.0081 - val_factorized_top_k/top_50_categorical_accuracy: 0.0634 - val_factorized_top_k/top_100_categorical_accuracy: 0.1194 - val_loss: 34034.2539 - val_regularization_loss: 0.0000e+00 - val_total_loss: 34034.2539\n",
      "Epoch 6/15\n",
      "90/90 [==============================] - 97s 1s/step - factorized_top_k/top_1_categorical_accuracy: 0.0036 - factorized_top_k/top_5_categorical_accuracy: 0.1367 - factorized_top_k/top_10_categorical_accuracy: 0.2264 - factorized_top_k/top_50_categorical_accuracy: 0.4609 - factorized_top_k/top_100_categorical_accuracy: 0.5702 - loss: 9712.5644 - regularization_loss: 0.0000e+00 - total_loss: 9712.5644 - val_factorized_top_k/top_1_categorical_accuracy: 6.6914e-05 - val_factorized_top_k/top_5_categorical_accuracy: 0.0022 - val_factorized_top_k/top_10_categorical_accuracy: 0.0077 - val_factorized_top_k/top_50_categorical_accuracy: 0.0638 - val_factorized_top_k/top_100_categorical_accuracy: 0.1206 - val_loss: 34178.1328 - val_regularization_loss: 0.0000e+00 - val_total_loss: 34178.1328\n",
      "Epoch 7/15\n",
      "90/90 [==============================] - 103s 1s/step - factorized_top_k/top_1_categorical_accuracy: 0.0042 - factorized_top_k/top_5_categorical_accuracy: 0.1415 - factorized_top_k/top_10_categorical_accuracy: 0.2354 - factorized_top_k/top_50_categorical_accuracy: 0.4755 - factorized_top_k/top_100_categorical_accuracy: 0.5841 - loss: 9572.5653 - regularization_loss: 0.0000e+00 - total_loss: 9572.5653 - val_factorized_top_k/top_1_categorical_accuracy: 8.9218e-05 - val_factorized_top_k/top_5_categorical_accuracy: 0.0020 - val_factorized_top_k/top_10_categorical_accuracy: 0.0077 - val_factorized_top_k/top_50_categorical_accuracy: 0.0638 - val_factorized_top_k/top_100_categorical_accuracy: 0.1210 - val_loss: 34335.6133 - val_regularization_loss: 0.0000e+00 - val_total_loss: 34335.6133\n",
      "Epoch 8/15\n",
      "90/90 [==============================] - 96s 1s/step - factorized_top_k/top_1_categorical_accuracy: 0.0043 - factorized_top_k/top_5_categorical_accuracy: 0.1455 - factorized_top_k/top_10_categorical_accuracy: 0.2435 - factorized_top_k/top_50_categorical_accuracy: 0.4887 - factorized_top_k/top_100_categorical_accuracy: 0.5967 - loss: 9442.1633 - regularization_loss: 0.0000e+00 - total_loss: 9442.1633 - val_factorized_top_k/top_1_categorical_accuracy: 8.9218e-05 - val_factorized_top_k/top_5_categorical_accuracy: 0.0020 - val_factorized_top_k/top_10_categorical_accuracy: 0.0077 - val_factorized_top_k/top_50_categorical_accuracy: 0.0641 - val_factorized_top_k/top_100_categorical_accuracy: 0.1221 - val_loss: 34503.0938 - val_regularization_loss: 0.0000e+00 - val_total_loss: 34503.0938\n",
      "Epoch 9/15\n",
      "34/90 [==========>...................] - ETA: 50s - factorized_top_k/top_1_categorical_accuracy: 0.0046 - factorized_top_k/top_5_categorical_accuracy: 0.1530 - factorized_top_k/top_10_categorical_accuracy: 0.2558 - factorized_top_k/top_50_categorical_accuracy: 0.5056 - factorized_top_k/top_100_categorical_accuracy: 0.6128 - loss: 9339.1848 - regularization_loss: 0.0000e+00 - total_loss: 9339.1848"
     ]
    },
    {
     "ename": "KeyboardInterrupt",
     "evalue": "",
     "output_type": "error",
     "traceback": [
      "\u001B[0;31m---------------------------------------------------------------------------\u001B[0m",
      "\u001B[0;31mKeyboardInterrupt\u001B[0m                         Traceback (most recent call last)",
      "Cell \u001B[0;32mIn[83], line 1\u001B[0m\n\u001B[0;32m----> 1\u001B[0m \u001B[43mtrain_model\u001B[49m\u001B[43m(\u001B[49m\u001B[38;5;241;43m*\u001B[39;49m\u001B[43mtrain_test_split\u001B[49m\u001B[43m(\u001B[49m\u001B[43mratings_with_title_user_less_200\u001B[49m\u001B[43m[\u001B[49m\u001B[43m[\u001B[49m\u001B[38;5;124;43m'\u001B[39;49m\u001B[38;5;124;43mBook-Title\u001B[39;49m\u001B[38;5;124;43m'\u001B[39;49m\u001B[43m,\u001B[49m\u001B[43m \u001B[49m\u001B[38;5;124;43m'\u001B[39;49m\u001B[38;5;124;43mUser-ID\u001B[39;49m\u001B[38;5;124;43m'\u001B[39;49m\u001B[43m]\u001B[49m\u001B[43m]\u001B[49m\u001B[43m)\u001B[49m\u001B[43m,\u001B[49m\u001B[43m \u001B[49m\u001B[43mmodel\u001B[49m\u001B[43m,\u001B[49m\u001B[43m \u001B[49m\u001B[43mepochs\u001B[49m\u001B[38;5;241;43m=\u001B[39;49m\u001B[38;5;241;43m15\u001B[39;49m\u001B[43m,\u001B[49m\u001B[43m \u001B[49m\u001B[43mbatch_size\u001B[49m\u001B[38;5;241;43m=\u001B[39;49m\u001B[38;5;241;43m2000\u001B[39;49m\u001B[43m,\u001B[49m\u001B[43m \u001B[49m\u001B[43mlr\u001B[49m\u001B[38;5;241;43m=\u001B[39;49m\u001B[38;5;241;43m0.0025\u001B[39;49m\u001B[43m,\u001B[49m\u001B[43m \u001B[49m\u001B[43mcosine_decay\u001B[49m\u001B[38;5;241;43m=\u001B[39;49m\u001B[38;5;28;43;01mFalse\u001B[39;49;00m\u001B[43m)\u001B[49m\n",
      "Cell \u001B[0;32mIn[82], line 14\u001B[0m, in \u001B[0;36mtrain_model\u001B[0;34m(train, test, model, epochs, batch_size, lr, cosine_decay)\u001B[0m\n\u001B[1;32m      2\u001B[0m tensorboard_callback \u001B[38;5;241m=\u001B[39m tf\u001B[38;5;241m.\u001B[39mkeras\u001B[38;5;241m.\u001B[39mcallbacks\u001B[38;5;241m.\u001B[39mTensorBoard(log_dir\u001B[38;5;241m=\u001B[39m\u001B[38;5;124m\"\u001B[39m\u001B[38;5;124m./logs\u001B[39m\u001B[38;5;124m\"\u001B[39m)\n\u001B[1;32m      4\u001B[0m model\u001B[38;5;241m.\u001B[39mcompile(\n\u001B[1;32m      5\u001B[0m     optimizer\u001B[38;5;241m=\u001B[39mtf\u001B[38;5;241m.\u001B[39mkeras\u001B[38;5;241m.\u001B[39moptimizers\u001B[38;5;241m.\u001B[39mAdam(\n\u001B[1;32m      6\u001B[0m         tf\u001B[38;5;241m.\u001B[39mkeras\u001B[38;5;241m.\u001B[39moptimizers\u001B[38;5;241m.\u001B[39mschedules\u001B[38;5;241m.\u001B[39mCosineDecay(\n\u001B[0;32m   (...)\u001B[0m\n\u001B[1;32m     12\u001B[0m     )\n\u001B[1;32m     13\u001B[0m )\n\u001B[0;32m---> 14\u001B[0m \u001B[43mmodel\u001B[49m\u001B[38;5;241;43m.\u001B[39;49m\u001B[43mfit\u001B[49m\u001B[43m(\u001B[49m\u001B[43mtrain\u001B[49m\u001B[38;5;241;43m.\u001B[39;49m\u001B[43mbatch\u001B[49m\u001B[43m(\u001B[49m\u001B[43mbatch_size\u001B[49m\u001B[43m)\u001B[49m\u001B[43m,\u001B[49m\n\u001B[1;32m     15\u001B[0m \u001B[43m          \u001B[49m\u001B[43mvalidation_data\u001B[49m\u001B[38;5;241;43m=\u001B[39;49m\u001B[43mtest\u001B[49m\u001B[38;5;241;43m.\u001B[39;49m\u001B[43mbatch\u001B[49m\u001B[43m(\u001B[49m\u001B[43mbatch_size\u001B[49m\u001B[43m)\u001B[49m\u001B[43m,\u001B[49m\n\u001B[1;32m     16\u001B[0m \u001B[43m          \u001B[49m\u001B[43mepochs\u001B[49m\u001B[38;5;241;43m=\u001B[39;49m\u001B[43mepochs\u001B[49m\u001B[43m,\u001B[49m\n\u001B[1;32m     17\u001B[0m \u001B[43m            \u001B[49m\u001B[43mcallbacks\u001B[49m\u001B[38;5;241;43m=\u001B[39;49m\u001B[43m[\u001B[49m\u001B[43mtensorboard_callback\u001B[49m\u001B[43m]\u001B[49m\n\u001B[1;32m     18\u001B[0m \u001B[43m          \u001B[49m\u001B[43m)\u001B[49m\n\u001B[1;32m     19\u001B[0m \u001B[38;5;28;01mreturn\u001B[39;00m model\n",
      "File \u001B[0;32m~/venvs/datasentics-uloha/lib/python3.11/site-packages/keras/utils/traceback_utils.py:65\u001B[0m, in \u001B[0;36mfilter_traceback.<locals>.error_handler\u001B[0;34m(*args, **kwargs)\u001B[0m\n\u001B[1;32m     63\u001B[0m filtered_tb \u001B[38;5;241m=\u001B[39m \u001B[38;5;28;01mNone\u001B[39;00m\n\u001B[1;32m     64\u001B[0m \u001B[38;5;28;01mtry\u001B[39;00m:\n\u001B[0;32m---> 65\u001B[0m     \u001B[38;5;28;01mreturn\u001B[39;00m \u001B[43mfn\u001B[49m\u001B[43m(\u001B[49m\u001B[38;5;241;43m*\u001B[39;49m\u001B[43margs\u001B[49m\u001B[43m,\u001B[49m\u001B[43m \u001B[49m\u001B[38;5;241;43m*\u001B[39;49m\u001B[38;5;241;43m*\u001B[39;49m\u001B[43mkwargs\u001B[49m\u001B[43m)\u001B[49m\n\u001B[1;32m     66\u001B[0m \u001B[38;5;28;01mexcept\u001B[39;00m \u001B[38;5;167;01mException\u001B[39;00m \u001B[38;5;28;01mas\u001B[39;00m e:\n\u001B[1;32m     67\u001B[0m     filtered_tb \u001B[38;5;241m=\u001B[39m _process_traceback_frames(e\u001B[38;5;241m.\u001B[39m__traceback__)\n",
      "File \u001B[0;32m~/venvs/datasentics-uloha/lib/python3.11/site-packages/keras/engine/training.py:1685\u001B[0m, in \u001B[0;36mModel.fit\u001B[0;34m(self, x, y, batch_size, epochs, verbose, callbacks, validation_split, validation_data, shuffle, class_weight, sample_weight, initial_epoch, steps_per_epoch, validation_steps, validation_batch_size, validation_freq, max_queue_size, workers, use_multiprocessing)\u001B[0m\n\u001B[1;32m   1677\u001B[0m \u001B[38;5;28;01mwith\u001B[39;00m tf\u001B[38;5;241m.\u001B[39mprofiler\u001B[38;5;241m.\u001B[39mexperimental\u001B[38;5;241m.\u001B[39mTrace(\n\u001B[1;32m   1678\u001B[0m     \u001B[38;5;124m\"\u001B[39m\u001B[38;5;124mtrain\u001B[39m\u001B[38;5;124m\"\u001B[39m,\n\u001B[1;32m   1679\u001B[0m     epoch_num\u001B[38;5;241m=\u001B[39mepoch,\n\u001B[0;32m   (...)\u001B[0m\n\u001B[1;32m   1682\u001B[0m     _r\u001B[38;5;241m=\u001B[39m\u001B[38;5;241m1\u001B[39m,\n\u001B[1;32m   1683\u001B[0m ):\n\u001B[1;32m   1684\u001B[0m     callbacks\u001B[38;5;241m.\u001B[39mon_train_batch_begin(step)\n\u001B[0;32m-> 1685\u001B[0m     tmp_logs \u001B[38;5;241m=\u001B[39m \u001B[38;5;28;43mself\u001B[39;49m\u001B[38;5;241;43m.\u001B[39;49m\u001B[43mtrain_function\u001B[49m\u001B[43m(\u001B[49m\u001B[43miterator\u001B[49m\u001B[43m)\u001B[49m\n\u001B[1;32m   1686\u001B[0m     \u001B[38;5;28;01mif\u001B[39;00m data_handler\u001B[38;5;241m.\u001B[39mshould_sync:\n\u001B[1;32m   1687\u001B[0m         context\u001B[38;5;241m.\u001B[39masync_wait()\n",
      "File \u001B[0;32m~/venvs/datasentics-uloha/lib/python3.11/site-packages/tensorflow/python/util/traceback_utils.py:150\u001B[0m, in \u001B[0;36mfilter_traceback.<locals>.error_handler\u001B[0;34m(*args, **kwargs)\u001B[0m\n\u001B[1;32m    148\u001B[0m filtered_tb \u001B[38;5;241m=\u001B[39m \u001B[38;5;28;01mNone\u001B[39;00m\n\u001B[1;32m    149\u001B[0m \u001B[38;5;28;01mtry\u001B[39;00m:\n\u001B[0;32m--> 150\u001B[0m   \u001B[38;5;28;01mreturn\u001B[39;00m \u001B[43mfn\u001B[49m\u001B[43m(\u001B[49m\u001B[38;5;241;43m*\u001B[39;49m\u001B[43margs\u001B[49m\u001B[43m,\u001B[49m\u001B[43m \u001B[49m\u001B[38;5;241;43m*\u001B[39;49m\u001B[38;5;241;43m*\u001B[39;49m\u001B[43mkwargs\u001B[49m\u001B[43m)\u001B[49m\n\u001B[1;32m    151\u001B[0m \u001B[38;5;28;01mexcept\u001B[39;00m \u001B[38;5;167;01mException\u001B[39;00m \u001B[38;5;28;01mas\u001B[39;00m e:\n\u001B[1;32m    152\u001B[0m   filtered_tb \u001B[38;5;241m=\u001B[39m _process_traceback_frames(e\u001B[38;5;241m.\u001B[39m__traceback__)\n",
      "File \u001B[0;32m~/venvs/datasentics-uloha/lib/python3.11/site-packages/tensorflow/python/eager/polymorphic_function/polymorphic_function.py:894\u001B[0m, in \u001B[0;36mFunction.__call__\u001B[0;34m(self, *args, **kwds)\u001B[0m\n\u001B[1;32m    891\u001B[0m compiler \u001B[38;5;241m=\u001B[39m \u001B[38;5;124m\"\u001B[39m\u001B[38;5;124mxla\u001B[39m\u001B[38;5;124m\"\u001B[39m \u001B[38;5;28;01mif\u001B[39;00m \u001B[38;5;28mself\u001B[39m\u001B[38;5;241m.\u001B[39m_jit_compile \u001B[38;5;28;01melse\u001B[39;00m \u001B[38;5;124m\"\u001B[39m\u001B[38;5;124mnonXla\u001B[39m\u001B[38;5;124m\"\u001B[39m\n\u001B[1;32m    893\u001B[0m \u001B[38;5;28;01mwith\u001B[39;00m OptionalXlaContext(\u001B[38;5;28mself\u001B[39m\u001B[38;5;241m.\u001B[39m_jit_compile):\n\u001B[0;32m--> 894\u001B[0m   result \u001B[38;5;241m=\u001B[39m \u001B[38;5;28;43mself\u001B[39;49m\u001B[38;5;241;43m.\u001B[39;49m\u001B[43m_call\u001B[49m\u001B[43m(\u001B[49m\u001B[38;5;241;43m*\u001B[39;49m\u001B[43margs\u001B[49m\u001B[43m,\u001B[49m\u001B[43m \u001B[49m\u001B[38;5;241;43m*\u001B[39;49m\u001B[38;5;241;43m*\u001B[39;49m\u001B[43mkwds\u001B[49m\u001B[43m)\u001B[49m\n\u001B[1;32m    896\u001B[0m new_tracing_count \u001B[38;5;241m=\u001B[39m \u001B[38;5;28mself\u001B[39m\u001B[38;5;241m.\u001B[39mexperimental_get_tracing_count()\n\u001B[1;32m    897\u001B[0m without_tracing \u001B[38;5;241m=\u001B[39m (tracing_count \u001B[38;5;241m==\u001B[39m new_tracing_count)\n",
      "File \u001B[0;32m~/venvs/datasentics-uloha/lib/python3.11/site-packages/tensorflow/python/eager/polymorphic_function/polymorphic_function.py:926\u001B[0m, in \u001B[0;36mFunction._call\u001B[0;34m(self, *args, **kwds)\u001B[0m\n\u001B[1;32m    923\u001B[0m   \u001B[38;5;28mself\u001B[39m\u001B[38;5;241m.\u001B[39m_lock\u001B[38;5;241m.\u001B[39mrelease()\n\u001B[1;32m    924\u001B[0m   \u001B[38;5;66;03m# In this case we have created variables on the first call, so we run the\u001B[39;00m\n\u001B[1;32m    925\u001B[0m   \u001B[38;5;66;03m# defunned version which is guaranteed to never create variables.\u001B[39;00m\n\u001B[0;32m--> 926\u001B[0m   \u001B[38;5;28;01mreturn\u001B[39;00m \u001B[38;5;28;43mself\u001B[39;49m\u001B[38;5;241;43m.\u001B[39;49m\u001B[43m_no_variable_creation_fn\u001B[49m\u001B[43m(\u001B[49m\u001B[38;5;241;43m*\u001B[39;49m\u001B[43margs\u001B[49m\u001B[43m,\u001B[49m\u001B[43m \u001B[49m\u001B[38;5;241;43m*\u001B[39;49m\u001B[38;5;241;43m*\u001B[39;49m\u001B[43mkwds\u001B[49m\u001B[43m)\u001B[49m  \u001B[38;5;66;03m# pylint: disable=not-callable\u001B[39;00m\n\u001B[1;32m    927\u001B[0m \u001B[38;5;28;01melif\u001B[39;00m \u001B[38;5;28mself\u001B[39m\u001B[38;5;241m.\u001B[39m_variable_creation_fn \u001B[38;5;129;01mis\u001B[39;00m \u001B[38;5;129;01mnot\u001B[39;00m \u001B[38;5;28;01mNone\u001B[39;00m:\n\u001B[1;32m    928\u001B[0m   \u001B[38;5;66;03m# Release the lock early so that multiple threads can perform the call\u001B[39;00m\n\u001B[1;32m    929\u001B[0m   \u001B[38;5;66;03m# in parallel.\u001B[39;00m\n\u001B[1;32m    930\u001B[0m   \u001B[38;5;28mself\u001B[39m\u001B[38;5;241m.\u001B[39m_lock\u001B[38;5;241m.\u001B[39mrelease()\n",
      "File \u001B[0;32m~/venvs/datasentics-uloha/lib/python3.11/site-packages/tensorflow/python/eager/polymorphic_function/tracing_compiler.py:143\u001B[0m, in \u001B[0;36mTracingCompiler.__call__\u001B[0;34m(self, *args, **kwargs)\u001B[0m\n\u001B[1;32m    140\u001B[0m \u001B[38;5;28;01mwith\u001B[39;00m \u001B[38;5;28mself\u001B[39m\u001B[38;5;241m.\u001B[39m_lock:\n\u001B[1;32m    141\u001B[0m   (concrete_function,\n\u001B[1;32m    142\u001B[0m    filtered_flat_args) \u001B[38;5;241m=\u001B[39m \u001B[38;5;28mself\u001B[39m\u001B[38;5;241m.\u001B[39m_maybe_define_function(args, kwargs)\n\u001B[0;32m--> 143\u001B[0m \u001B[38;5;28;01mreturn\u001B[39;00m \u001B[43mconcrete_function\u001B[49m\u001B[38;5;241;43m.\u001B[39;49m\u001B[43m_call_flat\u001B[49m\u001B[43m(\u001B[49m\n\u001B[1;32m    144\u001B[0m \u001B[43m    \u001B[49m\u001B[43mfiltered_flat_args\u001B[49m\u001B[43m,\u001B[49m\u001B[43m \u001B[49m\u001B[43mcaptured_inputs\u001B[49m\u001B[38;5;241;43m=\u001B[39;49m\u001B[43mconcrete_function\u001B[49m\u001B[38;5;241;43m.\u001B[39;49m\u001B[43mcaptured_inputs\u001B[49m\u001B[43m)\u001B[49m\n",
      "File \u001B[0;32m~/venvs/datasentics-uloha/lib/python3.11/site-packages/tensorflow/python/eager/polymorphic_function/monomorphic_function.py:1757\u001B[0m, in \u001B[0;36mConcreteFunction._call_flat\u001B[0;34m(self, args, captured_inputs, cancellation_manager)\u001B[0m\n\u001B[1;32m   1753\u001B[0m possible_gradient_type \u001B[38;5;241m=\u001B[39m gradients_util\u001B[38;5;241m.\u001B[39mPossibleTapeGradientTypes(args)\n\u001B[1;32m   1754\u001B[0m \u001B[38;5;28;01mif\u001B[39;00m (possible_gradient_type \u001B[38;5;241m==\u001B[39m gradients_util\u001B[38;5;241m.\u001B[39mPOSSIBLE_GRADIENT_TYPES_NONE\n\u001B[1;32m   1755\u001B[0m     \u001B[38;5;129;01mand\u001B[39;00m executing_eagerly):\n\u001B[1;32m   1756\u001B[0m   \u001B[38;5;66;03m# No tape is watching; skip to running the function.\u001B[39;00m\n\u001B[0;32m-> 1757\u001B[0m   \u001B[38;5;28;01mreturn\u001B[39;00m \u001B[38;5;28mself\u001B[39m\u001B[38;5;241m.\u001B[39m_build_call_outputs(\u001B[38;5;28;43mself\u001B[39;49m\u001B[38;5;241;43m.\u001B[39;49m\u001B[43m_inference_function\u001B[49m\u001B[38;5;241;43m.\u001B[39;49m\u001B[43mcall\u001B[49m\u001B[43m(\u001B[49m\n\u001B[1;32m   1758\u001B[0m \u001B[43m      \u001B[49m\u001B[43mctx\u001B[49m\u001B[43m,\u001B[49m\u001B[43m \u001B[49m\u001B[43margs\u001B[49m\u001B[43m,\u001B[49m\u001B[43m \u001B[49m\u001B[43mcancellation_manager\u001B[49m\u001B[38;5;241;43m=\u001B[39;49m\u001B[43mcancellation_manager\u001B[49m\u001B[43m)\u001B[49m)\n\u001B[1;32m   1759\u001B[0m forward_backward \u001B[38;5;241m=\u001B[39m \u001B[38;5;28mself\u001B[39m\u001B[38;5;241m.\u001B[39m_select_forward_and_backward_functions(\n\u001B[1;32m   1760\u001B[0m     args,\n\u001B[1;32m   1761\u001B[0m     possible_gradient_type,\n\u001B[1;32m   1762\u001B[0m     executing_eagerly)\n\u001B[1;32m   1763\u001B[0m forward_function, args_with_tangents \u001B[38;5;241m=\u001B[39m forward_backward\u001B[38;5;241m.\u001B[39mforward()\n",
      "File \u001B[0;32m~/venvs/datasentics-uloha/lib/python3.11/site-packages/tensorflow/python/eager/polymorphic_function/monomorphic_function.py:381\u001B[0m, in \u001B[0;36m_EagerDefinedFunction.call\u001B[0;34m(self, ctx, args, cancellation_manager)\u001B[0m\n\u001B[1;32m    379\u001B[0m \u001B[38;5;28;01mwith\u001B[39;00m _InterpolateFunctionError(\u001B[38;5;28mself\u001B[39m):\n\u001B[1;32m    380\u001B[0m   \u001B[38;5;28;01mif\u001B[39;00m cancellation_manager \u001B[38;5;129;01mis\u001B[39;00m \u001B[38;5;28;01mNone\u001B[39;00m:\n\u001B[0;32m--> 381\u001B[0m     outputs \u001B[38;5;241m=\u001B[39m \u001B[43mexecute\u001B[49m\u001B[38;5;241;43m.\u001B[39;49m\u001B[43mexecute\u001B[49m\u001B[43m(\u001B[49m\n\u001B[1;32m    382\u001B[0m \u001B[43m        \u001B[49m\u001B[38;5;28;43mstr\u001B[39;49m\u001B[43m(\u001B[49m\u001B[38;5;28;43mself\u001B[39;49m\u001B[38;5;241;43m.\u001B[39;49m\u001B[43msignature\u001B[49m\u001B[38;5;241;43m.\u001B[39;49m\u001B[43mname\u001B[49m\u001B[43m)\u001B[49m\u001B[43m,\u001B[49m\n\u001B[1;32m    383\u001B[0m \u001B[43m        \u001B[49m\u001B[43mnum_outputs\u001B[49m\u001B[38;5;241;43m=\u001B[39;49m\u001B[38;5;28;43mself\u001B[39;49m\u001B[38;5;241;43m.\u001B[39;49m\u001B[43m_num_outputs\u001B[49m\u001B[43m,\u001B[49m\n\u001B[1;32m    384\u001B[0m \u001B[43m        \u001B[49m\u001B[43minputs\u001B[49m\u001B[38;5;241;43m=\u001B[39;49m\u001B[43margs\u001B[49m\u001B[43m,\u001B[49m\n\u001B[1;32m    385\u001B[0m \u001B[43m        \u001B[49m\u001B[43mattrs\u001B[49m\u001B[38;5;241;43m=\u001B[39;49m\u001B[43mattrs\u001B[49m\u001B[43m,\u001B[49m\n\u001B[1;32m    386\u001B[0m \u001B[43m        \u001B[49m\u001B[43mctx\u001B[49m\u001B[38;5;241;43m=\u001B[39;49m\u001B[43mctx\u001B[49m\u001B[43m)\u001B[49m\n\u001B[1;32m    387\u001B[0m   \u001B[38;5;28;01melse\u001B[39;00m:\n\u001B[1;32m    388\u001B[0m     outputs \u001B[38;5;241m=\u001B[39m execute\u001B[38;5;241m.\u001B[39mexecute_with_cancellation(\n\u001B[1;32m    389\u001B[0m         \u001B[38;5;28mstr\u001B[39m(\u001B[38;5;28mself\u001B[39m\u001B[38;5;241m.\u001B[39msignature\u001B[38;5;241m.\u001B[39mname),\n\u001B[1;32m    390\u001B[0m         num_outputs\u001B[38;5;241m=\u001B[39m\u001B[38;5;28mself\u001B[39m\u001B[38;5;241m.\u001B[39m_num_outputs,\n\u001B[0;32m   (...)\u001B[0m\n\u001B[1;32m    393\u001B[0m         ctx\u001B[38;5;241m=\u001B[39mctx,\n\u001B[1;32m    394\u001B[0m         cancellation_manager\u001B[38;5;241m=\u001B[39mcancellation_manager)\n",
      "File \u001B[0;32m~/venvs/datasentics-uloha/lib/python3.11/site-packages/tensorflow/python/eager/execute.py:52\u001B[0m, in \u001B[0;36mquick_execute\u001B[0;34m(op_name, num_outputs, inputs, attrs, ctx, name)\u001B[0m\n\u001B[1;32m     50\u001B[0m \u001B[38;5;28;01mtry\u001B[39;00m:\n\u001B[1;32m     51\u001B[0m   ctx\u001B[38;5;241m.\u001B[39mensure_initialized()\n\u001B[0;32m---> 52\u001B[0m   tensors \u001B[38;5;241m=\u001B[39m \u001B[43mpywrap_tfe\u001B[49m\u001B[38;5;241;43m.\u001B[39;49m\u001B[43mTFE_Py_Execute\u001B[49m\u001B[43m(\u001B[49m\u001B[43mctx\u001B[49m\u001B[38;5;241;43m.\u001B[39;49m\u001B[43m_handle\u001B[49m\u001B[43m,\u001B[49m\u001B[43m \u001B[49m\u001B[43mdevice_name\u001B[49m\u001B[43m,\u001B[49m\u001B[43m \u001B[49m\u001B[43mop_name\u001B[49m\u001B[43m,\u001B[49m\n\u001B[1;32m     53\u001B[0m \u001B[43m                                      \u001B[49m\u001B[43minputs\u001B[49m\u001B[43m,\u001B[49m\u001B[43m \u001B[49m\u001B[43mattrs\u001B[49m\u001B[43m,\u001B[49m\u001B[43m \u001B[49m\u001B[43mnum_outputs\u001B[49m\u001B[43m)\u001B[49m\n\u001B[1;32m     54\u001B[0m \u001B[38;5;28;01mexcept\u001B[39;00m core\u001B[38;5;241m.\u001B[39m_NotOkStatusException \u001B[38;5;28;01mas\u001B[39;00m e:\n\u001B[1;32m     55\u001B[0m   \u001B[38;5;28;01mif\u001B[39;00m name \u001B[38;5;129;01mis\u001B[39;00m \u001B[38;5;129;01mnot\u001B[39;00m \u001B[38;5;28;01mNone\u001B[39;00m:\n",
      "\u001B[0;31mKeyboardInterrupt\u001B[0m: "
     ]
    }
   ],
   "source": [
    "train_model(*train_test_split(ratings_with_title_user_less_200[['Book-Title', 'User-ID']]), model, epochs=15, batch_size=2000, lr=0.0025, cosine_decay=False)"
   ],
   "metadata": {
    "collapsed": false
   }
  },
  {
   "cell_type": "code",
   "execution_count": 84,
   "outputs": [
    {
     "name": "stdout",
     "output_type": "stream",
     "text": [
      "Epoch 1/15\n",
      "90/90 [==============================] - 95s 1s/step - factorized_top_k/top_1_categorical_accuracy: 0.0044 - factorized_top_k/top_5_categorical_accuracy: 0.1337 - factorized_top_k/top_10_categorical_accuracy: 0.2331 - factorized_top_k/top_50_categorical_accuracy: 0.4873 - factorized_top_k/top_100_categorical_accuracy: 0.5984 - loss: 9535.5077 - regularization_loss: 0.0000e+00 - total_loss: 9535.5077 - val_factorized_top_k/top_1_categorical_accuracy: 6.6914e-05 - val_factorized_top_k/top_5_categorical_accuracy: 0.0018 - val_factorized_top_k/top_10_categorical_accuracy: 0.0076 - val_factorized_top_k/top_50_categorical_accuracy: 0.0642 - val_factorized_top_k/top_100_categorical_accuracy: 0.1225 - val_loss: 34926.2031 - val_regularization_loss: 0.0000e+00 - val_total_loss: 34926.2031\n",
      "Epoch 2/15\n",
      "90/90 [==============================] - 104s 1s/step - factorized_top_k/top_1_categorical_accuracy: 0.0063 - factorized_top_k/top_5_categorical_accuracy: 0.1441 - factorized_top_k/top_10_categorical_accuracy: 0.2502 - factorized_top_k/top_50_categorical_accuracy: 0.5139 - factorized_top_k/top_100_categorical_accuracy: 0.6235 - loss: 9239.2656 - regularization_loss: 0.0000e+00 - total_loss: 9239.2656 - val_factorized_top_k/top_1_categorical_accuracy: 4.4609e-05 - val_factorized_top_k/top_5_categorical_accuracy: 0.0019 - val_factorized_top_k/top_10_categorical_accuracy: 0.0074 - val_factorized_top_k/top_50_categorical_accuracy: 0.0642 - val_factorized_top_k/top_100_categorical_accuracy: 0.1226 - val_loss: 35267.9805 - val_regularization_loss: 0.0000e+00 - val_total_loss: 35267.9805\n",
      "Epoch 3/15\n",
      "90/90 [==============================] - 109s 1s/step - factorized_top_k/top_1_categorical_accuracy: 0.0064 - factorized_top_k/top_5_categorical_accuracy: 0.1476 - factorized_top_k/top_10_categorical_accuracy: 0.2589 - factorized_top_k/top_50_categorical_accuracy: 0.5320 - factorized_top_k/top_100_categorical_accuracy: 0.6408 - loss: 9064.8892 - regularization_loss: 0.0000e+00 - total_loss: 9064.8892 - val_factorized_top_k/top_1_categorical_accuracy: 8.9218e-05 - val_factorized_top_k/top_5_categorical_accuracy: 0.0019 - val_factorized_top_k/top_10_categorical_accuracy: 0.0075 - val_factorized_top_k/top_50_categorical_accuracy: 0.0640 - val_factorized_top_k/top_100_categorical_accuracy: 0.1228 - val_loss: 35643.4805 - val_regularization_loss: 0.0000e+00 - val_total_loss: 35643.4805\n",
      "Epoch 4/15\n",
      "90/90 [==============================] - 97s 1s/step - factorized_top_k/top_1_categorical_accuracy: 0.0067 - factorized_top_k/top_5_categorical_accuracy: 0.1511 - factorized_top_k/top_10_categorical_accuracy: 0.2672 - factorized_top_k/top_50_categorical_accuracy: 0.5480 - factorized_top_k/top_100_categorical_accuracy: 0.6569 - loss: 8906.0678 - regularization_loss: 0.0000e+00 - total_loss: 8906.0678 - val_factorized_top_k/top_1_categorical_accuracy: 2.2305e-05 - val_factorized_top_k/top_5_categorical_accuracy: 0.0017 - val_factorized_top_k/top_10_categorical_accuracy: 0.0072 - val_factorized_top_k/top_50_categorical_accuracy: 0.0635 - val_factorized_top_k/top_100_categorical_accuracy: 0.1227 - val_loss: 36026.4570 - val_regularization_loss: 0.0000e+00 - val_total_loss: 36026.4570\n",
      "Epoch 5/15\n",
      "90/90 [==============================] - 100s 1s/step - factorized_top_k/top_1_categorical_accuracy: 0.0069 - factorized_top_k/top_5_categorical_accuracy: 0.1544 - factorized_top_k/top_10_categorical_accuracy: 0.2749 - factorized_top_k/top_50_categorical_accuracy: 0.5632 - factorized_top_k/top_100_categorical_accuracy: 0.6706 - loss: 8761.8759 - regularization_loss: 0.0000e+00 - total_loss: 8761.8759 - val_factorized_top_k/top_1_categorical_accuracy: 6.6914e-05 - val_factorized_top_k/top_5_categorical_accuracy: 0.0017 - val_factorized_top_k/top_10_categorical_accuracy: 0.0071 - val_factorized_top_k/top_50_categorical_accuracy: 0.0633 - val_factorized_top_k/top_100_categorical_accuracy: 0.1226 - val_loss: 36421.4297 - val_regularization_loss: 0.0000e+00 - val_total_loss: 36421.4297\n",
      "Epoch 6/15\n",
      "90/90 [==============================] - 115s 1s/step - factorized_top_k/top_1_categorical_accuracy: 0.0075 - factorized_top_k/top_5_categorical_accuracy: 0.1569 - factorized_top_k/top_10_categorical_accuracy: 0.2825 - factorized_top_k/top_50_categorical_accuracy: 0.5767 - factorized_top_k/top_100_categorical_accuracy: 0.6835 - loss: 8630.9515 - regularization_loss: 0.0000e+00 - total_loss: 8630.9515 - val_factorized_top_k/top_1_categorical_accuracy: 8.9218e-05 - val_factorized_top_k/top_5_categorical_accuracy: 0.0015 - val_factorized_top_k/top_10_categorical_accuracy: 0.0068 - val_factorized_top_k/top_50_categorical_accuracy: 0.0625 - val_factorized_top_k/top_100_categorical_accuracy: 0.1229 - val_loss: 36815.7812 - val_regularization_loss: 0.0000e+00 - val_total_loss: 36815.7812\n",
      "Epoch 7/15\n",
      "90/90 [==============================] - 100s 1s/step - factorized_top_k/top_1_categorical_accuracy: 0.0081 - factorized_top_k/top_5_categorical_accuracy: 0.1588 - factorized_top_k/top_10_categorical_accuracy: 0.2887 - factorized_top_k/top_50_categorical_accuracy: 0.5885 - factorized_top_k/top_100_categorical_accuracy: 0.6951 - loss: 8511.8205 - regularization_loss: 0.0000e+00 - total_loss: 8511.8205 - val_factorized_top_k/top_1_categorical_accuracy: 6.6914e-05 - val_factorized_top_k/top_5_categorical_accuracy: 0.0013 - val_factorized_top_k/top_10_categorical_accuracy: 0.0064 - val_factorized_top_k/top_50_categorical_accuracy: 0.0617 - val_factorized_top_k/top_100_categorical_accuracy: 0.1231 - val_loss: 37213.5508 - val_regularization_loss: 0.0000e+00 - val_total_loss: 37213.5508\n",
      "Epoch 8/15\n",
      "90/90 [==============================] - 112s 1s/step - factorized_top_k/top_1_categorical_accuracy: 0.0084 - factorized_top_k/top_5_categorical_accuracy: 0.1605 - factorized_top_k/top_10_categorical_accuracy: 0.2944 - factorized_top_k/top_50_categorical_accuracy: 0.5996 - factorized_top_k/top_100_categorical_accuracy: 0.7059 - loss: 8403.2660 - regularization_loss: 0.0000e+00 - total_loss: 8403.2660 - val_factorized_top_k/top_1_categorical_accuracy: 4.4609e-05 - val_factorized_top_k/top_5_categorical_accuracy: 0.0014 - val_factorized_top_k/top_10_categorical_accuracy: 0.0064 - val_factorized_top_k/top_50_categorical_accuracy: 0.0613 - val_factorized_top_k/top_100_categorical_accuracy: 0.1228 - val_loss: 37609.2461 - val_regularization_loss: 0.0000e+00 - val_total_loss: 37609.2461\n",
      "Epoch 9/15\n",
      "90/90 [==============================] - 99s 1s/step - factorized_top_k/top_1_categorical_accuracy: 0.0086 - factorized_top_k/top_5_categorical_accuracy: 0.1617 - factorized_top_k/top_10_categorical_accuracy: 0.2992 - factorized_top_k/top_50_categorical_accuracy: 0.6095 - factorized_top_k/top_100_categorical_accuracy: 0.7149 - loss: 8303.9545 - regularization_loss: 0.0000e+00 - total_loss: 8303.9545 - val_factorized_top_k/top_1_categorical_accuracy: 8.9218e-05 - val_factorized_top_k/top_5_categorical_accuracy: 0.0012 - val_factorized_top_k/top_10_categorical_accuracy: 0.0065 - val_factorized_top_k/top_50_categorical_accuracy: 0.0605 - val_factorized_top_k/top_100_categorical_accuracy: 0.1224 - val_loss: 38003.6602 - val_regularization_loss: 0.0000e+00 - val_total_loss: 38003.6602\n",
      "Epoch 10/15\n",
      "90/90 [==============================] - ETA: 0s - factorized_top_k/top_1_categorical_accuracy: 0.0090 - factorized_top_k/top_5_categorical_accuracy: 0.1628 - factorized_top_k/top_10_categorical_accuracy: 0.3035 - factorized_top_k/top_50_categorical_accuracy: 0.6184 - factorized_top_k/top_100_categorical_accuracy: 0.7234 - loss: 8247.5999 - regularization_loss: 0.0000e+00 - total_loss: 8247.5999"
     ]
    },
    {
     "ename": "KeyboardInterrupt",
     "evalue": "",
     "output_type": "error",
     "traceback": [
      "\u001B[0;31m---------------------------------------------------------------------------\u001B[0m",
      "\u001B[0;31mKeyboardInterrupt\u001B[0m                         Traceback (most recent call last)",
      "Cell \u001B[0;32mIn[84], line 1\u001B[0m\n\u001B[0;32m----> 1\u001B[0m \u001B[43mtrain_model\u001B[49m\u001B[43m(\u001B[49m\u001B[38;5;241;43m*\u001B[39;49m\u001B[43mtrain_test_split\u001B[49m\u001B[43m(\u001B[49m\u001B[43mratings_with_title_user_less_200\u001B[49m\u001B[43m[\u001B[49m\u001B[43m[\u001B[49m\u001B[38;5;124;43m'\u001B[39;49m\u001B[38;5;124;43mBook-Title\u001B[39;49m\u001B[38;5;124;43m'\u001B[39;49m\u001B[43m,\u001B[49m\u001B[43m \u001B[49m\u001B[38;5;124;43m'\u001B[39;49m\u001B[38;5;124;43mUser-ID\u001B[39;49m\u001B[38;5;124;43m'\u001B[39;49m\u001B[43m]\u001B[49m\u001B[43m]\u001B[49m\u001B[43m)\u001B[49m\u001B[43m,\u001B[49m\u001B[43m \u001B[49m\u001B[43mmodel\u001B[49m\u001B[43m,\u001B[49m\u001B[43m \u001B[49m\u001B[43mepochs\u001B[49m\u001B[38;5;241;43m=\u001B[39;49m\u001B[38;5;241;43m15\u001B[39;49m\u001B[43m,\u001B[49m\u001B[43m \u001B[49m\u001B[43mbatch_size\u001B[49m\u001B[38;5;241;43m=\u001B[39;49m\u001B[38;5;241;43m2000\u001B[39;49m\u001B[43m,\u001B[49m\u001B[43m \u001B[49m\u001B[43mlr\u001B[49m\u001B[38;5;241;43m=\u001B[39;49m\u001B[38;5;241;43m0.005\u001B[39;49m\u001B[43m,\u001B[49m\u001B[43m \u001B[49m\u001B[43mcosine_decay\u001B[49m\u001B[38;5;241;43m=\u001B[39;49m\u001B[38;5;28;43;01mFalse\u001B[39;49;00m\u001B[43m)\u001B[49m\n",
      "Cell \u001B[0;32mIn[82], line 14\u001B[0m, in \u001B[0;36mtrain_model\u001B[0;34m(train, test, model, epochs, batch_size, lr, cosine_decay)\u001B[0m\n\u001B[1;32m      2\u001B[0m tensorboard_callback \u001B[38;5;241m=\u001B[39m tf\u001B[38;5;241m.\u001B[39mkeras\u001B[38;5;241m.\u001B[39mcallbacks\u001B[38;5;241m.\u001B[39mTensorBoard(log_dir\u001B[38;5;241m=\u001B[39m\u001B[38;5;124m\"\u001B[39m\u001B[38;5;124m./logs\u001B[39m\u001B[38;5;124m\"\u001B[39m)\n\u001B[1;32m      4\u001B[0m model\u001B[38;5;241m.\u001B[39mcompile(\n\u001B[1;32m      5\u001B[0m     optimizer\u001B[38;5;241m=\u001B[39mtf\u001B[38;5;241m.\u001B[39mkeras\u001B[38;5;241m.\u001B[39moptimizers\u001B[38;5;241m.\u001B[39mAdam(\n\u001B[1;32m      6\u001B[0m         tf\u001B[38;5;241m.\u001B[39mkeras\u001B[38;5;241m.\u001B[39moptimizers\u001B[38;5;241m.\u001B[39mschedules\u001B[38;5;241m.\u001B[39mCosineDecay(\n\u001B[0;32m   (...)\u001B[0m\n\u001B[1;32m     12\u001B[0m     )\n\u001B[1;32m     13\u001B[0m )\n\u001B[0;32m---> 14\u001B[0m \u001B[43mmodel\u001B[49m\u001B[38;5;241;43m.\u001B[39;49m\u001B[43mfit\u001B[49m\u001B[43m(\u001B[49m\u001B[43mtrain\u001B[49m\u001B[38;5;241;43m.\u001B[39;49m\u001B[43mbatch\u001B[49m\u001B[43m(\u001B[49m\u001B[43mbatch_size\u001B[49m\u001B[43m)\u001B[49m\u001B[43m,\u001B[49m\n\u001B[1;32m     15\u001B[0m \u001B[43m          \u001B[49m\u001B[43mvalidation_data\u001B[49m\u001B[38;5;241;43m=\u001B[39;49m\u001B[43mtest\u001B[49m\u001B[38;5;241;43m.\u001B[39;49m\u001B[43mbatch\u001B[49m\u001B[43m(\u001B[49m\u001B[43mbatch_size\u001B[49m\u001B[43m)\u001B[49m\u001B[43m,\u001B[49m\n\u001B[1;32m     16\u001B[0m \u001B[43m          \u001B[49m\u001B[43mepochs\u001B[49m\u001B[38;5;241;43m=\u001B[39;49m\u001B[43mepochs\u001B[49m\u001B[43m,\u001B[49m\n\u001B[1;32m     17\u001B[0m \u001B[43m            \u001B[49m\u001B[43mcallbacks\u001B[49m\u001B[38;5;241;43m=\u001B[39;49m\u001B[43m[\u001B[49m\u001B[43mtensorboard_callback\u001B[49m\u001B[43m]\u001B[49m\n\u001B[1;32m     18\u001B[0m \u001B[43m          \u001B[49m\u001B[43m)\u001B[49m\n\u001B[1;32m     19\u001B[0m \u001B[38;5;28;01mreturn\u001B[39;00m model\n",
      "File \u001B[0;32m~/venvs/datasentics-uloha/lib/python3.11/site-packages/keras/utils/traceback_utils.py:65\u001B[0m, in \u001B[0;36mfilter_traceback.<locals>.error_handler\u001B[0;34m(*args, **kwargs)\u001B[0m\n\u001B[1;32m     63\u001B[0m filtered_tb \u001B[38;5;241m=\u001B[39m \u001B[38;5;28;01mNone\u001B[39;00m\n\u001B[1;32m     64\u001B[0m \u001B[38;5;28;01mtry\u001B[39;00m:\n\u001B[0;32m---> 65\u001B[0m     \u001B[38;5;28;01mreturn\u001B[39;00m \u001B[43mfn\u001B[49m\u001B[43m(\u001B[49m\u001B[38;5;241;43m*\u001B[39;49m\u001B[43margs\u001B[49m\u001B[43m,\u001B[49m\u001B[43m \u001B[49m\u001B[38;5;241;43m*\u001B[39;49m\u001B[38;5;241;43m*\u001B[39;49m\u001B[43mkwargs\u001B[49m\u001B[43m)\u001B[49m\n\u001B[1;32m     66\u001B[0m \u001B[38;5;28;01mexcept\u001B[39;00m \u001B[38;5;167;01mException\u001B[39;00m \u001B[38;5;28;01mas\u001B[39;00m e:\n\u001B[1;32m     67\u001B[0m     filtered_tb \u001B[38;5;241m=\u001B[39m _process_traceback_frames(e\u001B[38;5;241m.\u001B[39m__traceback__)\n",
      "File \u001B[0;32m~/venvs/datasentics-uloha/lib/python3.11/site-packages/keras/engine/training.py:1729\u001B[0m, in \u001B[0;36mModel.fit\u001B[0;34m(self, x, y, batch_size, epochs, verbose, callbacks, validation_split, validation_data, shuffle, class_weight, sample_weight, initial_epoch, steps_per_epoch, validation_steps, validation_batch_size, validation_freq, max_queue_size, workers, use_multiprocessing)\u001B[0m\n\u001B[1;32m   1714\u001B[0m \u001B[38;5;28;01mif\u001B[39;00m \u001B[38;5;28mgetattr\u001B[39m(\u001B[38;5;28mself\u001B[39m, \u001B[38;5;124m\"\u001B[39m\u001B[38;5;124m_eval_data_handler\u001B[39m\u001B[38;5;124m\"\u001B[39m, \u001B[38;5;28;01mNone\u001B[39;00m) \u001B[38;5;129;01mis\u001B[39;00m \u001B[38;5;28;01mNone\u001B[39;00m:\n\u001B[1;32m   1715\u001B[0m     \u001B[38;5;28mself\u001B[39m\u001B[38;5;241m.\u001B[39m_eval_data_handler \u001B[38;5;241m=\u001B[39m data_adapter\u001B[38;5;241m.\u001B[39mget_data_handler(\n\u001B[1;32m   1716\u001B[0m         x\u001B[38;5;241m=\u001B[39mval_x,\n\u001B[1;32m   1717\u001B[0m         y\u001B[38;5;241m=\u001B[39mval_y,\n\u001B[0;32m   (...)\u001B[0m\n\u001B[1;32m   1727\u001B[0m         steps_per_execution\u001B[38;5;241m=\u001B[39m\u001B[38;5;28mself\u001B[39m\u001B[38;5;241m.\u001B[39m_steps_per_execution,\n\u001B[1;32m   1728\u001B[0m     )\n\u001B[0;32m-> 1729\u001B[0m val_logs \u001B[38;5;241m=\u001B[39m \u001B[38;5;28;43mself\u001B[39;49m\u001B[38;5;241;43m.\u001B[39;49m\u001B[43mevaluate\u001B[49m\u001B[43m(\u001B[49m\n\u001B[1;32m   1730\u001B[0m \u001B[43m    \u001B[49m\u001B[43mx\u001B[49m\u001B[38;5;241;43m=\u001B[39;49m\u001B[43mval_x\u001B[49m\u001B[43m,\u001B[49m\n\u001B[1;32m   1731\u001B[0m \u001B[43m    \u001B[49m\u001B[43my\u001B[49m\u001B[38;5;241;43m=\u001B[39;49m\u001B[43mval_y\u001B[49m\u001B[43m,\u001B[49m\n\u001B[1;32m   1732\u001B[0m \u001B[43m    \u001B[49m\u001B[43msample_weight\u001B[49m\u001B[38;5;241;43m=\u001B[39;49m\u001B[43mval_sample_weight\u001B[49m\u001B[43m,\u001B[49m\n\u001B[1;32m   1733\u001B[0m \u001B[43m    \u001B[49m\u001B[43mbatch_size\u001B[49m\u001B[38;5;241;43m=\u001B[39;49m\u001B[43mvalidation_batch_size\u001B[49m\u001B[43m \u001B[49m\u001B[38;5;129;43;01mor\u001B[39;49;00m\u001B[43m \u001B[49m\u001B[43mbatch_size\u001B[49m\u001B[43m,\u001B[49m\n\u001B[1;32m   1734\u001B[0m \u001B[43m    \u001B[49m\u001B[43msteps\u001B[49m\u001B[38;5;241;43m=\u001B[39;49m\u001B[43mvalidation_steps\u001B[49m\u001B[43m,\u001B[49m\n\u001B[1;32m   1735\u001B[0m \u001B[43m    \u001B[49m\u001B[43mcallbacks\u001B[49m\u001B[38;5;241;43m=\u001B[39;49m\u001B[43mcallbacks\u001B[49m\u001B[43m,\u001B[49m\n\u001B[1;32m   1736\u001B[0m \u001B[43m    \u001B[49m\u001B[43mmax_queue_size\u001B[49m\u001B[38;5;241;43m=\u001B[39;49m\u001B[43mmax_queue_size\u001B[49m\u001B[43m,\u001B[49m\n\u001B[1;32m   1737\u001B[0m \u001B[43m    \u001B[49m\u001B[43mworkers\u001B[49m\u001B[38;5;241;43m=\u001B[39;49m\u001B[43mworkers\u001B[49m\u001B[43m,\u001B[49m\n\u001B[1;32m   1738\u001B[0m \u001B[43m    \u001B[49m\u001B[43muse_multiprocessing\u001B[49m\u001B[38;5;241;43m=\u001B[39;49m\u001B[43muse_multiprocessing\u001B[49m\u001B[43m,\u001B[49m\n\u001B[1;32m   1739\u001B[0m \u001B[43m    \u001B[49m\u001B[43mreturn_dict\u001B[49m\u001B[38;5;241;43m=\u001B[39;49m\u001B[38;5;28;43;01mTrue\u001B[39;49;00m\u001B[43m,\u001B[49m\n\u001B[1;32m   1740\u001B[0m \u001B[43m    \u001B[49m\u001B[43m_use_cached_eval_dataset\u001B[49m\u001B[38;5;241;43m=\u001B[39;49m\u001B[38;5;28;43;01mTrue\u001B[39;49;00m\u001B[43m,\u001B[49m\n\u001B[1;32m   1741\u001B[0m \u001B[43m\u001B[49m\u001B[43m)\u001B[49m\n\u001B[1;32m   1742\u001B[0m val_logs \u001B[38;5;241m=\u001B[39m {\n\u001B[1;32m   1743\u001B[0m     \u001B[38;5;124m\"\u001B[39m\u001B[38;5;124mval_\u001B[39m\u001B[38;5;124m\"\u001B[39m \u001B[38;5;241m+\u001B[39m name: val \u001B[38;5;28;01mfor\u001B[39;00m name, val \u001B[38;5;129;01min\u001B[39;00m val_logs\u001B[38;5;241m.\u001B[39mitems()\n\u001B[1;32m   1744\u001B[0m }\n\u001B[1;32m   1745\u001B[0m epoch_logs\u001B[38;5;241m.\u001B[39mupdate(val_logs)\n",
      "File \u001B[0;32m~/venvs/datasentics-uloha/lib/python3.11/site-packages/keras/utils/traceback_utils.py:65\u001B[0m, in \u001B[0;36mfilter_traceback.<locals>.error_handler\u001B[0;34m(*args, **kwargs)\u001B[0m\n\u001B[1;32m     63\u001B[0m filtered_tb \u001B[38;5;241m=\u001B[39m \u001B[38;5;28;01mNone\u001B[39;00m\n\u001B[1;32m     64\u001B[0m \u001B[38;5;28;01mtry\u001B[39;00m:\n\u001B[0;32m---> 65\u001B[0m     \u001B[38;5;28;01mreturn\u001B[39;00m \u001B[43mfn\u001B[49m\u001B[43m(\u001B[49m\u001B[38;5;241;43m*\u001B[39;49m\u001B[43margs\u001B[49m\u001B[43m,\u001B[49m\u001B[43m \u001B[49m\u001B[38;5;241;43m*\u001B[39;49m\u001B[38;5;241;43m*\u001B[39;49m\u001B[43mkwargs\u001B[49m\u001B[43m)\u001B[49m\n\u001B[1;32m     66\u001B[0m \u001B[38;5;28;01mexcept\u001B[39;00m \u001B[38;5;167;01mException\u001B[39;00m \u001B[38;5;28;01mas\u001B[39;00m e:\n\u001B[1;32m     67\u001B[0m     filtered_tb \u001B[38;5;241m=\u001B[39m _process_traceback_frames(e\u001B[38;5;241m.\u001B[39m__traceback__)\n",
      "File \u001B[0;32m~/venvs/datasentics-uloha/lib/python3.11/site-packages/keras/engine/training.py:2072\u001B[0m, in \u001B[0;36mModel.evaluate\u001B[0;34m(self, x, y, batch_size, verbose, sample_weight, steps, callbacks, max_queue_size, workers, use_multiprocessing, return_dict, **kwargs)\u001B[0m\n\u001B[1;32m   2068\u001B[0m \u001B[38;5;28;01mwith\u001B[39;00m tf\u001B[38;5;241m.\u001B[39mprofiler\u001B[38;5;241m.\u001B[39mexperimental\u001B[38;5;241m.\u001B[39mTrace(\n\u001B[1;32m   2069\u001B[0m     \u001B[38;5;124m\"\u001B[39m\u001B[38;5;124mtest\u001B[39m\u001B[38;5;124m\"\u001B[39m, step_num\u001B[38;5;241m=\u001B[39mstep, _r\u001B[38;5;241m=\u001B[39m\u001B[38;5;241m1\u001B[39m\n\u001B[1;32m   2070\u001B[0m ):\n\u001B[1;32m   2071\u001B[0m     callbacks\u001B[38;5;241m.\u001B[39mon_test_batch_begin(step)\n\u001B[0;32m-> 2072\u001B[0m     tmp_logs \u001B[38;5;241m=\u001B[39m \u001B[38;5;28;43mself\u001B[39;49m\u001B[38;5;241;43m.\u001B[39;49m\u001B[43mtest_function\u001B[49m\u001B[43m(\u001B[49m\u001B[43miterator\u001B[49m\u001B[43m)\u001B[49m\n\u001B[1;32m   2073\u001B[0m     \u001B[38;5;28;01mif\u001B[39;00m data_handler\u001B[38;5;241m.\u001B[39mshould_sync:\n\u001B[1;32m   2074\u001B[0m         context\u001B[38;5;241m.\u001B[39masync_wait()\n",
      "File \u001B[0;32m~/venvs/datasentics-uloha/lib/python3.11/site-packages/tensorflow/python/util/traceback_utils.py:150\u001B[0m, in \u001B[0;36mfilter_traceback.<locals>.error_handler\u001B[0;34m(*args, **kwargs)\u001B[0m\n\u001B[1;32m    148\u001B[0m filtered_tb \u001B[38;5;241m=\u001B[39m \u001B[38;5;28;01mNone\u001B[39;00m\n\u001B[1;32m    149\u001B[0m \u001B[38;5;28;01mtry\u001B[39;00m:\n\u001B[0;32m--> 150\u001B[0m   \u001B[38;5;28;01mreturn\u001B[39;00m \u001B[43mfn\u001B[49m\u001B[43m(\u001B[49m\u001B[38;5;241;43m*\u001B[39;49m\u001B[43margs\u001B[49m\u001B[43m,\u001B[49m\u001B[43m \u001B[49m\u001B[38;5;241;43m*\u001B[39;49m\u001B[38;5;241;43m*\u001B[39;49m\u001B[43mkwargs\u001B[49m\u001B[43m)\u001B[49m\n\u001B[1;32m    151\u001B[0m \u001B[38;5;28;01mexcept\u001B[39;00m \u001B[38;5;167;01mException\u001B[39;00m \u001B[38;5;28;01mas\u001B[39;00m e:\n\u001B[1;32m    152\u001B[0m   filtered_tb \u001B[38;5;241m=\u001B[39m _process_traceback_frames(e\u001B[38;5;241m.\u001B[39m__traceback__)\n",
      "File \u001B[0;32m~/venvs/datasentics-uloha/lib/python3.11/site-packages/tensorflow/python/eager/polymorphic_function/polymorphic_function.py:894\u001B[0m, in \u001B[0;36mFunction.__call__\u001B[0;34m(self, *args, **kwds)\u001B[0m\n\u001B[1;32m    891\u001B[0m compiler \u001B[38;5;241m=\u001B[39m \u001B[38;5;124m\"\u001B[39m\u001B[38;5;124mxla\u001B[39m\u001B[38;5;124m\"\u001B[39m \u001B[38;5;28;01mif\u001B[39;00m \u001B[38;5;28mself\u001B[39m\u001B[38;5;241m.\u001B[39m_jit_compile \u001B[38;5;28;01melse\u001B[39;00m \u001B[38;5;124m\"\u001B[39m\u001B[38;5;124mnonXla\u001B[39m\u001B[38;5;124m\"\u001B[39m\n\u001B[1;32m    893\u001B[0m \u001B[38;5;28;01mwith\u001B[39;00m OptionalXlaContext(\u001B[38;5;28mself\u001B[39m\u001B[38;5;241m.\u001B[39m_jit_compile):\n\u001B[0;32m--> 894\u001B[0m   result \u001B[38;5;241m=\u001B[39m \u001B[38;5;28;43mself\u001B[39;49m\u001B[38;5;241;43m.\u001B[39;49m\u001B[43m_call\u001B[49m\u001B[43m(\u001B[49m\u001B[38;5;241;43m*\u001B[39;49m\u001B[43margs\u001B[49m\u001B[43m,\u001B[49m\u001B[43m \u001B[49m\u001B[38;5;241;43m*\u001B[39;49m\u001B[38;5;241;43m*\u001B[39;49m\u001B[43mkwds\u001B[49m\u001B[43m)\u001B[49m\n\u001B[1;32m    896\u001B[0m new_tracing_count \u001B[38;5;241m=\u001B[39m \u001B[38;5;28mself\u001B[39m\u001B[38;5;241m.\u001B[39mexperimental_get_tracing_count()\n\u001B[1;32m    897\u001B[0m without_tracing \u001B[38;5;241m=\u001B[39m (tracing_count \u001B[38;5;241m==\u001B[39m new_tracing_count)\n",
      "File \u001B[0;32m~/venvs/datasentics-uloha/lib/python3.11/site-packages/tensorflow/python/eager/polymorphic_function/polymorphic_function.py:933\u001B[0m, in \u001B[0;36mFunction._call\u001B[0;34m(self, *args, **kwds)\u001B[0m\n\u001B[1;32m    930\u001B[0m \u001B[38;5;28mself\u001B[39m\u001B[38;5;241m.\u001B[39m_lock\u001B[38;5;241m.\u001B[39mrelease()\n\u001B[1;32m    931\u001B[0m \u001B[38;5;66;03m# In this case we have not created variables on the first call. So we can\u001B[39;00m\n\u001B[1;32m    932\u001B[0m \u001B[38;5;66;03m# run the first trace but we should fail if variables are created.\u001B[39;00m\n\u001B[0;32m--> 933\u001B[0m results \u001B[38;5;241m=\u001B[39m \u001B[38;5;28;43mself\u001B[39;49m\u001B[38;5;241;43m.\u001B[39;49m\u001B[43m_variable_creation_fn\u001B[49m\u001B[43m(\u001B[49m\u001B[38;5;241;43m*\u001B[39;49m\u001B[43margs\u001B[49m\u001B[43m,\u001B[49m\u001B[43m \u001B[49m\u001B[38;5;241;43m*\u001B[39;49m\u001B[38;5;241;43m*\u001B[39;49m\u001B[43mkwds\u001B[49m\u001B[43m)\u001B[49m\n\u001B[1;32m    934\u001B[0m \u001B[38;5;28;01mif\u001B[39;00m \u001B[38;5;28mself\u001B[39m\u001B[38;5;241m.\u001B[39m_created_variables \u001B[38;5;129;01mand\u001B[39;00m \u001B[38;5;129;01mnot\u001B[39;00m ALLOW_DYNAMIC_VARIABLE_CREATION:\n\u001B[1;32m    935\u001B[0m   \u001B[38;5;28;01mraise\u001B[39;00m \u001B[38;5;167;01mValueError\u001B[39;00m(\u001B[38;5;124m\"\u001B[39m\u001B[38;5;124mCreating variables on a non-first call to a function\u001B[39m\u001B[38;5;124m\"\u001B[39m\n\u001B[1;32m    936\u001B[0m                    \u001B[38;5;124m\"\u001B[39m\u001B[38;5;124m decorated with tf.function.\u001B[39m\u001B[38;5;124m\"\u001B[39m)\n",
      "File \u001B[0;32m~/venvs/datasentics-uloha/lib/python3.11/site-packages/tensorflow/python/eager/polymorphic_function/tracing_compiler.py:143\u001B[0m, in \u001B[0;36mTracingCompiler.__call__\u001B[0;34m(self, *args, **kwargs)\u001B[0m\n\u001B[1;32m    140\u001B[0m \u001B[38;5;28;01mwith\u001B[39;00m \u001B[38;5;28mself\u001B[39m\u001B[38;5;241m.\u001B[39m_lock:\n\u001B[1;32m    141\u001B[0m   (concrete_function,\n\u001B[1;32m    142\u001B[0m    filtered_flat_args) \u001B[38;5;241m=\u001B[39m \u001B[38;5;28mself\u001B[39m\u001B[38;5;241m.\u001B[39m_maybe_define_function(args, kwargs)\n\u001B[0;32m--> 143\u001B[0m \u001B[38;5;28;01mreturn\u001B[39;00m \u001B[43mconcrete_function\u001B[49m\u001B[38;5;241;43m.\u001B[39;49m\u001B[43m_call_flat\u001B[49m\u001B[43m(\u001B[49m\n\u001B[1;32m    144\u001B[0m \u001B[43m    \u001B[49m\u001B[43mfiltered_flat_args\u001B[49m\u001B[43m,\u001B[49m\u001B[43m \u001B[49m\u001B[43mcaptured_inputs\u001B[49m\u001B[38;5;241;43m=\u001B[39;49m\u001B[43mconcrete_function\u001B[49m\u001B[38;5;241;43m.\u001B[39;49m\u001B[43mcaptured_inputs\u001B[49m\u001B[43m)\u001B[49m\n",
      "File \u001B[0;32m~/venvs/datasentics-uloha/lib/python3.11/site-packages/tensorflow/python/eager/polymorphic_function/monomorphic_function.py:1757\u001B[0m, in \u001B[0;36mConcreteFunction._call_flat\u001B[0;34m(self, args, captured_inputs, cancellation_manager)\u001B[0m\n\u001B[1;32m   1753\u001B[0m possible_gradient_type \u001B[38;5;241m=\u001B[39m gradients_util\u001B[38;5;241m.\u001B[39mPossibleTapeGradientTypes(args)\n\u001B[1;32m   1754\u001B[0m \u001B[38;5;28;01mif\u001B[39;00m (possible_gradient_type \u001B[38;5;241m==\u001B[39m gradients_util\u001B[38;5;241m.\u001B[39mPOSSIBLE_GRADIENT_TYPES_NONE\n\u001B[1;32m   1755\u001B[0m     \u001B[38;5;129;01mand\u001B[39;00m executing_eagerly):\n\u001B[1;32m   1756\u001B[0m   \u001B[38;5;66;03m# No tape is watching; skip to running the function.\u001B[39;00m\n\u001B[0;32m-> 1757\u001B[0m   \u001B[38;5;28;01mreturn\u001B[39;00m \u001B[38;5;28mself\u001B[39m\u001B[38;5;241m.\u001B[39m_build_call_outputs(\u001B[38;5;28;43mself\u001B[39;49m\u001B[38;5;241;43m.\u001B[39;49m\u001B[43m_inference_function\u001B[49m\u001B[38;5;241;43m.\u001B[39;49m\u001B[43mcall\u001B[49m\u001B[43m(\u001B[49m\n\u001B[1;32m   1758\u001B[0m \u001B[43m      \u001B[49m\u001B[43mctx\u001B[49m\u001B[43m,\u001B[49m\u001B[43m \u001B[49m\u001B[43margs\u001B[49m\u001B[43m,\u001B[49m\u001B[43m \u001B[49m\u001B[43mcancellation_manager\u001B[49m\u001B[38;5;241;43m=\u001B[39;49m\u001B[43mcancellation_manager\u001B[49m\u001B[43m)\u001B[49m)\n\u001B[1;32m   1759\u001B[0m forward_backward \u001B[38;5;241m=\u001B[39m \u001B[38;5;28mself\u001B[39m\u001B[38;5;241m.\u001B[39m_select_forward_and_backward_functions(\n\u001B[1;32m   1760\u001B[0m     args,\n\u001B[1;32m   1761\u001B[0m     possible_gradient_type,\n\u001B[1;32m   1762\u001B[0m     executing_eagerly)\n\u001B[1;32m   1763\u001B[0m forward_function, args_with_tangents \u001B[38;5;241m=\u001B[39m forward_backward\u001B[38;5;241m.\u001B[39mforward()\n",
      "File \u001B[0;32m~/venvs/datasentics-uloha/lib/python3.11/site-packages/tensorflow/python/eager/polymorphic_function/monomorphic_function.py:381\u001B[0m, in \u001B[0;36m_EagerDefinedFunction.call\u001B[0;34m(self, ctx, args, cancellation_manager)\u001B[0m\n\u001B[1;32m    379\u001B[0m \u001B[38;5;28;01mwith\u001B[39;00m _InterpolateFunctionError(\u001B[38;5;28mself\u001B[39m):\n\u001B[1;32m    380\u001B[0m   \u001B[38;5;28;01mif\u001B[39;00m cancellation_manager \u001B[38;5;129;01mis\u001B[39;00m \u001B[38;5;28;01mNone\u001B[39;00m:\n\u001B[0;32m--> 381\u001B[0m     outputs \u001B[38;5;241m=\u001B[39m \u001B[43mexecute\u001B[49m\u001B[38;5;241;43m.\u001B[39;49m\u001B[43mexecute\u001B[49m\u001B[43m(\u001B[49m\n\u001B[1;32m    382\u001B[0m \u001B[43m        \u001B[49m\u001B[38;5;28;43mstr\u001B[39;49m\u001B[43m(\u001B[49m\u001B[38;5;28;43mself\u001B[39;49m\u001B[38;5;241;43m.\u001B[39;49m\u001B[43msignature\u001B[49m\u001B[38;5;241;43m.\u001B[39;49m\u001B[43mname\u001B[49m\u001B[43m)\u001B[49m\u001B[43m,\u001B[49m\n\u001B[1;32m    383\u001B[0m \u001B[43m        \u001B[49m\u001B[43mnum_outputs\u001B[49m\u001B[38;5;241;43m=\u001B[39;49m\u001B[38;5;28;43mself\u001B[39;49m\u001B[38;5;241;43m.\u001B[39;49m\u001B[43m_num_outputs\u001B[49m\u001B[43m,\u001B[49m\n\u001B[1;32m    384\u001B[0m \u001B[43m        \u001B[49m\u001B[43minputs\u001B[49m\u001B[38;5;241;43m=\u001B[39;49m\u001B[43margs\u001B[49m\u001B[43m,\u001B[49m\n\u001B[1;32m    385\u001B[0m \u001B[43m        \u001B[49m\u001B[43mattrs\u001B[49m\u001B[38;5;241;43m=\u001B[39;49m\u001B[43mattrs\u001B[49m\u001B[43m,\u001B[49m\n\u001B[1;32m    386\u001B[0m \u001B[43m        \u001B[49m\u001B[43mctx\u001B[49m\u001B[38;5;241;43m=\u001B[39;49m\u001B[43mctx\u001B[49m\u001B[43m)\u001B[49m\n\u001B[1;32m    387\u001B[0m   \u001B[38;5;28;01melse\u001B[39;00m:\n\u001B[1;32m    388\u001B[0m     outputs \u001B[38;5;241m=\u001B[39m execute\u001B[38;5;241m.\u001B[39mexecute_with_cancellation(\n\u001B[1;32m    389\u001B[0m         \u001B[38;5;28mstr\u001B[39m(\u001B[38;5;28mself\u001B[39m\u001B[38;5;241m.\u001B[39msignature\u001B[38;5;241m.\u001B[39mname),\n\u001B[1;32m    390\u001B[0m         num_outputs\u001B[38;5;241m=\u001B[39m\u001B[38;5;28mself\u001B[39m\u001B[38;5;241m.\u001B[39m_num_outputs,\n\u001B[0;32m   (...)\u001B[0m\n\u001B[1;32m    393\u001B[0m         ctx\u001B[38;5;241m=\u001B[39mctx,\n\u001B[1;32m    394\u001B[0m         cancellation_manager\u001B[38;5;241m=\u001B[39mcancellation_manager)\n",
      "File \u001B[0;32m~/venvs/datasentics-uloha/lib/python3.11/site-packages/tensorflow/python/eager/execute.py:52\u001B[0m, in \u001B[0;36mquick_execute\u001B[0;34m(op_name, num_outputs, inputs, attrs, ctx, name)\u001B[0m\n\u001B[1;32m     50\u001B[0m \u001B[38;5;28;01mtry\u001B[39;00m:\n\u001B[1;32m     51\u001B[0m   ctx\u001B[38;5;241m.\u001B[39mensure_initialized()\n\u001B[0;32m---> 52\u001B[0m   tensors \u001B[38;5;241m=\u001B[39m \u001B[43mpywrap_tfe\u001B[49m\u001B[38;5;241;43m.\u001B[39;49m\u001B[43mTFE_Py_Execute\u001B[49m\u001B[43m(\u001B[49m\u001B[43mctx\u001B[49m\u001B[38;5;241;43m.\u001B[39;49m\u001B[43m_handle\u001B[49m\u001B[43m,\u001B[49m\u001B[43m \u001B[49m\u001B[43mdevice_name\u001B[49m\u001B[43m,\u001B[49m\u001B[43m \u001B[49m\u001B[43mop_name\u001B[49m\u001B[43m,\u001B[49m\n\u001B[1;32m     53\u001B[0m \u001B[43m                                      \u001B[49m\u001B[43minputs\u001B[49m\u001B[43m,\u001B[49m\u001B[43m \u001B[49m\u001B[43mattrs\u001B[49m\u001B[43m,\u001B[49m\u001B[43m \u001B[49m\u001B[43mnum_outputs\u001B[49m\u001B[43m)\u001B[49m\n\u001B[1;32m     54\u001B[0m \u001B[38;5;28;01mexcept\u001B[39;00m core\u001B[38;5;241m.\u001B[39m_NotOkStatusException \u001B[38;5;28;01mas\u001B[39;00m e:\n\u001B[1;32m     55\u001B[0m   \u001B[38;5;28;01mif\u001B[39;00m name \u001B[38;5;129;01mis\u001B[39;00m \u001B[38;5;129;01mnot\u001B[39;00m \u001B[38;5;28;01mNone\u001B[39;00m:\n",
      "\u001B[0;31mKeyboardInterrupt\u001B[0m: "
     ]
    }
   ],
   "source": [
    "train_model(*train_test_split(ratings_with_title_user_less_200[['Book-Title', 'User-ID']]), model, epochs=15, batch_size=2000, lr=0.005, cosine_decay=False)"
   ],
   "metadata": {
    "collapsed": false
   }
  }
 ],
 "metadata": {
  "kernelspec": {
   "display_name": "Python 3 (ipykernel)",
   "language": "python",
   "name": "python3"
  },
  "language_info": {
   "codemirror_mode": {
    "name": "ipython",
    "version": 3
   },
   "file_extension": ".py",
   "mimetype": "text/x-python",
   "name": "python",
   "nbconvert_exporter": "python",
   "pygments_lexer": "ipython3",
   "version": "3.11.4"
  }
 },
 "nbformat": 4,
 "nbformat_minor": 4
}
