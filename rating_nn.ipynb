{
 "cells": [
  {
   "cell_type": "code",
   "execution_count": 1,
   "outputs": [
    {
     "name": "stderr",
     "output_type": "stream",
     "text": [
      "2023-09-01 17:33:06.174471: I tensorflow/core/platform/cpu_feature_guard.cc:182] This TensorFlow binary is optimized to use available CPU instructions in performance-critical operations.\n",
      "To enable the following instructions: SSE4.1 SSE4.2 AVX AVX2 FMA, in other operations, rebuild TensorFlow with the appropriate compiler flags.\n"
     ]
    }
   ],
   "source": [
    "from pathlib import Path\n",
    "from dataset import read_bx_csv\n",
    "\n",
    "data_root = Path('data/BX-CSV-Dump')\n",
    "users = read_bx_csv(data_root / 'BX-Users.csv')\n",
    "books = read_bx_csv(data_root / 'BX-Books.csv')\n",
    "ratings = read_bx_csv(data_root / 'BX-Book-Ratings.csv')"
   ],
   "metadata": {
    "collapsed": false
   }
  },
  {
   "cell_type": "markdown",
   "source": [
    "Predict rating of a book for a user\n",
    "\n",
    "6500 books (after filtr.), 11000 users, 320K ratings, of which 111K explicit\n",
    "\n",
    "nebo < 2OO ratings per user filter\n",
    "- 224K total ratings, of which 91K explicit ratings\n",
    "    - otazka jak vypada histogram explicit ratings per book/user\n",
    "\n",
    "ratings - málo, protože implicit musim ignorovat\n",
    "- mozna by šlo self training na implicit ratings?\n",
    "    - dost prace, takze ted ne\n",
    "\n",
    "pouzit ostatni featury?\n",
    "- nektery jsou n/a\n",
    "- vsechny v podstate categorical\n",
    "    - i year a age je podle mě lepší bucketovat než standard scaler...\n"
   ],
   "metadata": {
    "collapsed": false
   }
  },
  {
   "cell_type": "code",
   "execution_count": 2,
   "outputs": [
    {
     "data": {
      "text/plain": "   User-ID        ISBN  Book-Rating  \\\n0   276725  034545104X            0   \n1     2313  034545104X            5   \n2     2313  0812533550            9   \n3     2313  0679745580            8   \n4     2313  0060173289            9   \n\n                                         Book-Title       Book-Author  \\\n0                              Flesh Tones: A Novel        M. J. Rose   \n1                              Flesh Tones: A Novel        M. J. Rose   \n2     Ender's Game (Ender Wiggins Saga (Paperback))  Orson Scott Card   \n3             In Cold Blood (Vintage International)     TRUMAN CAPOTE   \n4  Divine Secrets of the Ya-Ya Sisterhood : A Novel     Rebecca Wells   \n\n   Year-Of-Publication         Publisher               Location   Age  \n0                 2002  Ballantine Books      tyler, texas, usa   NaN  \n1                 2002  Ballantine Books  cincinnati, ohio, usa  23.0  \n2                 1986         Tor Books  cincinnati, ohio, usa  23.0  \n3                 1994           Vintage  cincinnati, ohio, usa  23.0  \n4                 1996     HarperCollins  cincinnati, ohio, usa  23.0  ",
      "text/html": "<div>\n<style scoped>\n    .dataframe tbody tr th:only-of-type {\n        vertical-align: middle;\n    }\n\n    .dataframe tbody tr th {\n        vertical-align: top;\n    }\n\n    .dataframe thead th {\n        text-align: right;\n    }\n</style>\n<table border=\"1\" class=\"dataframe\">\n  <thead>\n    <tr style=\"text-align: right;\">\n      <th></th>\n      <th>User-ID</th>\n      <th>ISBN</th>\n      <th>Book-Rating</th>\n      <th>Book-Title</th>\n      <th>Book-Author</th>\n      <th>Year-Of-Publication</th>\n      <th>Publisher</th>\n      <th>Location</th>\n      <th>Age</th>\n    </tr>\n  </thead>\n  <tbody>\n    <tr>\n      <th>0</th>\n      <td>276725</td>\n      <td>034545104X</td>\n      <td>0</td>\n      <td>Flesh Tones: A Novel</td>\n      <td>M. J. Rose</td>\n      <td>2002</td>\n      <td>Ballantine Books</td>\n      <td>tyler, texas, usa</td>\n      <td>NaN</td>\n    </tr>\n    <tr>\n      <th>1</th>\n      <td>2313</td>\n      <td>034545104X</td>\n      <td>5</td>\n      <td>Flesh Tones: A Novel</td>\n      <td>M. J. Rose</td>\n      <td>2002</td>\n      <td>Ballantine Books</td>\n      <td>cincinnati, ohio, usa</td>\n      <td>23.0</td>\n    </tr>\n    <tr>\n      <th>2</th>\n      <td>2313</td>\n      <td>0812533550</td>\n      <td>9</td>\n      <td>Ender's Game (Ender Wiggins Saga (Paperback))</td>\n      <td>Orson Scott Card</td>\n      <td>1986</td>\n      <td>Tor Books</td>\n      <td>cincinnati, ohio, usa</td>\n      <td>23.0</td>\n    </tr>\n    <tr>\n      <th>3</th>\n      <td>2313</td>\n      <td>0679745580</td>\n      <td>8</td>\n      <td>In Cold Blood (Vintage International)</td>\n      <td>TRUMAN CAPOTE</td>\n      <td>1994</td>\n      <td>Vintage</td>\n      <td>cincinnati, ohio, usa</td>\n      <td>23.0</td>\n    </tr>\n    <tr>\n      <th>4</th>\n      <td>2313</td>\n      <td>0060173289</td>\n      <td>9</td>\n      <td>Divine Secrets of the Ya-Ya Sisterhood : A Novel</td>\n      <td>Rebecca Wells</td>\n      <td>1996</td>\n      <td>HarperCollins</td>\n      <td>cincinnati, ohio, usa</td>\n      <td>23.0</td>\n    </tr>\n  </tbody>\n</table>\n</div>"
     },
     "execution_count": 2,
     "metadata": {},
     "output_type": "execute_result"
    }
   ],
   "source": [
    "# create wide form of ratings\n",
    "ratings_wide = ratings.merge(books, on='ISBN').merge(users, on='User-ID').drop(columns=[f'Image-URL-{size}' for size in 'SML'])\n",
    "ratings_wide.head()"
   ],
   "metadata": {
    "collapsed": false
   }
  },
  {
   "cell_type": "code",
   "execution_count": 3,
   "outputs": [],
   "source": [
    "from dataset import filter_ratings\n",
    "f_ratings_wide = filter_ratings(ratings_wide, user_ratings_max_count=200)"
   ],
   "metadata": {
    "collapsed": false
   }
  },
  {
   "cell_type": "code",
   "execution_count": 4,
   "outputs": [],
   "source": [
    "# clip user age to 100\n",
    "f_ratings_wide['Age'] = f_ratings_wide['Age'].clip(upper=100)"
   ],
   "metadata": {
    "collapsed": false
   }
  },
  {
   "cell_type": "code",
   "execution_count": 5,
   "outputs": [
    {
     "data": {
      "text/plain": "<Axes: >"
     },
     "execution_count": 5,
     "metadata": {},
     "output_type": "execute_result"
    },
    {
     "data": {
      "text/plain": "<Figure size 640x480 with 1 Axes>",
      "image/png": "[encoded data removed]"
     },
     "metadata": {},
     "output_type": "display_data"
    }
   ],
   "source": [
    "# aggregate users from filtered ratings\n",
    "f_users = f_ratings_wide.groupby('User-ID').first().reset_index()\n",
    "f_users.Age.hist(bins=20)"
   ],
   "metadata": {
    "collapsed": false
   }
  },
  {
   "cell_type": "code",
   "execution_count": 6,
   "outputs": [],
   "source": [
    "# replace n/a in user age with -100 (for bucketing to onehot - unknown age will get its own category)\n",
    "f_ratings_wide['Age'] = f_ratings_wide['Age'].fillna(-100)"
   ],
   "metadata": {
    "collapsed": false
   }
  },
  {
   "cell_type": "code",
   "execution_count": 7,
   "outputs": [
    {
     "data": {
      "text/plain": "<Axes: >"
     },
     "execution_count": 7,
     "metadata": {},
     "output_type": "execute_result"
    },
    {
     "data": {
      "text/plain": "<Figure size 640x480 with 1 Axes>",
      "image/png": "[encoded data removed]"
     },
     "metadata": {},
     "output_type": "display_data"
    }
   ],
   "source": [
    "# aggregate books from filtered ratings\n",
    "f_books = f_ratings_wide.groupby('ISBN').first().reset_index()\n",
    "f_books[f_books['Year-Of-Publication'] > 0]['Year-Of-Publication'].hist(bins=20)"
   ],
   "metadata": {
    "collapsed": false
   }
  },
  {
   "cell_type": "code",
   "execution_count": 8,
   "outputs": [
    {
     "data": {
      "text/plain": "User-ID                0\nISBN                   0\nBook-Rating            0\nBook-Title             0\nBook-Author            0\nYear-Of-Publication    0\nPublisher              0\nLocation               0\nAge                    0\nbook_ratings_count     0\nuser_ratings_count     0\ndtype: int64"
     },
     "execution_count": 8,
     "metadata": {},
     "output_type": "execute_result"
    }
   ],
   "source": [
    "f_ratings_wide.isna().sum()"
   ],
   "metadata": {
    "collapsed": false
   }
  },
  {
   "cell_type": "code",
   "execution_count": 9,
   "outputs": [],
   "source": [
    "import numpy as np"
   ],
   "metadata": {
    "collapsed": false
   }
  },
  {
   "cell_type": "code",
   "execution_count": 10,
   "outputs": [],
   "source": [
    "%load_ext autoreload\n",
    "%autoreload complete --print\n",
    "\n",
    "from sklearn.model_selection import GridSearchCV\n",
    "from sklearn.linear_model import Ridge\n",
    "from sklearn.pipeline import Pipeline\n",
    "from statistics import LinearRegression\n",
    "from sklearn.preprocessing import OneHotEncoder, KBinsDiscretizer\n",
    "from sklearn.compose import ColumnTransformer\n",
    "from sklearn.model_selection import train_test_split\n",
    "from sklearn.metrics import mean_squared_error\n",
    "\n",
    "import pandas as pd\n",
    "\n",
    "from hash_transform import HashingTransformer"
   ],
   "metadata": {
    "collapsed": false
   }
  },
  {
   "cell_type": "code",
   "execution_count": 11,
   "outputs": [],
   "source": [
    "\n",
    "# Location could really be important, esp. if people cannot read in all languages in the dataset\n",
    "categoricals = ['Book-Author', 'Publisher'] #'Location']\n"
   ],
   "metadata": {
    "collapsed": false
   }
  },
  {
   "cell_type": "markdown",
   "source": [
    "# Neural network in tensorflow\n"
   ],
   "metadata": {
    "collapsed": false
   }
  },
  {
   "cell_type": "code",
   "execution_count": 12,
   "outputs": [
    {
     "data": {
      "text/plain": "   User-ID        ISBN  Book-Rating  \\\n1     2313  034545104X            5   \n2     2313  0812533550            9   \n3     2313  0679745580            8   \n4     2313  0060173289            9   \n5     2313  0385482388            5   \n\n                                         Book-Title  \\\n1                              Flesh Tones: A Novel   \n2     Ender's Game (Ender Wiggins Saga (Paperback))   \n3             In Cold Blood (Vintage International)   \n4  Divine Secrets of the Ya-Ya Sisterhood : A Novel   \n5                            The Mistress of Spices   \n\n                  Book-Author  Year-Of-Publication               Publisher  \\\n1                  M. J. Rose                 2002        Ballantine Books   \n2            Orson Scott Card                 1986               Tor Books   \n3               TRUMAN CAPOTE                 1994                 Vintage   \n4               Rebecca Wells                 1996           HarperCollins   \n5  Chitra Banerjee Divakaruni                 1998  Anchor Books/Doubleday   \n\n                Location   Age  book_ratings_count  user_ratings_count  \n1  cincinnati, ohio, usa  23.0                  60                  15  \n2  cincinnati, ohio, usa  23.0                  23                  15  \n3  cincinnati, ohio, usa  23.0                  55                  15  \n4  cincinnati, ohio, usa  23.0                 130                  15  \n5  cincinnati, ohio, usa  23.0                  80                  15  ",
      "text/html": "<div>\n<style scoped>\n    .dataframe tbody tr th:only-of-type {\n        vertical-align: middle;\n    }\n\n    .dataframe tbody tr th {\n        vertical-align: top;\n    }\n\n    .dataframe thead th {\n        text-align: right;\n    }\n</style>\n<table border=\"1\" class=\"dataframe\">\n  <thead>\n    <tr style=\"text-align: right;\">\n      <th></th>\n      <th>User-ID</th>\n      <th>ISBN</th>\n      <th>Book-Rating</th>\n      <th>Book-Title</th>\n      <th>Book-Author</th>\n      <th>Year-Of-Publication</th>\n      <th>Publisher</th>\n      <th>Location</th>\n      <th>Age</th>\n      <th>book_ratings_count</th>\n      <th>user_ratings_count</th>\n    </tr>\n  </thead>\n  <tbody>\n    <tr>\n      <th>1</th>\n      <td>2313</td>\n      <td>034545104X</td>\n      <td>5</td>\n      <td>Flesh Tones: A Novel</td>\n      <td>M. J. Rose</td>\n      <td>2002</td>\n      <td>Ballantine Books</td>\n      <td>cincinnati, ohio, usa</td>\n      <td>23.0</td>\n      <td>60</td>\n      <td>15</td>\n    </tr>\n    <tr>\n      <th>2</th>\n      <td>2313</td>\n      <td>0812533550</td>\n      <td>9</td>\n      <td>Ender's Game (Ender Wiggins Saga (Paperback))</td>\n      <td>Orson Scott Card</td>\n      <td>1986</td>\n      <td>Tor Books</td>\n      <td>cincinnati, ohio, usa</td>\n      <td>23.0</td>\n      <td>23</td>\n      <td>15</td>\n    </tr>\n    <tr>\n      <th>3</th>\n      <td>2313</td>\n      <td>0679745580</td>\n      <td>8</td>\n      <td>In Cold Blood (Vintage International)</td>\n      <td>TRUMAN CAPOTE</td>\n      <td>1994</td>\n      <td>Vintage</td>\n      <td>cincinnati, ohio, usa</td>\n      <td>23.0</td>\n      <td>55</td>\n      <td>15</td>\n    </tr>\n    <tr>\n      <th>4</th>\n      <td>2313</td>\n      <td>0060173289</td>\n      <td>9</td>\n      <td>Divine Secrets of the Ya-Ya Sisterhood : A Novel</td>\n      <td>Rebecca Wells</td>\n      <td>1996</td>\n      <td>HarperCollins</td>\n      <td>cincinnati, ohio, usa</td>\n      <td>23.0</td>\n      <td>130</td>\n      <td>15</td>\n    </tr>\n    <tr>\n      <th>5</th>\n      <td>2313</td>\n      <td>0385482388</td>\n      <td>5</td>\n      <td>The Mistress of Spices</td>\n      <td>Chitra Banerjee Divakaruni</td>\n      <td>1998</td>\n      <td>Anchor Books/Doubleday</td>\n      <td>cincinnati, ohio, usa</td>\n      <td>23.0</td>\n      <td>80</td>\n      <td>15</td>\n    </tr>\n  </tbody>\n</table>\n</div>"
     },
     "execution_count": 12,
     "metadata": {},
     "output_type": "execute_result"
    }
   ],
   "source": [
    "f_ratings_wide.head()"
   ],
   "metadata": {
    "collapsed": false
   }
  },
  {
   "cell_type": "code",
   "execution_count": 13,
   "outputs": [
    {
     "data": {
      "text/plain": "User-ID                10734\nISBN                    7268\nBook-Rating               11\nBook-Title              6484\nBook-Author             2314\nYear-Of-Publication       55\nPublisher                527\nLocation                4840\nAge                       88\nbook_ratings_count       312\nuser_ratings_count       191\ndtype: int64"
     },
     "execution_count": 13,
     "metadata": {},
     "output_type": "execute_result"
    }
   ],
   "source": [
    "# Count\n",
    "f_ratings_wide.nunique()\n",
    "\n"
   ],
   "metadata": {
    "collapsed": false
   }
  },
  {
   "cell_type": "code",
   "execution_count": 14,
   "outputs": [],
   "source": [
    "# split Location column ex: cincinnati, ohio, usa\n",
    "\n",
    "f_ratings_wide[['City', 'State', 'Country']] = f_ratings_wide['Location'].str.rsplit(\",\", n=2, expand=True).apply(lambda series: series.str.strip())"
   ],
   "metadata": {
    "collapsed": false
   }
  },
  {
   "cell_type": "code",
   "execution_count": 15,
   "outputs": [
    {
     "data": {
      "text/plain": "City       3814\nState       406\nCountry      75\ndtype: int64"
     },
     "execution_count": 15,
     "metadata": {},
     "output_type": "execute_result"
    }
   ],
   "source": [
    "f_ratings_wide[['City', 'State', 'Country']].nunique()"
   ],
   "metadata": {
    "collapsed": false
   }
  },
  {
   "cell_type": "code",
   "execution_count": 41,
   "outputs": [
    {
     "name": "stderr",
     "output_type": "stream",
     "text": [
      "2023-09-03 16:16:24.318571: I tensorflow/core/common_runtime/executor.cc:1197] [/device:CPU:0] (DEBUG INFO) Executor start aborting (this does not indicate an error and you can ignore this message): INVALID_ARGUMENT: You must feed a value for placeholder tensor 'Placeholder/_7' with dtype string and shape [224170]\n",
      "\t [[{{node Placeholder/_7}}]]\n",
      "2023-09-03 16:16:24.319797: I tensorflow/core/common_runtime/executor.cc:1197] [/device:CPU:0] (DEBUG INFO) Executor start aborting (this does not indicate an error and you can ignore this message): INVALID_ARGUMENT: You must feed a value for placeholder tensor 'Placeholder/_1' with dtype string and shape [224170]\n",
      "\t [[{{node Placeholder/_1}}]]\n"
     ]
    },
    {
     "name": "stdout",
     "output_type": "stream",
     "text": [
      "Test loss before training: 21.495049\n",
      "Epoch 1/20\n"
     ]
    },
    {
     "name": "stderr",
     "output_type": "stream",
     "text": [
      "2023-09-03 16:16:28.457150: I tensorflow/core/common_runtime/executor.cc:1197] [/device:CPU:0] (DEBUG INFO) Executor start aborting (this does not indicate an error and you can ignore this message): INVALID_ARGUMENT: You must feed a value for placeholder tensor 'Placeholder/_7' with dtype string and shape [224170]\n",
      "\t [[{{node Placeholder/_7}}]]\n",
      "2023-09-03 16:16:28.458428: I tensorflow/core/common_runtime/executor.cc:1197] [/device:CPU:0] (DEBUG INFO) Executor start aborting (this does not indicate an error and you can ignore this message): INVALID_ARGUMENT: You must feed a value for placeholder tensor 'Placeholder/_9' with dtype double and shape [224170]\n",
      "\t [[{{node Placeholder/_9}}]]\n"
     ]
    },
    {
     "name": "stdout",
     "output_type": "stream",
     "text": [
      "44/44 [==============================] - ETA: 0s - root_mean_squared_error: 3.7636 - loss: 14.1593 - regularization_loss: 4.9039 - total_loss: 19.0632"
     ]
    },
    {
     "name": "stderr",
     "output_type": "stream",
     "text": [
      "2023-09-03 16:16:38.995694: I tensorflow/core/common_runtime/executor.cc:1197] [/device:CPU:0] (DEBUG INFO) Executor start aborting (this does not indicate an error and you can ignore this message): INVALID_ARGUMENT: You must feed a value for placeholder tensor 'Placeholder/_6' with dtype string and shape [224170]\n",
      "\t [[{{node Placeholder/_6}}]]\n",
      "2023-09-03 16:16:38.996752: I tensorflow/core/common_runtime/executor.cc:1197] [/device:CPU:0] (DEBUG INFO) Executor start aborting (this does not indicate an error and you can ignore this message): INVALID_ARGUMENT: You must feed a value for placeholder tensor 'Placeholder/_11' with dtype double and shape [224170]\n",
      "\t [[{{node Placeholder/_11}}]]\n"
     ]
    },
    {
     "name": "stdout",
     "output_type": "stream",
     "text": [
      "44/44 [==============================] - 15s 194ms/step - root_mean_squared_error: 3.7636 - loss: 14.1358 - regularization_loss: 4.8154 - total_loss: 18.9512 - val_root_mean_squared_error: 3.5953 - val_loss: 12.7245 - val_regularization_loss: 0.8642 - val_total_loss: 13.5887\n",
      "Epoch 2/20\n",
      "44/44 [==============================] - 12s 190ms/step - root_mean_squared_error: 3.4450 - loss: 11.8813 - regularization_loss: 0.5126 - total_loss: 12.3940 - val_root_mean_squared_error: 3.6088 - val_loss: 12.7943 - val_regularization_loss: 0.2888 - val_total_loss: 13.0831\n",
      "Epoch 3/20\n",
      "44/44 [==============================] - 12s 179ms/step - root_mean_squared_error: 3.3849 - loss: 11.4688 - regularization_loss: 0.2568 - total_loss: 11.7256 - val_root_mean_squared_error: 3.5766 - val_loss: 12.6205 - val_regularization_loss: 0.2024 - val_total_loss: 12.8229\n",
      "Epoch 4/20\n",
      "44/44 [==============================] - 11s 172ms/step - root_mean_squared_error: 3.3646 - loss: 11.3305 - regularization_loss: 0.2126 - total_loss: 11.5432 - val_root_mean_squared_error: 3.6111 - val_loss: 12.8547 - val_regularization_loss: 0.1860 - val_total_loss: 13.0407\n",
      "Epoch 5/20\n",
      "44/44 [==============================] - 12s 195ms/step - root_mean_squared_error: 3.3445 - loss: 11.1936 - regularization_loss: 0.1797 - total_loss: 11.3733 - val_root_mean_squared_error: 3.6148 - val_loss: 12.9452 - val_regularization_loss: 0.1572 - val_total_loss: 13.1024\n",
      "Epoch 6/20\n",
      "44/44 [==============================] - 11s 164ms/step - root_mean_squared_error: 3.3321 - loss: 11.1114 - regularization_loss: 0.1590 - total_loss: 11.2704 - val_root_mean_squared_error: 3.6164 - val_loss: 12.9610 - val_regularization_loss: 0.1464 - val_total_loss: 13.1074\n",
      "Epoch 7/20\n",
      "44/44 [==============================] - 12s 178ms/step - root_mean_squared_error: 3.3184 - loss: 11.0166 - regularization_loss: 0.1591 - total_loss: 11.1757 - val_root_mean_squared_error: 3.6231 - val_loss: 12.9293 - val_regularization_loss: 0.1466 - val_total_loss: 13.0759\n",
      "Epoch 8/20\n",
      "44/44 [==============================] - 12s 194ms/step - root_mean_squared_error: 3.3006 - loss: 10.9013 - regularization_loss: 0.1582 - total_loss: 11.0595 - val_root_mean_squared_error: 3.6361 - val_loss: 13.0936 - val_regularization_loss: 0.1595 - val_total_loss: 13.2531\n",
      "Epoch 9/20\n",
      "44/44 [==============================] - 11s 188ms/step - root_mean_squared_error: 3.2827 - loss: 10.7938 - regularization_loss: 0.1702 - total_loss: 10.9641 - val_root_mean_squared_error: 3.6419 - val_loss: 13.0797 - val_regularization_loss: 0.1737 - val_total_loss: 13.2534\n",
      "Epoch 10/20\n",
      "44/44 [==============================] - 12s 181ms/step - root_mean_squared_error: 3.2655 - loss: 10.6694 - regularization_loss: 0.1788 - total_loss: 10.8482 - val_root_mean_squared_error: 3.6561 - val_loss: 13.2539 - val_regularization_loss: 0.1755 - val_total_loss: 13.4294\n",
      "Epoch 11/20\n",
      "44/44 [==============================] - 11s 189ms/step - root_mean_squared_error: 3.2504 - loss: 10.5694 - regularization_loss: 0.1747 - total_loss: 10.7441 - val_root_mean_squared_error: 3.6625 - val_loss: 13.2233 - val_regularization_loss: 0.1714 - val_total_loss: 13.3946\n",
      "Epoch 12/20\n",
      "44/44 [==============================] - 11s 165ms/step - root_mean_squared_error: 3.2351 - loss: 10.4678 - regularization_loss: 0.1786 - total_loss: 10.6464 - val_root_mean_squared_error: 3.6701 - val_loss: 13.3091 - val_regularization_loss: 0.1769 - val_total_loss: 13.4860\n",
      "Epoch 13/20\n",
      "44/44 [==============================] - 11s 166ms/step - root_mean_squared_error: 3.2197 - loss: 10.3720 - regularization_loss: 0.1825 - total_loss: 10.5545 - val_root_mean_squared_error: 3.6869 - val_loss: 13.4538 - val_regularization_loss: 0.1834 - val_total_loss: 13.6372\n",
      "Epoch 14/20\n",
      "44/44 [==============================] - 11s 185ms/step - root_mean_squared_error: 3.2044 - loss: 10.2699 - regularization_loss: 0.1928 - total_loss: 10.4627 - val_root_mean_squared_error: 3.6836 - val_loss: 13.4427 - val_regularization_loss: 0.1903 - val_total_loss: 13.6330\n",
      "Epoch 15/20\n",
      "44/44 [==============================] - 11s 175ms/step - root_mean_squared_error: 3.1889 - loss: 10.1739 - regularization_loss: 0.1991 - total_loss: 10.3730 - val_root_mean_squared_error: 3.7006 - val_loss: 13.5562 - val_regularization_loss: 0.2010 - val_total_loss: 13.7573\n",
      "Epoch 16/20\n",
      "44/44 [==============================] - 10s 166ms/step - root_mean_squared_error: 3.1748 - loss: 10.0739 - regularization_loss: 0.2082 - total_loss: 10.2820 - val_root_mean_squared_error: 3.7085 - val_loss: 13.6170 - val_regularization_loss: 0.2141 - val_total_loss: 13.8311\n",
      "Epoch 17/20\n",
      "44/44 [==============================] - 11s 164ms/step - root_mean_squared_error: 3.1630 - loss: 9.9988 - regularization_loss: 0.2207 - total_loss: 10.2196 - val_root_mean_squared_error: 3.7193 - val_loss: 13.7032 - val_regularization_loss: 0.2271 - val_total_loss: 13.9303\n",
      "Epoch 18/20\n",
      "44/44 [==============================] - 11s 175ms/step - root_mean_squared_error: 3.1532 - loss: 9.9389 - regularization_loss: 0.2301 - total_loss: 10.1690 - val_root_mean_squared_error: 3.7245 - val_loss: 13.7462 - val_regularization_loss: 0.2326 - val_total_loss: 13.9789\n",
      "Epoch 19/20\n",
      "44/44 [==============================] - 10s 163ms/step - root_mean_squared_error: 3.1476 - loss: 9.9158 - regularization_loss: 0.2341 - total_loss: 10.1499 - val_root_mean_squared_error: 3.7269 - val_loss: 13.7665 - val_regularization_loss: 0.2348 - val_total_loss: 14.0013\n",
      "Epoch 20/20\n",
      "44/44 [==============================] - 11s 163ms/step - root_mean_squared_error: 3.1450 - loss: 9.8882 - regularization_loss: 0.2350 - total_loss: 10.1232 - val_root_mean_squared_error: 3.7276 - val_loss: 13.7708 - val_regularization_loss: 0.2351 - val_total_loss: 14.0059\n"
     ]
    },
    {
     "data": {
      "text/plain": "<keras.callbacks.History at 0x16b771a90>"
     },
     "execution_count": 41,
     "metadata": {},
     "output_type": "execute_result"
    }
   ],
   "source": [
    "import tensorflow as tf\n",
    "\n",
    "from dataset import train_test_split, squash_user_ids\n",
    "from ranking_nn import scale_dataset, BXRankingModel, RankingModel\n",
    "\n",
    "dataset = f_ratings_wide.drop(columns=['Book-Title', 'Location'])\n",
    "new_to_orig_user_id, orig_to_new_user_id = squash_user_ids(dataset)\n",
    "\n",
    "train, test = train_test_split(scale_dataset(dataset))\n",
    "\n",
    "rating_model = RankingModel(f_ratings_wide, l2_regularization=0.1, embedding_dimensions={\n",
    "    'User-ID': 32,\n",
    "    # 'Book-Title': 32,\n",
    "    'ISBN': 32,\n",
    "    'Book-Author': 10,\n",
    "    'Publisher': 5,\n",
    "    'City': 10,\n",
    "    'State': 7,\n",
    "    'Country': 5,\n",
    "\n",
    "})\n",
    "\n",
    "model = BXRankingModel(rating_model)\n",
    "\n",
    "tf.random.set_seed(42)\n",
    "\n",
    "batch_size = 4096\n",
    "epochs = 20\n",
    "\n",
    "model.compile(\n",
    "    optimizer=tf.keras.optimizers.Adam(learning_rate=tf.keras.optimizers.schedules.CosineDecay(0.01, epochs*len(train) //batch_size)),\n",
    "\n",
    ")\n",
    "\n",
    "print('Test loss before training:', np.mean([model.compute_loss(batch) for batch in test.batch(batch_size)]))\n",
    "\n",
    "model.fit(\n",
    "    train.shuffle(len(train)).batch(batch_size),\n",
    "    validation_data=test.batch(batch_size),  # todo change to val dataset\n",
    "    epochs=epochs,\n",
    ")\n"
   ],
   "metadata": {
    "collapsed": false
   }
  },
  {
   "cell_type": "code",
   "execution_count": 44,
   "outputs": [
    {
     "name": "stderr",
     "output_type": "stream",
     "text": [
      "2023-09-04 22:28:59.471840: I tensorflow/core/common_runtime/executor.cc:1197] [/device:CPU:0] (DEBUG INFO) Executor start aborting (this does not indicate an error and you can ignore this message): INVALID_ARGUMENT: You must feed a value for placeholder tensor 'Placeholder/_4' with dtype string and shape [224170]\n",
      "\t [[{{node Placeholder/_4}}]]\n",
      "2023-09-04 22:28:59.474077: I tensorflow/core/common_runtime/executor.cc:1197] [/device:CPU:0] (DEBUG INFO) Executor start aborting (this does not indicate an error and you can ignore this message): INVALID_ARGUMENT: You must feed a value for placeholder tensor 'Placeholder/_1' with dtype string and shape [224170]\n",
      "\t [[{{node Placeholder/_1}}]]\n"
     ]
    },
    {
     "name": "stdout",
     "output_type": "stream",
     "text": [
      "Test loss before training: 21.34957\n",
      "Epoch 1/20\n"
     ]
    },
    {
     "name": "stderr",
     "output_type": "stream",
     "text": [
      "2023-09-04 22:29:04.062854: I tensorflow/core/common_runtime/executor.cc:1197] [/device:CPU:0] (DEBUG INFO) Executor start aborting (this does not indicate an error and you can ignore this message): INVALID_ARGUMENT: You must feed a value for placeholder tensor 'Placeholder/_1' with dtype string and shape [224170]\n",
      "\t [[{{node Placeholder/_1}}]]\n",
      "2023-09-04 22:29:04.063695: I tensorflow/core/common_runtime/executor.cc:1197] [/device:CPU:0] (DEBUG INFO) Executor start aborting (this does not indicate an error and you can ignore this message): INVALID_ARGUMENT: You must feed a value for placeholder tensor 'Placeholder/_8' with dtype int64 and shape [224170]\n",
      "\t [[{{node Placeholder/_8}}]]\n"
     ]
    },
    {
     "name": "stdout",
     "output_type": "stream",
     "text": [
      "44/44 [==============================] - ETA: 0s - root_mean_squared_error: 3.7560 - loss: 14.1021 - regularization_loss: 1.0495 - total_loss: 15.1517"
     ]
    },
    {
     "name": "stderr",
     "output_type": "stream",
     "text": [
      "2023-09-04 22:29:14.269896: I tensorflow/core/common_runtime/executor.cc:1197] [/device:CPU:0] (DEBUG INFO) Executor start aborting (this does not indicate an error and you can ignore this message): INVALID_ARGUMENT: You must feed a value for placeholder tensor 'Placeholder/_2' with dtype int64 and shape [224170]\n",
      "\t [[{{node Placeholder/_2}}]]\n",
      "2023-09-04 22:29:14.271872: I tensorflow/core/common_runtime/executor.cc:1197] [/device:CPU:0] (DEBUG INFO) Executor start aborting (this does not indicate an error and you can ignore this message): INVALID_ARGUMENT: You must feed a value for placeholder tensor 'Placeholder/_3' with dtype string and shape [224170]\n",
      "\t [[{{node Placeholder/_3}}]]\n"
     ]
    },
    {
     "name": "stdout",
     "output_type": "stream",
     "text": [
      "44/44 [==============================] - 14s 181ms/step - root_mean_squared_error: 3.7560 - loss: 14.0792 - regularization_loss: 1.0392 - total_loss: 15.1184 - val_root_mean_squared_error: 3.5864 - val_loss: 12.5866 - val_regularization_loss: 0.5733 - val_total_loss: 13.1598\n",
      "Epoch 2/20\n",
      "44/44 [==============================] - 12s 198ms/step - root_mean_squared_error: 3.4304 - loss: 11.7833 - regularization_loss: 0.4522 - total_loss: 12.2355 - val_root_mean_squared_error: 3.5939 - val_loss: 12.6730 - val_regularization_loss: 0.3582 - val_total_loss: 13.0312\n",
      "Epoch 3/20\n",
      "44/44 [==============================] - 12s 189ms/step - root_mean_squared_error: 3.3560 - loss: 11.2771 - regularization_loss: 0.3437 - total_loss: 11.6209 - val_root_mean_squared_error: 3.5949 - val_loss: 12.7275 - val_regularization_loss: 0.2843 - val_total_loss: 13.0119\n",
      "Epoch 4/20\n",
      "44/44 [==============================] - 12s 212ms/step - root_mean_squared_error: 3.2954 - loss: 10.8730 - regularization_loss: 0.3062 - total_loss: 11.1791 - val_root_mean_squared_error: 3.6585 - val_loss: 13.1857 - val_regularization_loss: 0.2714 - val_total_loss: 13.4570\n",
      "Epoch 5/20\n",
      "44/44 [==============================] - 10s 153ms/step - root_mean_squared_error: 3.2290 - loss: 10.4347 - regularization_loss: 0.3002 - total_loss: 10.7349 - val_root_mean_squared_error: 3.6751 - val_loss: 13.2702 - val_regularization_loss: 0.2912 - val_total_loss: 13.5614\n",
      "Epoch 6/20\n",
      "44/44 [==============================] - 10s 151ms/step - root_mean_squared_error: 3.1491 - loss: 9.9272 - regularization_loss: 0.3353 - total_loss: 10.2624 - val_root_mean_squared_error: 3.7030 - val_loss: 13.4979 - val_regularization_loss: 0.3192 - val_total_loss: 13.8171\n",
      "Epoch 7/20\n",
      "44/44 [==============================] - 10s 158ms/step - root_mean_squared_error: 3.0629 - loss: 9.3960 - regularization_loss: 0.3557 - total_loss: 9.7516 - val_root_mean_squared_error: 3.7800 - val_loss: 13.9892 - val_regularization_loss: 0.3335 - val_total_loss: 14.3228\n",
      "Epoch 8/20\n",
      "44/44 [==============================] - 10s 157ms/step - root_mean_squared_error: 2.9702 - loss: 8.8388 - regularization_loss: 0.3656 - total_loss: 9.2044 - val_root_mean_squared_error: 3.8329 - val_loss: 14.5508 - val_regularization_loss: 0.3505 - val_total_loss: 14.9013\n",
      "Epoch 9/20\n",
      "44/44 [==============================] - 10s 149ms/step - root_mean_squared_error: 2.8644 - loss: 8.2216 - regularization_loss: 0.3783 - total_loss: 8.6000 - val_root_mean_squared_error: 3.9055 - val_loss: 15.0728 - val_regularization_loss: 0.3694 - val_total_loss: 15.4422\n",
      "Epoch 10/20\n",
      "44/44 [==============================] - 10s 157ms/step - root_mean_squared_error: 2.7531 - loss: 7.5863 - regularization_loss: 0.3918 - total_loss: 7.9781 - val_root_mean_squared_error: 3.9544 - val_loss: 15.3956 - val_regularization_loss: 0.3805 - val_total_loss: 15.7761\n",
      "Epoch 11/20\n",
      "44/44 [==============================] - 11s 177ms/step - root_mean_squared_error: 2.6515 - loss: 7.0420 - regularization_loss: 0.4033 - total_loss: 7.4453 - val_root_mean_squared_error: 4.0571 - val_loss: 16.1410 - val_regularization_loss: 0.4016 - val_total_loss: 16.5426\n",
      "Epoch 12/20\n",
      "44/44 [==============================] - 10s 162ms/step - root_mean_squared_error: 2.5539 - loss: 6.5293 - regularization_loss: 0.4150 - total_loss: 6.9443 - val_root_mean_squared_error: 4.1160 - val_loss: 16.7509 - val_regularization_loss: 0.4105 - val_total_loss: 17.1614\n",
      "Epoch 13/20\n",
      "44/44 [==============================] - 11s 180ms/step - root_mean_squared_error: 2.4657 - loss: 6.0859 - regularization_loss: 0.4243 - total_loss: 6.5101 - val_root_mean_squared_error: 4.1609 - val_loss: 17.0758 - val_regularization_loss: 0.4253 - val_total_loss: 17.5011\n",
      "Epoch 14/20\n",
      "44/44 [==============================] - 11s 171ms/step - root_mean_squared_error: 2.3911 - loss: 5.7245 - regularization_loss: 0.4347 - total_loss: 6.1591 - val_root_mean_squared_error: 4.1827 - val_loss: 17.2376 - val_regularization_loss: 0.4364 - val_total_loss: 17.6740\n",
      "Epoch 15/20\n",
      "44/44 [==============================] - 13s 197ms/step - root_mean_squared_error: 2.3271 - loss: 5.4157 - regularization_loss: 0.4430 - total_loss: 5.8587 - val_root_mean_squared_error: 4.2170 - val_loss: 17.5636 - val_regularization_loss: 0.4446 - val_total_loss: 18.0082\n",
      "Epoch 16/20\n",
      "44/44 [==============================] - 16s 278ms/step - root_mean_squared_error: 2.2756 - loss: 5.1757 - regularization_loss: 0.4502 - total_loss: 5.6259 - val_root_mean_squared_error: 4.2235 - val_loss: 17.5948 - val_regularization_loss: 0.4530 - val_total_loss: 18.0478\n",
      "Epoch 17/20\n",
      "44/44 [==============================] - 10s 166ms/step - root_mean_squared_error: 2.2387 - loss: 5.0111 - regularization_loss: 0.4556 - total_loss: 5.4667 - val_root_mean_squared_error: 4.2616 - val_loss: 17.9496 - val_regularization_loss: 0.4577 - val_total_loss: 18.4073\n",
      "Epoch 18/20\n",
      "44/44 [==============================] - 11s 182ms/step - root_mean_squared_error: 2.2122 - loss: 4.8940 - regularization_loss: 0.4590 - total_loss: 5.3530 - val_root_mean_squared_error: 4.2682 - val_loss: 18.0114 - val_regularization_loss: 0.4600 - val_total_loss: 18.4714\n",
      "Epoch 19/20\n",
      "44/44 [==============================] - 10s 172ms/step - root_mean_squared_error: 2.1967 - loss: 4.8227 - regularization_loss: 0.4607 - total_loss: 5.2834 - val_root_mean_squared_error: 4.2699 - val_loss: 18.0191 - val_regularization_loss: 0.4611 - val_total_loss: 18.4802\n",
      "Epoch 20/20\n",
      "44/44 [==============================] - 10s 166ms/step - root_mean_squared_error: 2.1902 - loss: 4.7998 - regularization_loss: 0.4612 - total_loss: 5.2610 - val_root_mean_squared_error: 4.2701 - val_loss: 18.0180 - val_regularization_loss: 0.4612 - val_total_loss: 18.4792\n"
     ]
    },
    {
     "data": {
      "text/plain": "<keras.callbacks.History at 0x169e1fd10>"
     },
     "execution_count": 44,
     "metadata": {},
     "output_type": "execute_result"
    }
   ],
   "source": [
    "import os\n",
    "os.environ['TF_CPP_MIN_LOG_LEVEL'] = '2'\n",
    "import tensorflow as tf\n",
    "\n",
    "\n",
    "from dataset import train_test_split, squash_user_ids\n",
    "from ranking_nn import scale_dataset, BXRankingModel, RankingModel\n",
    "\n",
    "dataset = f_ratings_wide.drop(columns=['Book-Title', 'Location'])\n",
    "new_to_orig_user_id, orig_to_new_user_id = squash_user_ids(dataset)\n",
    "\n",
    "train, test = train_test_split(scale_dataset(dataset))\n",
    "\n",
    "DROPOUT = 0.5\n",
    "L2 = 0.01\n",
    "\n",
    "rating_model = RankingModel(f_ratings_wide, l2_regularization=L2, dropout=DROPOUT, embedding_dimensions={\n",
    "    'User-ID': 32,\n",
    "    # 'Book-Title': 32,\n",
    "    'ISBN': 32,\n",
    "    'Book-Author': 10,\n",
    "    'Publisher': 5,\n",
    "    'City': 10,\n",
    "    'State': 7,\n",
    "    'Country': 5,\n",
    "\n",
    "})\n",
    "\n",
    "model = BXRankingModel(rating_model)\n",
    "\n",
    "tf.random.set_seed(42)\n",
    "\n",
    "batch_size = 4096\n",
    "epochs = 20\n",
    "\n",
    "model.compile(\n",
    "    optimizer=tf.keras.optimizers.Adam(learning_rate=tf.keras.optimizers.schedules.CosineDecay(0.01, epochs*len(train) //batch_size)),\n",
    ")\n",
    "\n",
    "print('Test loss before training:', np.mean([model.compute_loss(batch) for batch in test.batch(batch_size)]))\n",
    "\n",
    "model.fit(\n",
    "    train.shuffle(len(train)).batch(batch_size),\n",
    "    validation_data=test.batch(batch_size),  # todo change to val dataset\n",
    "    epochs=epochs,\n",
    ")\n"
   ],
   "metadata": {
    "collapsed": false
   }
  }
 ],
 "metadata": {
  "kernelspec": {
   "display_name": "Python 3",
   "language": "python",
   "name": "python3"
  },
  "language_info": {
   "codemirror_mode": {
    "name": "ipython",
    "version": 2
   },
   "file_extension": ".py",
   "mimetype": "text/x-python",
   "name": "python",
   "nbconvert_exporter": "python",
   "pygments_lexer": "ipython2",
   "version": "2.7.6"
  }
 },
 "nbformat": 4,
 "nbformat_minor": 0
}
